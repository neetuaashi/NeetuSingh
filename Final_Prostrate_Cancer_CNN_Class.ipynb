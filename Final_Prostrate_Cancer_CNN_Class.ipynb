{
  "cells": [
    {
      "cell_type": "markdown",
      "metadata": {
        "id": "view-in-github",
        "colab_type": "text"
      },
      "source": [
        "<a href=\"https://colab.research.google.com/github/neetuaashi/NeetuSingh/blob/master/Final_Prostrate_Cancer_CNN_Class.ipynb\" target=\"_parent\"><img src=\"https://colab.research.google.com/assets/colab-badge.svg\" alt=\"Open In Colab\"/></a>"
      ]
    },
    {
      "cell_type": "code",
      "execution_count": null,
      "metadata": {
        "id": "PFkVj-C2c7A6"
      },
      "outputs": [],
      "source": [
        "import numpy as np\n",
        "import pandas as pd\n",
        "import matplotlib.pyplot as plt\n",
        "import seaborn as sns"
      ]
    },
    {
      "cell_type": "code",
      "execution_count": null,
      "metadata": {
        "colab": {
          "base_uri": "https://localhost:8080/",
          "height": 301
        },
        "id": "nsWCZ3uWdLae",
        "outputId": "c974e5f1-80e3-4e6c-ac0e-35ed2e5d991b"
      },
      "outputs": [
        {
          "output_type": "execute_result",
          "data": {
            "text/plain": [
              "  PCA_STAGE  GSHG0000008  GSHG0000017  GSHG0000018  GSHG0000026  GSHG0000027  \\\n",
              "0      pT3a     7.604725      5.93074      9.28309     7.242785     7.005525   \n",
              "1       N_1     6.465740      6.08746      8.97728     7.531295     7.266755   \n",
              "2      pT3b     7.317235      6.58496      8.29002     7.139515     7.339600   \n",
              "3       N_2     6.445800      6.85798      8.85175     7.647455     7.503820   \n",
              "4      pT3a     7.021685      6.32193      8.47978     7.554565     7.441775   \n",
              "\n",
              "   GSHG0000029  GSHG0000033  GSHG0000035  GSHG0000036  ...  GSHG0051555  \\\n",
              "0      7.14975     9.247600     7.486895      7.33985  ...      6.59991   \n",
              "1      7.40939     9.919400     7.479640      7.62205  ...      9.45943   \n",
              "2      7.63662     9.137920     7.179600      7.15987  ...      6.37504   \n",
              "3      7.82655     9.880605     7.266755      7.43463  ...      7.46761   \n",
              "4      7.89482     9.462780     7.004740      7.05528  ...      6.33985   \n",
              "\n",
              "   GSHG0051559  GSHG0051578  GSHG0051581  GSHG0051588  GSHG0051591  \\\n",
              "0      7.21917     5.038410      6.37504      6.64386      7.33092   \n",
              "1      6.91886     5.101065      6.84549      5.93074      7.70044   \n",
              "2      7.41785     4.649605      7.14975      6.65821      7.49985   \n",
              "3      7.42626     5.409290      7.24793      6.20945      7.08746   \n",
              "4      7.15987     4.779210      6.94251      6.18982      7.62936   \n",
              "\n",
              "   GSHG0051597  GSHG0051601  GSHG0051602  Outcome  \n",
              "0     7.816270     8.062970      7.10852        2  \n",
              "1     8.787070     7.266755      7.37504        0  \n",
              "2     8.611960     7.751460      7.43463        3  \n",
              "3     9.476720     7.320545      7.24793        0  \n",
              "4     8.183205     6.766785      7.88264        2  \n",
              "\n",
              "[5 rows x 16204 columns]"
            ],
            "text/html": [
              "\n",
              "  <div id=\"df-890b6bd7-4ba4-41d3-859c-ba023c34fa7e\">\n",
              "    <div class=\"colab-df-container\">\n",
              "      <div>\n",
              "<style scoped>\n",
              "    .dataframe tbody tr th:only-of-type {\n",
              "        vertical-align: middle;\n",
              "    }\n",
              "\n",
              "    .dataframe tbody tr th {\n",
              "        vertical-align: top;\n",
              "    }\n",
              "\n",
              "    .dataframe thead th {\n",
              "        text-align: right;\n",
              "    }\n",
              "</style>\n",
              "<table border=\"1\" class=\"dataframe\">\n",
              "  <thead>\n",
              "    <tr style=\"text-align: right;\">\n",
              "      <th></th>\n",
              "      <th>PCA_STAGE</th>\n",
              "      <th>GSHG0000008</th>\n",
              "      <th>GSHG0000017</th>\n",
              "      <th>GSHG0000018</th>\n",
              "      <th>GSHG0000026</th>\n",
              "      <th>GSHG0000027</th>\n",
              "      <th>GSHG0000029</th>\n",
              "      <th>GSHG0000033</th>\n",
              "      <th>GSHG0000035</th>\n",
              "      <th>GSHG0000036</th>\n",
              "      <th>...</th>\n",
              "      <th>GSHG0051555</th>\n",
              "      <th>GSHG0051559</th>\n",
              "      <th>GSHG0051578</th>\n",
              "      <th>GSHG0051581</th>\n",
              "      <th>GSHG0051588</th>\n",
              "      <th>GSHG0051591</th>\n",
              "      <th>GSHG0051597</th>\n",
              "      <th>GSHG0051601</th>\n",
              "      <th>GSHG0051602</th>\n",
              "      <th>Outcome</th>\n",
              "    </tr>\n",
              "  </thead>\n",
              "  <tbody>\n",
              "    <tr>\n",
              "      <th>0</th>\n",
              "      <td>pT3a</td>\n",
              "      <td>7.604725</td>\n",
              "      <td>5.93074</td>\n",
              "      <td>9.28309</td>\n",
              "      <td>7.242785</td>\n",
              "      <td>7.005525</td>\n",
              "      <td>7.14975</td>\n",
              "      <td>9.247600</td>\n",
              "      <td>7.486895</td>\n",
              "      <td>7.33985</td>\n",
              "      <td>...</td>\n",
              "      <td>6.59991</td>\n",
              "      <td>7.21917</td>\n",
              "      <td>5.038410</td>\n",
              "      <td>6.37504</td>\n",
              "      <td>6.64386</td>\n",
              "      <td>7.33092</td>\n",
              "      <td>7.816270</td>\n",
              "      <td>8.062970</td>\n",
              "      <td>7.10852</td>\n",
              "      <td>2</td>\n",
              "    </tr>\n",
              "    <tr>\n",
              "      <th>1</th>\n",
              "      <td>N_1</td>\n",
              "      <td>6.465740</td>\n",
              "      <td>6.08746</td>\n",
              "      <td>8.97728</td>\n",
              "      <td>7.531295</td>\n",
              "      <td>7.266755</td>\n",
              "      <td>7.40939</td>\n",
              "      <td>9.919400</td>\n",
              "      <td>7.479640</td>\n",
              "      <td>7.62205</td>\n",
              "      <td>...</td>\n",
              "      <td>9.45943</td>\n",
              "      <td>6.91886</td>\n",
              "      <td>5.101065</td>\n",
              "      <td>6.84549</td>\n",
              "      <td>5.93074</td>\n",
              "      <td>7.70044</td>\n",
              "      <td>8.787070</td>\n",
              "      <td>7.266755</td>\n",
              "      <td>7.37504</td>\n",
              "      <td>0</td>\n",
              "    </tr>\n",
              "    <tr>\n",
              "      <th>2</th>\n",
              "      <td>pT3b</td>\n",
              "      <td>7.317235</td>\n",
              "      <td>6.58496</td>\n",
              "      <td>8.29002</td>\n",
              "      <td>7.139515</td>\n",
              "      <td>7.339600</td>\n",
              "      <td>7.63662</td>\n",
              "      <td>9.137920</td>\n",
              "      <td>7.179600</td>\n",
              "      <td>7.15987</td>\n",
              "      <td>...</td>\n",
              "      <td>6.37504</td>\n",
              "      <td>7.41785</td>\n",
              "      <td>4.649605</td>\n",
              "      <td>7.14975</td>\n",
              "      <td>6.65821</td>\n",
              "      <td>7.49985</td>\n",
              "      <td>8.611960</td>\n",
              "      <td>7.751460</td>\n",
              "      <td>7.43463</td>\n",
              "      <td>3</td>\n",
              "    </tr>\n",
              "    <tr>\n",
              "      <th>3</th>\n",
              "      <td>N_2</td>\n",
              "      <td>6.445800</td>\n",
              "      <td>6.85798</td>\n",
              "      <td>8.85175</td>\n",
              "      <td>7.647455</td>\n",
              "      <td>7.503820</td>\n",
              "      <td>7.82655</td>\n",
              "      <td>9.880605</td>\n",
              "      <td>7.266755</td>\n",
              "      <td>7.43463</td>\n",
              "      <td>...</td>\n",
              "      <td>7.46761</td>\n",
              "      <td>7.42626</td>\n",
              "      <td>5.409290</td>\n",
              "      <td>7.24793</td>\n",
              "      <td>6.20945</td>\n",
              "      <td>7.08746</td>\n",
              "      <td>9.476720</td>\n",
              "      <td>7.320545</td>\n",
              "      <td>7.24793</td>\n",
              "      <td>0</td>\n",
              "    </tr>\n",
              "    <tr>\n",
              "      <th>4</th>\n",
              "      <td>pT3a</td>\n",
              "      <td>7.021685</td>\n",
              "      <td>6.32193</td>\n",
              "      <td>8.47978</td>\n",
              "      <td>7.554565</td>\n",
              "      <td>7.441775</td>\n",
              "      <td>7.89482</td>\n",
              "      <td>9.462780</td>\n",
              "      <td>7.004740</td>\n",
              "      <td>7.05528</td>\n",
              "      <td>...</td>\n",
              "      <td>6.33985</td>\n",
              "      <td>7.15987</td>\n",
              "      <td>4.779210</td>\n",
              "      <td>6.94251</td>\n",
              "      <td>6.18982</td>\n",
              "      <td>7.62936</td>\n",
              "      <td>8.183205</td>\n",
              "      <td>6.766785</td>\n",
              "      <td>7.88264</td>\n",
              "      <td>2</td>\n",
              "    </tr>\n",
              "  </tbody>\n",
              "</table>\n",
              "<p>5 rows × 16204 columns</p>\n",
              "</div>\n",
              "      <button class=\"colab-df-convert\" onclick=\"convertToInteractive('df-890b6bd7-4ba4-41d3-859c-ba023c34fa7e')\"\n",
              "              title=\"Convert this dataframe to an interactive table.\"\n",
              "              style=\"display:none;\">\n",
              "        \n",
              "  <svg xmlns=\"http://www.w3.org/2000/svg\" height=\"24px\"viewBox=\"0 0 24 24\"\n",
              "       width=\"24px\">\n",
              "    <path d=\"M0 0h24v24H0V0z\" fill=\"none\"/>\n",
              "    <path d=\"M18.56 5.44l.94 2.06.94-2.06 2.06-.94-2.06-.94-.94-2.06-.94 2.06-2.06.94zm-11 1L8.5 8.5l.94-2.06 2.06-.94-2.06-.94L8.5 2.5l-.94 2.06-2.06.94zm10 10l.94 2.06.94-2.06 2.06-.94-2.06-.94-.94-2.06-.94 2.06-2.06.94z\"/><path d=\"M17.41 7.96l-1.37-1.37c-.4-.4-.92-.59-1.43-.59-.52 0-1.04.2-1.43.59L10.3 9.45l-7.72 7.72c-.78.78-.78 2.05 0 2.83L4 21.41c.39.39.9.59 1.41.59.51 0 1.02-.2 1.41-.59l7.78-7.78 2.81-2.81c.8-.78.8-2.07 0-2.86zM5.41 20L4 18.59l7.72-7.72 1.47 1.35L5.41 20z\"/>\n",
              "  </svg>\n",
              "      </button>\n",
              "      \n",
              "  <style>\n",
              "    .colab-df-container {\n",
              "      display:flex;\n",
              "      flex-wrap:wrap;\n",
              "      gap: 12px;\n",
              "    }\n",
              "\n",
              "    .colab-df-convert {\n",
              "      background-color: #E8F0FE;\n",
              "      border: none;\n",
              "      border-radius: 50%;\n",
              "      cursor: pointer;\n",
              "      display: none;\n",
              "      fill: #1967D2;\n",
              "      height: 32px;\n",
              "      padding: 0 0 0 0;\n",
              "      width: 32px;\n",
              "    }\n",
              "\n",
              "    .colab-df-convert:hover {\n",
              "      background-color: #E2EBFA;\n",
              "      box-shadow: 0px 1px 2px rgba(60, 64, 67, 0.3), 0px 1px 3px 1px rgba(60, 64, 67, 0.15);\n",
              "      fill: #174EA6;\n",
              "    }\n",
              "\n",
              "    [theme=dark] .colab-df-convert {\n",
              "      background-color: #3B4455;\n",
              "      fill: #D2E3FC;\n",
              "    }\n",
              "\n",
              "    [theme=dark] .colab-df-convert:hover {\n",
              "      background-color: #434B5C;\n",
              "      box-shadow: 0px 1px 3px 1px rgba(0, 0, 0, 0.15);\n",
              "      filter: drop-shadow(0px 1px 2px rgba(0, 0, 0, 0.3));\n",
              "      fill: #FFFFFF;\n",
              "    }\n",
              "  </style>\n",
              "\n",
              "      <script>\n",
              "        const buttonEl =\n",
              "          document.querySelector('#df-890b6bd7-4ba4-41d3-859c-ba023c34fa7e button.colab-df-convert');\n",
              "        buttonEl.style.display =\n",
              "          google.colab.kernel.accessAllowed ? 'block' : 'none';\n",
              "\n",
              "        async function convertToInteractive(key) {\n",
              "          const element = document.querySelector('#df-890b6bd7-4ba4-41d3-859c-ba023c34fa7e');\n",
              "          const dataTable =\n",
              "            await google.colab.kernel.invokeFunction('convertToInteractive',\n",
              "                                                     [key], {});\n",
              "          if (!dataTable) return;\n",
              "\n",
              "          const docLinkHtml = 'Like what you see? Visit the ' +\n",
              "            '<a target=\"_blank\" href=https://colab.research.google.com/notebooks/data_table.ipynb>data table notebook</a>'\n",
              "            + ' to learn more about interactive tables.';\n",
              "          element.innerHTML = '';\n",
              "          dataTable['output_type'] = 'display_data';\n",
              "          await google.colab.output.renderOutput(dataTable, element);\n",
              "          const docLink = document.createElement('div');\n",
              "          docLink.innerHTML = docLinkHtml;\n",
              "          element.appendChild(docLink);\n",
              "        }\n",
              "      </script>\n",
              "    </div>\n",
              "  </div>\n",
              "  "
            ]
          },
          "metadata": {},
          "execution_count": 2
        }
      ],
      "source": [
        "train_data = pd.read_excel('/content/drive/MyDrive/PCA_STAGE_BASED_CLASSIFICATION.xlsx')\n",
        "train_data.head()"
      ]
    },
    {
      "cell_type": "markdown",
      "metadata": {
        "id": "-UUyiGGwfJjh"
      },
      "source": [
        "Data Wrangling"
      ]
    },
    {
      "cell_type": "code",
      "execution_count": null,
      "metadata": {
        "colab": {
          "base_uri": "https://localhost:8080/"
        },
        "id": "XyW12AfTfKVe",
        "outputId": "6a981080-9598-4086-a7d4-2bcab7381da3"
      },
      "outputs": [
        {
          "output_type": "execute_result",
          "data": {
            "text/plain": [
              "PCA_STAGE      0\n",
              "GSHG0000008    0\n",
              "GSHG0000017    0\n",
              "GSHG0000018    0\n",
              "GSHG0000026    0\n",
              "              ..\n",
              "GSHG0051591    0\n",
              "GSHG0051597    0\n",
              "GSHG0051601    0\n",
              "GSHG0051602    0\n",
              "Outcome        0\n",
              "Length: 16204, dtype: int64"
            ]
          },
          "metadata": {},
          "execution_count": 3
        }
      ],
      "source": [
        "train_data.isnull().sum()"
      ]
    },
    {
      "cell_type": "code",
      "execution_count": null,
      "metadata": {
        "id": "_TZDE4dwCQkn"
      },
      "outputs": [],
      "source": [
        "\n",
        "train_data = train_data.drop(['PCA_STAGE'], axis = 1)"
      ]
    },
    {
      "cell_type": "code",
      "execution_count": null,
      "metadata": {
        "colab": {
          "base_uri": "https://localhost:8080/"
        },
        "id": "mDl8HYp7ue5E",
        "outputId": "77dd8849-5902-4c83-970e-53177a548126"
      },
      "outputs": [
        {
          "output_type": "execute_result",
          "data": {
            "text/plain": [
              "(137, 16203)"
            ]
          },
          "metadata": {},
          "execution_count": 5
        }
      ],
      "source": [
        "train_data.shape"
      ]
    },
    {
      "cell_type": "code",
      "execution_count": null,
      "metadata": {
        "id": "Pzp23l_Nw9Ym"
      },
      "outputs": [],
      "source": [
        "train_data['Outcome'] = train_data['Outcome'].astype('int')\n"
      ]
    },
    {
      "cell_type": "code",
      "execution_count": null,
      "metadata": {
        "colab": {
          "base_uri": "https://localhost:8080/",
          "height": 645
        },
        "id": "mCgeHMuXwqVu",
        "outputId": "5e7d92a6-8f05-4a4c-c6d3-e6ff79699a1d"
      },
      "outputs": [
        {
          "output_type": "execute_result",
          "data": {
            "text/plain": [
              "<seaborn.axisgrid.FacetGrid at 0x7f88c0f808e0>"
            ]
          },
          "metadata": {},
          "execution_count": 7
        },
        {
          "output_type": "display_data",
          "data": {
            "text/plain": [
              "<Figure size 600x600 with 1 Axes>"
            ],
            "image/png": "[encoded data removed]"
          },
          "metadata": {}
        }
      ],
      "source": [
        "# Display counts of classes\n",
        "sns.catplot(x = 'Outcome', kind = \"count\", data = train_data, height = 6)"
      ]
    },
    {
      "cell_type": "code",
      "execution_count": null,
      "metadata": {
        "colab": {
          "base_uri": "https://localhost:8080/"
        },
        "id": "3K4pzGJbxj60",
        "outputId": "1d735737-0db7-4946-8a56-65bc6c465d0b"
      },
      "outputs": [
        {
          "output_type": "execute_result",
          "data": {
            "text/plain": [
              "2    55\n",
              "1    36\n",
              "3    24\n",
              "4    13\n",
              "0     9\n",
              "Name: Outcome, dtype: int64"
            ]
          },
          "metadata": {},
          "execution_count": 8
        }
      ],
      "source": [
        "train_data['Outcome'].value_counts()"
      ]
    },
    {
      "cell_type": "code",
      "execution_count": null,
      "metadata": {
        "id": "cDMrr9VOyAzG"
      },
      "outputs": [],
      "source": [
        "# Splitting data into classes\n",
        "df_0 = train_data[train_data['Outcome'] == 0]\n",
        "df_1 = train_data[train_data['Outcome'] == 1]\n",
        "df_2 = train_data[train_data['Outcome'] == 2]\n",
        "df_3 = train_data[train_data['Outcome'] == 3]\n",
        "df_4 = train_data[train_data['Outcome'] == 4]"
      ]
    },
    {
      "cell_type": "code",
      "execution_count": null,
      "metadata": {
        "id": "M7zD5k4fzNh0"
      },
      "outputs": [],
      "source": [
        "# Resample using \"Bootstrapping\" method to regenerate samples by upsampling for each class.\n",
        "from sklearn.utils import resample"
      ]
    },
    {
      "cell_type": "code",
      "execution_count": null,
      "metadata": {
        "id": "Brfkn0Z4yd-a"
      },
      "outputs": [],
      "source": [
        "df_0_upsample = resample(df_0, n_samples = 100, replace = True, random_state = 123)\n",
        "df_1_upsample = resample(df_1, n_samples = 100, replace = True, random_state = 123)\n",
        "df_2_upsample = resample(df_2, n_samples = 100, replace = True, random_state = 123)\n",
        "df_3_upsample = resample(df_3, n_samples = 100, replace = True, random_state = 123)\n",
        "df_4_upsample = resample(df_4, n_samples = 100, replace = True, random_state = 123)"
      ]
    },
    {
      "cell_type": "code",
      "execution_count": null,
      "metadata": {
        "id": "ejJ76tJIza2f"
      },
      "outputs": [],
      "source": [
        "# Merge all dataframes to create new train samples\n",
        "train_df = pd.concat([df_0_upsample, df_1_upsample, df_2_upsample, df_3_upsample, df_4_upsample])"
      ]
    },
    {
      "cell_type": "code",
      "execution_count": null,
      "metadata": {
        "id": "XxfXkF_VzfRR",
        "colab": {
          "base_uri": "https://localhost:8080/"
        },
        "outputId": "4c93df72-55a8-4eee-d1f6-0f5043f7edbe"
      },
      "outputs": [
        {
          "output_type": "execute_result",
          "data": {
            "text/plain": [
              "0    100\n",
              "1    100\n",
              "2    100\n",
              "3    100\n",
              "4    100\n",
              "Name: Outcome, dtype: int64"
            ]
          },
          "metadata": {},
          "execution_count": 13
        }
      ],
      "source": [
        "train_df['Outcome'].value_counts()"
      ]
    },
    {
      "cell_type": "code",
      "execution_count": null,
      "metadata": {
        "id": "ZogEe81L0QTn",
        "colab": {
          "base_uri": "https://localhost:8080/",
          "height": 828
        },
        "outputId": "f525d506-a42e-4e86-f014-1b998b1deb14"
      },
      "outputs": [
        {
          "output_type": "display_data",
          "data": {
            "text/plain": [
              "<Figure size 1000x1000 with 1 Axes>"
            ],
            "image/png": "[encoded data removed]"
          },
          "metadata": {}
        }
      ],
      "source": [
        "plt.style.use('ggplot')\n",
        "plt.figure(figsize=(10,10))\n",
        "my_circle = plt.Circle((0,0), 0.7, color = 'white')\n",
        "plt.pie(train_df['Outcome'].value_counts(), labels = ['Normal','pT2a/b/c','pT3a',\n",
        "                                                  'pT3b/pT4', 'HR'], autopct = '%0.0f%%')\n",
        "p = plt.gcf()\n",
        "p.gca().add_artist(my_circle)\n",
        "plt.show()"
      ]
    },
    {
      "cell_type": "code",
      "execution_count": null,
      "metadata": {
        "id": "ARNZOePe60fB"
      },
      "outputs": [],
      "source": [
        "X = train_df.drop('Outcome', axis = 1)\n",
        "Y = train_df['Outcome']"
      ]
    },
    {
      "cell_type": "code",
      "execution_count": null,
      "metadata": {
        "id": "SU_g9Sv169UC"
      },
      "outputs": [],
      "source": [
        "from sklearn.model_selection import train_test_split\n",
        "# spliting of training & test is 80% to 20% ratio\n",
        "x_train, x_test, y_train, y_test = train_test_split(X, Y, test_size = 0.2, random_state = 2)"
      ]
    },
    {
      "cell_type": "code",
      "execution_count": null,
      "metadata": {
        "id": "gvDWp-3T8H_R",
        "colab": {
          "base_uri": "https://localhost:8080/"
        },
        "outputId": "2136b736-c880-44f4-c5ca-12896cad783c"
      },
      "outputs": [
        {
          "output_type": "execute_result",
          "data": {
            "text/plain": [
              "(400, 16202)"
            ]
          },
          "metadata": {},
          "execution_count": 17
        }
      ],
      "source": [
        "x_train.shape"
      ]
    },
    {
      "cell_type": "code",
      "execution_count": null,
      "metadata": {
        "id": "PjDgwozm8Q2C",
        "colab": {
          "base_uri": "https://localhost:8080/"
        },
        "outputId": "38f3a5b4-2c36-40a5-aaa8-efc6eaecdacd"
      },
      "outputs": [
        {
          "output_type": "execute_result",
          "data": {
            "text/plain": [
              "(100, 16202)"
            ]
          },
          "metadata": {},
          "execution_count": 18
        }
      ],
      "source": [
        "x_test.shape"
      ]
    },
    {
      "cell_type": "code",
      "execution_count": null,
      "metadata": {
        "id": "TsbYPLjl4y6f"
      },
      "outputs": [],
      "source": [
        "from keras.utils.np_utils import to_categorical"
      ]
    },
    {
      "cell_type": "code",
      "execution_count": null,
      "metadata": {
        "id": "vM3tYFTN41pr"
      },
      "outputs": [],
      "source": [
        "y_train = to_categorical(y_train)"
      ]
    },
    {
      "cell_type": "code",
      "execution_count": null,
      "metadata": {
        "id": "BMzUvU-E6O_s",
        "colab": {
          "base_uri": "https://localhost:8080/"
        },
        "outputId": "47da60a1-d189-4b8a-9c3d-0cbd6979b88d"
      },
      "outputs": [
        {
          "output_type": "execute_result",
          "data": {
            "text/plain": [
              "array([[0., 0., 0., 0., 1.],\n",
              "       [0., 0., 0., 0., 1.],\n",
              "       [1., 0., 0., 0., 0.],\n",
              "       ...,\n",
              "       [0., 0., 0., 0., 1.],\n",
              "       [1., 0., 0., 0., 0.],\n",
              "       [0., 1., 0., 0., 0.]], dtype=float32)"
            ]
          },
          "metadata": {},
          "execution_count": 21
        }
      ],
      "source": [
        "y_train"
      ]
    },
    {
      "cell_type": "code",
      "execution_count": null,
      "metadata": {
        "id": "CUXjtEfU5OjR"
      },
      "outputs": [],
      "source": [
        "y_test = to_categorical(y_test)"
      ]
    },
    {
      "cell_type": "code",
      "execution_count": null,
      "metadata": {
        "id": "Tlz6Ga-s4_Yv",
        "colab": {
          "base_uri": "https://localhost:8080/"
        },
        "outputId": "9dd6f56c-d46f-49a2-aa52-4b69cbcdc8bd"
      },
      "outputs": [
        {
          "output_type": "execute_result",
          "data": {
            "text/plain": [
              "array([[0., 1., 0., 0., 0.],\n",
              "       [0., 0., 1., 0., 0.],\n",
              "       [0., 0., 0., 0., 1.],\n",
              "       [0., 0., 0., 1., 0.],\n",
              "       [0., 0., 1., 0., 0.],\n",
              "       [0., 0., 0., 0., 1.],\n",
              "       [1., 0., 0., 0., 0.],\n",
              "       [0., 0., 0., 0., 1.],\n",
              "       [0., 0., 0., 1., 0.],\n",
              "       [0., 0., 0., 1., 0.],\n",
              "       [0., 0., 0., 0., 1.],\n",
              "       [0., 0., 0., 1., 0.],\n",
              "       [0., 1., 0., 0., 0.],\n",
              "       [0., 1., 0., 0., 0.],\n",
              "       [0., 0., 0., 1., 0.],\n",
              "       [0., 1., 0., 0., 0.],\n",
              "       [0., 0., 0., 1., 0.],\n",
              "       [0., 0., 0., 0., 1.],\n",
              "       [0., 0., 0., 1., 0.],\n",
              "       [0., 1., 0., 0., 0.],\n",
              "       [0., 0., 0., 0., 1.],\n",
              "       [1., 0., 0., 0., 0.],\n",
              "       [0., 0., 1., 0., 0.],\n",
              "       [0., 0., 0., 1., 0.],\n",
              "       [1., 0., 0., 0., 0.],\n",
              "       [0., 1., 0., 0., 0.],\n",
              "       [1., 0., 0., 0., 0.],\n",
              "       [0., 0., 0., 1., 0.],\n",
              "       [0., 0., 0., 0., 1.],\n",
              "       [1., 0., 0., 0., 0.],\n",
              "       [0., 1., 0., 0., 0.],\n",
              "       [0., 0., 1., 0., 0.],\n",
              "       [0., 0., 0., 1., 0.],\n",
              "       [0., 1., 0., 0., 0.],\n",
              "       [0., 0., 1., 0., 0.],\n",
              "       [0., 1., 0., 0., 0.],\n",
              "       [0., 1., 0., 0., 0.],\n",
              "       [0., 0., 0., 1., 0.],\n",
              "       [0., 0., 1., 0., 0.],\n",
              "       [0., 0., 0., 1., 0.],\n",
              "       [0., 0., 1., 0., 0.],\n",
              "       [1., 0., 0., 0., 0.],\n",
              "       [0., 0., 0., 0., 1.],\n",
              "       [1., 0., 0., 0., 0.],\n",
              "       [1., 0., 0., 0., 0.],\n",
              "       [0., 0., 0., 0., 1.],\n",
              "       [0., 0., 0., 0., 1.],\n",
              "       [0., 0., 1., 0., 0.],\n",
              "       [0., 1., 0., 0., 0.],\n",
              "       [0., 0., 0., 0., 1.],\n",
              "       [0., 0., 0., 0., 1.],\n",
              "       [0., 0., 1., 0., 0.],\n",
              "       [0., 0., 1., 0., 0.],\n",
              "       [0., 0., 1., 0., 0.],\n",
              "       [0., 0., 0., 0., 1.],\n",
              "       [0., 0., 0., 0., 1.],\n",
              "       [1., 0., 0., 0., 0.],\n",
              "       [1., 0., 0., 0., 0.],\n",
              "       [0., 0., 0., 0., 1.],\n",
              "       [0., 0., 0., 1., 0.],\n",
              "       [0., 0., 0., 0., 1.],\n",
              "       [0., 0., 1., 0., 0.],\n",
              "       [0., 1., 0., 0., 0.],\n",
              "       [0., 0., 1., 0., 0.],\n",
              "       [0., 0., 0., 0., 1.],\n",
              "       [0., 0., 1., 0., 0.],\n",
              "       [0., 0., 1., 0., 0.],\n",
              "       [1., 0., 0., 0., 0.],\n",
              "       [1., 0., 0., 0., 0.],\n",
              "       [0., 0., 0., 1., 0.],\n",
              "       [1., 0., 0., 0., 0.],\n",
              "       [1., 0., 0., 0., 0.],\n",
              "       [0., 0., 0., 1., 0.],\n",
              "       [0., 1., 0., 0., 0.],\n",
              "       [0., 0., 0., 1., 0.],\n",
              "       [0., 1., 0., 0., 0.],\n",
              "       [1., 0., 0., 0., 0.],\n",
              "       [1., 0., 0., 0., 0.],\n",
              "       [0., 0., 0., 0., 1.],\n",
              "       [0., 0., 0., 0., 1.],\n",
              "       [0., 0., 0., 0., 1.],\n",
              "       [0., 0., 1., 0., 0.],\n",
              "       [0., 0., 0., 1., 0.],\n",
              "       [1., 0., 0., 0., 0.],\n",
              "       [0., 1., 0., 0., 0.],\n",
              "       [0., 1., 0., 0., 0.],\n",
              "       [0., 0., 1., 0., 0.],\n",
              "       [0., 0., 0., 0., 1.],\n",
              "       [1., 0., 0., 0., 0.],\n",
              "       [0., 0., 1., 0., 0.],\n",
              "       [1., 0., 0., 0., 0.],\n",
              "       [1., 0., 0., 0., 0.],\n",
              "       [0., 0., 0., 0., 1.],\n",
              "       [0., 1., 0., 0., 0.],\n",
              "       [0., 0., 1., 0., 0.],\n",
              "       [0., 0., 0., 1., 0.],\n",
              "       [0., 1., 0., 0., 0.],\n",
              "       [0., 0., 0., 0., 1.],\n",
              "       [0., 0., 0., 1., 0.],\n",
              "       [0., 1., 0., 0., 0.]], dtype=float32)"
            ]
          },
          "metadata": {},
          "execution_count": 23
        }
      ],
      "source": [
        "y_test"
      ]
    },
    {
      "cell_type": "code",
      "execution_count": null,
      "metadata": {
        "id": "iSsJrwuuAsDz",
        "colab": {
          "base_uri": "https://localhost:8080/"
        },
        "outputId": "abe29e04-3e38-48a4-eadd-e84b7702c3e8"
      },
      "outputs": [
        {
          "output_type": "execute_result",
          "data": {
            "text/plain": [
              "(400, 16201)"
            ]
          },
          "metadata": {},
          "execution_count": 24
        }
      ],
      "source": [
        "x_train = x_train.iloc[:, :-1].values\n",
        "x_test = x_test.iloc[:, :-1].values\n",
        "\n",
        "x_train.shape"
      ]
    },
    {
      "cell_type": "code",
      "execution_count": null,
      "metadata": {
        "id": "nOTAR3aqBIt2"
      },
      "outputs": [],
      "source": [
        "x_train = x_train.reshape(len(x_train), x_train.shape[1], 1)\n",
        "x_test = x_test.reshape(len(x_test), x_test.shape[1], 1)"
      ]
    },
    {
      "cell_type": "code",
      "execution_count": null,
      "metadata": {
        "id": "ARefEvtkBNCG"
      },
      "outputs": [],
      "source": [
        "x_train = x_train.reshape(x_train.shape[0],x_train.shape[1], 1)\n",
        "x_test = x_test.reshape( x_test.shape[0],x_train.shape[1], 1)"
      ]
    },
    {
      "cell_type": "code",
      "execution_count": null,
      "metadata": {
        "id": "7UPPzIX-BRKm",
        "colab": {
          "base_uri": "https://localhost:8080/"
        },
        "outputId": "c1e4d2ce-db34-45f1-85b8-c987396a2355"
      },
      "outputs": [
        {
          "output_type": "execute_result",
          "data": {
            "text/plain": [
              "(400, 16201, 1)"
            ]
          },
          "metadata": {},
          "execution_count": 27
        }
      ],
      "source": [
        "x_train.shape"
      ]
    },
    {
      "cell_type": "code",
      "execution_count": null,
      "metadata": {
        "id": "dsBJ7gOqBVUY",
        "colab": {
          "base_uri": "https://localhost:8080/"
        },
        "outputId": "9d1bf477-3de5-4d9d-9543-7c9f64ed6cd5"
      },
      "outputs": [
        {
          "output_type": "execute_result",
          "data": {
            "text/plain": [
              "array([[7.03136 ],\n",
              "       [7.11894 ],\n",
              "       [8.89482 ],\n",
              "       ...,\n",
              "       [7.29462 ],\n",
              "       [6.25736 ],\n",
              "       [8.201625]])"
            ]
          },
          "metadata": {},
          "execution_count": 28
        }
      ],
      "source": [
        "x_train [0]"
      ]
    },
    {
      "cell_type": "code",
      "execution_count": null,
      "metadata": {
        "id": "Qeu9mAvUBdmV",
        "colab": {
          "base_uri": "https://localhost:8080/"
        },
        "outputId": "228cffa0-cfe7-4505-83d3-079acc48e1c5"
      },
      "outputs": [
        {
          "output_type": "execute_result",
          "data": {
            "text/plain": [
              "(100, 16201, 1)"
            ]
          },
          "metadata": {},
          "execution_count": 29
        }
      ],
      "source": [
        "x_test.shape"
      ]
    },
    {
      "cell_type": "markdown",
      "metadata": {
        "id": "Od7RU0t7BlN3"
      },
      "source": [
        "CNN 1D"
      ]
    },
    {
      "cell_type": "code",
      "execution_count": null,
      "metadata": {
        "id": "j7Yz275MBp-o"
      },
      "outputs": [],
      "source": [
        "from keras.models import Sequential\n",
        "from keras.layers import Dense\n",
        "\n",
        "from tensorflow.keras.layers import Conv1D, MaxPooling1D, Flatten\n",
        "from tensorflow.keras.optimizers import Adam\n",
        "# Avoid Overfitting of NN by Normalizing the samples\n",
        "from tensorflow.keras.layers import BatchNormalization"
      ]
    },
    {
      "cell_type": "code",
      "execution_count": null,
      "metadata": {
        "id": "Qiru8y2GBt8N",
        "colab": {
          "base_uri": "https://localhost:8080/"
        },
        "outputId": "e236767b-f47d-4e7a-e489-4b606b1b1158"
      },
      "outputs": [
        {
          "output_type": "stream",
          "name": "stdout",
          "text": [
            "Model: \"sequential\"\n",
            "_________________________________________________________________\n",
            " Layer (type)                Output Shape              Param #   \n",
            "=================================================================\n",
            " conv1d (Conv1D)             (None, 16201, 64)         384       \n",
            "                                                                 \n",
            " batch_normalization (BatchN  (None, 16201, 64)        256       \n",
            " ormalization)                                                   \n",
            "                                                                 \n",
            " max_pooling1d (MaxPooling1D  (None, 8101, 64)         0         \n",
            " )                                                               \n",
            "                                                                 \n",
            " conv1d_1 (Conv1D)           (None, 8101, 64)          20544     \n",
            "                                                                 \n",
            " batch_normalization_1 (Batc  (None, 8101, 64)         256       \n",
            " hNormalization)                                                 \n",
            "                                                                 \n",
            " max_pooling1d_1 (MaxPooling  (None, 4051, 64)         0         \n",
            " 1D)                                                             \n",
            "                                                                 \n",
            " conv1d_2 (Conv1D)           (None, 4051, 64)          20544     \n",
            "                                                                 \n",
            " batch_normalization_2 (Batc  (None, 4051, 64)         256       \n",
            " hNormalization)                                                 \n",
            "                                                                 \n",
            " max_pooling1d_2 (MaxPooling  (None, 2026, 64)         0         \n",
            " 1D)                                                             \n",
            "                                                                 \n",
            " conv1d_3 (Conv1D)           (None, 2026, 64)          20544     \n",
            "                                                                 \n",
            " batch_normalization_3 (Batc  (None, 2026, 64)         256       \n",
            " hNormalization)                                                 \n",
            "                                                                 \n",
            " max_pooling1d_3 (MaxPooling  (None, 1013, 64)         0         \n",
            " 1D)                                                             \n",
            "                                                                 \n",
            " conv1d_4 (Conv1D)           (None, 1013, 64)          20544     \n",
            "                                                                 \n",
            " batch_normalization_4 (Batc  (None, 1013, 64)         256       \n",
            " hNormalization)                                                 \n",
            "                                                                 \n",
            " max_pooling1d_4 (MaxPooling  (None, 507, 64)          0         \n",
            " 1D)                                                             \n",
            "                                                                 \n",
            " flatten (Flatten)           (None, 32448)             0         \n",
            "                                                                 \n",
            " dense (Dense)               (None, 64)                2076736   \n",
            "                                                                 \n",
            " dense_1 (Dense)             (None, 64)                4160      \n",
            "                                                                 \n",
            " dense_2 (Dense)             (None, 5)                 325       \n",
            "                                                                 \n",
            "=================================================================\n",
            "Total params: 2,165,061\n",
            "Trainable params: 2,164,421\n",
            "Non-trainable params: 640\n",
            "_________________________________________________________________\n"
          ]
        }
      ],
      "source": [
        "def build_model():\n",
        "    model = Sequential()\n",
        "    # Filters = No. of Neurons\n",
        "    # Padding = 'same' : Zero Padding; Padding = 'valid' : valid padding\n",
        "    model.add(Conv1D(filters = 64, kernel_size = 5, activation = 'relu', padding = 'same', input_shape = (16201,1)))\n",
        "    # BatchNormalization to avoid overfitting\n",
        "    model.add(BatchNormalization())\n",
        "    # Pooling\n",
        "    model.add(MaxPooling1D(pool_size=(2), strides=(2), padding='same'))\n",
        "\n",
        "    # Conv Layer - II\n",
        "    model.add(Conv1D(filters = 64, kernel_size = 5, activation = 'relu', padding = 'same'))\n",
        "    model.add(BatchNormalization())\n",
        "    model.add(MaxPooling1D(pool_size=(2), strides=(2), padding='same'))\n",
        "\n",
        "    # Conv Layer - III\n",
        "    model.add(Conv1D(filters = 64, kernel_size = 5, activation = 'relu', padding = 'same'))\n",
        "    model.add(BatchNormalization())\n",
        "    model.add(MaxPooling1D(pool_size=(2), strides=(2), padding='same'))\n",
        "\n",
        "    # Conv Layer - IV\n",
        "    model.add(Conv1D(filters = 64, kernel_size = 5, activation = 'relu', padding = 'same'))\n",
        "    model.add(BatchNormalization())\n",
        "    model.add(MaxPooling1D(pool_size=(2), strides=(2), padding='same'))\n",
        "\n",
        "    # Conv Layer -V\n",
        "    model.add(Conv1D(filters = 64, kernel_size = 5, activation = 'relu', padding = 'same'))\n",
        "    model.add(BatchNormalization())\n",
        "    model.add(MaxPooling1D(pool_size=(2), strides=(2), padding='same'))\n",
        "\n",
        "    # Flatten\n",
        "    model.add(Flatten())\n",
        "\n",
        "    # Fully Connected Layer (FC - Layer)\n",
        "    model.add(Dense(units = 64, activation='relu'))\n",
        "    # Hidden Layer\n",
        "    model.add(Dense(units = 64, activation='relu'))\n",
        "    # Output Layer\n",
        "    model.add(Dense(units = 5, activation='softmax'))\n",
        "\n",
        "    # loss = 'categorical_crossentropy'\n",
        "    model.compile(optimizer = 'Adam', loss = 'categorical_crossentropy', metrics = ['accuracy'])\n",
        "\n",
        "    return model\n",
        "\n",
        "model = build_model()\n",
        "\n",
        "model.summary()"
      ]
    },
    {
      "cell_type": "code",
      "source": [
        "# save best model\n",
        "from tensorflow.keras import callbacks\n",
        "filepath = '/content/drive/MyDrive/Prostrate_Model.hdf5'\n",
        "\n",
        "checkpoint = callbacks.ModelCheckpoint(filepath, monitor='val_loss', save_best_only=True,\n",
        "                                       mode = 'min', verbose = 1)\n",
        "checkpoint\n"
      ],
      "metadata": {
        "id": "mY7r8euLSByb",
        "colab": {
          "base_uri": "https://localhost:8080/"
        },
        "outputId": "7c97df70-1619-43fb-ec1e-67f0d13a70bd"
      },
      "execution_count": null,
      "outputs": [
        {
          "output_type": "execute_result",
          "data": {
            "text/plain": [
              "<keras.callbacks.ModelCheckpoint at 0x7f885c7158a0>"
            ]
          },
          "metadata": {},
          "execution_count": 32
        }
      ]
    },
    {
      "cell_type": "code",
      "source": [
        "import os\n",
        "import datetime\n",
        "from tensorflow import keras\n",
        "logdir = os.path.join(\"/content/drive/MyDrive/Prostrate_Model_logs\", datetime.datetime.now().strftime(\"%Y%m%d-%H%M%S\"))\n",
        "tensorboard_callback = keras.callbacks.TensorBoard(logdir)"
      ],
      "metadata": {
        "id": "vZI6BM69HEHz"
      },
      "execution_count": null,
      "outputs": []
    },
    {
      "cell_type": "code",
      "execution_count": null,
      "metadata": {
        "id": "6vbgGvjIB8XG",
        "colab": {
          "base_uri": "https://localhost:8080/"
        },
        "outputId": "058d9706-13ae-48c6-f59a-fb529a1bf2ea"
      },
      "outputs": [
        {
          "output_type": "stream",
          "name": "stdout",
          "text": [
            "Epoch 1/16\n",
            "40/40 [==============================] - 17s 50ms/step - loss: 2.3392 - accuracy: 0.4425 - val_loss: 1.8390 - val_accuracy: 0.1900\n",
            "Epoch 2/16\n",
            "40/40 [==============================] - 1s 37ms/step - loss: 0.6777 - accuracy: 0.7225 - val_loss: 8.6774 - val_accuracy: 0.2000\n",
            "Epoch 3/16\n",
            "40/40 [==============================] - 1s 35ms/step - loss: 0.1482 - accuracy: 0.9525 - val_loss: 14.6013 - val_accuracy: 0.2000\n",
            "Epoch 4/16\n",
            "40/40 [==============================] - 1s 35ms/step - loss: 0.0677 - accuracy: 0.9700 - val_loss: 10.9221 - val_accuracy: 0.2000\n",
            "Epoch 5/16\n",
            "40/40 [==============================] - 1s 36ms/step - loss: 0.0317 - accuracy: 0.9925 - val_loss: 1.6893 - val_accuracy: 0.3700\n",
            "Epoch 6/16\n",
            "40/40 [==============================] - 1s 34ms/step - loss: 0.0070 - accuracy: 0.9975 - val_loss: 1.1485 - val_accuracy: 0.4900\n",
            "Epoch 7/16\n",
            "40/40 [==============================] - 1s 36ms/step - loss: 0.0296 - accuracy: 0.9875 - val_loss: 0.6136 - val_accuracy: 0.8300\n",
            "Epoch 8/16\n",
            "40/40 [==============================] - 1s 36ms/step - loss: 0.0355 - accuracy: 0.9875 - val_loss: 0.6488 - val_accuracy: 0.6900\n",
            "Epoch 9/16\n",
            "40/40 [==============================] - 1s 34ms/step - loss: 0.0026 - accuracy: 1.0000 - val_loss: 0.1384 - val_accuracy: 0.9700\n",
            "Epoch 10/16\n",
            "40/40 [==============================] - 1s 37ms/step - loss: 5.6687e-04 - accuracy: 1.0000 - val_loss: 0.0507 - val_accuracy: 0.9800\n",
            "Epoch 11/16\n",
            "40/40 [==============================] - 1s 37ms/step - loss: 2.7510e-04 - accuracy: 1.0000 - val_loss: 0.0463 - val_accuracy: 0.9800\n",
            "Epoch 12/16\n",
            "40/40 [==============================] - 1s 36ms/step - loss: 2.3338e-04 - accuracy: 1.0000 - val_loss: 0.0421 - val_accuracy: 0.9800\n",
            "Epoch 13/16\n",
            "40/40 [==============================] - 1s 36ms/step - loss: 1.9662e-04 - accuracy: 1.0000 - val_loss: 0.0409 - val_accuracy: 0.9800\n",
            "Epoch 14/16\n",
            "40/40 [==============================] - 1s 37ms/step - loss: 1.6585e-04 - accuracy: 1.0000 - val_loss: 0.0386 - val_accuracy: 0.9800\n",
            "Epoch 15/16\n",
            "40/40 [==============================] - 2s 42ms/step - loss: 1.4372e-04 - accuracy: 1.0000 - val_loss: 0.0369 - val_accuracy: 0.9800\n",
            "Epoch 16/16\n",
            "40/40 [==============================] - 2s 39ms/step - loss: 1.3105e-04 - accuracy: 1.0000 - val_loss: 0.0353 - val_accuracy: 0.9800\n"
          ]
        }
      ],
      "source": [
        "history = model.fit(x_train, y_train, epochs = 16, batch_size = 10, validation_data = (x_test, y_test))"
      ]
    },
    {
      "cell_type": "code",
      "execution_count": null,
      "metadata": {
        "id": "sUTfWQtjEOYq",
        "colab": {
          "base_uri": "https://localhost:8080/",
          "height": 576
        },
        "outputId": "fada1312-729c-4e3a-e6ab-ce2ae94ed727"
      },
      "outputs": [
        {
          "output_type": "execute_result",
          "data": {
            "text/plain": [
              "        loss  accuracy   val_loss  val_accuracy\n",
              "0   2.339224    0.4425   1.838969          0.19\n",
              "1   0.677682    0.7225   8.677404          0.20\n",
              "2   0.148168    0.9525  14.601324          0.20\n",
              "3   0.067705    0.9700  10.922053          0.20\n",
              "4   0.031696    0.9925   1.689284          0.37\n",
              "5   0.007018    0.9975   1.148484          0.49\n",
              "6   0.029557    0.9875   0.613563          0.83\n",
              "7   0.035547    0.9875   0.648836          0.69\n",
              "8   0.002642    1.0000   0.138383          0.97\n",
              "9   0.000567    1.0000   0.050654          0.98\n",
              "10  0.000275    1.0000   0.046319          0.98\n",
              "11  0.000233    1.0000   0.042135          0.98\n",
              "12  0.000197    1.0000   0.040932          0.98\n",
              "13  0.000166    1.0000   0.038554          0.98\n",
              "14  0.000144    1.0000   0.036870          0.98\n",
              "15  0.000131    1.0000   0.035250          0.98"
            ],
            "text/html": [
              "\n",
              "  <div id=\"df-5cfaad00-2524-49c6-a7db-9fd26b69f017\">\n",
              "    <div class=\"colab-df-container\">\n",
              "      <div>\n",
              "<style scoped>\n",
              "    .dataframe tbody tr th:only-of-type {\n",
              "        vertical-align: middle;\n",
              "    }\n",
              "\n",
              "    .dataframe tbody tr th {\n",
              "        vertical-align: top;\n",
              "    }\n",
              "\n",
              "    .dataframe thead th {\n",
              "        text-align: right;\n",
              "    }\n",
              "</style>\n",
              "<table border=\"1\" class=\"dataframe\">\n",
              "  <thead>\n",
              "    <tr style=\"text-align: right;\">\n",
              "      <th></th>\n",
              "      <th>loss</th>\n",
              "      <th>accuracy</th>\n",
              "      <th>val_loss</th>\n",
              "      <th>val_accuracy</th>\n",
              "    </tr>\n",
              "  </thead>\n",
              "  <tbody>\n",
              "    <tr>\n",
              "      <th>0</th>\n",
              "      <td>2.339224</td>\n",
              "      <td>0.4425</td>\n",
              "      <td>1.838969</td>\n",
              "      <td>0.19</td>\n",
              "    </tr>\n",
              "    <tr>\n",
              "      <th>1</th>\n",
              "      <td>0.677682</td>\n",
              "      <td>0.7225</td>\n",
              "      <td>8.677404</td>\n",
              "      <td>0.20</td>\n",
              "    </tr>\n",
              "    <tr>\n",
              "      <th>2</th>\n",
              "      <td>0.148168</td>\n",
              "      <td>0.9525</td>\n",
              "      <td>14.601324</td>\n",
              "      <td>0.20</td>\n",
              "    </tr>\n",
              "    <tr>\n",
              "      <th>3</th>\n",
              "      <td>0.067705</td>\n",
              "      <td>0.9700</td>\n",
              "      <td>10.922053</td>\n",
              "      <td>0.20</td>\n",
              "    </tr>\n",
              "    <tr>\n",
              "      <th>4</th>\n",
              "      <td>0.031696</td>\n",
              "      <td>0.9925</td>\n",
              "      <td>1.689284</td>\n",
              "      <td>0.37</td>\n",
              "    </tr>\n",
              "    <tr>\n",
              "      <th>5</th>\n",
              "      <td>0.007018</td>\n",
              "      <td>0.9975</td>\n",
              "      <td>1.148484</td>\n",
              "      <td>0.49</td>\n",
              "    </tr>\n",
              "    <tr>\n",
              "      <th>6</th>\n",
              "      <td>0.029557</td>\n",
              "      <td>0.9875</td>\n",
              "      <td>0.613563</td>\n",
              "      <td>0.83</td>\n",
              "    </tr>\n",
              "    <tr>\n",
              "      <th>7</th>\n",
              "      <td>0.035547</td>\n",
              "      <td>0.9875</td>\n",
              "      <td>0.648836</td>\n",
              "      <td>0.69</td>\n",
              "    </tr>\n",
              "    <tr>\n",
              "      <th>8</th>\n",
              "      <td>0.002642</td>\n",
              "      <td>1.0000</td>\n",
              "      <td>0.138383</td>\n",
              "      <td>0.97</td>\n",
              "    </tr>\n",
              "    <tr>\n",
              "      <th>9</th>\n",
              "      <td>0.000567</td>\n",
              "      <td>1.0000</td>\n",
              "      <td>0.050654</td>\n",
              "      <td>0.98</td>\n",
              "    </tr>\n",
              "    <tr>\n",
              "      <th>10</th>\n",
              "      <td>0.000275</td>\n",
              "      <td>1.0000</td>\n",
              "      <td>0.046319</td>\n",
              "      <td>0.98</td>\n",
              "    </tr>\n",
              "    <tr>\n",
              "      <th>11</th>\n",
              "      <td>0.000233</td>\n",
              "      <td>1.0000</td>\n",
              "      <td>0.042135</td>\n",
              "      <td>0.98</td>\n",
              "    </tr>\n",
              "    <tr>\n",
              "      <th>12</th>\n",
              "      <td>0.000197</td>\n",
              "      <td>1.0000</td>\n",
              "      <td>0.040932</td>\n",
              "      <td>0.98</td>\n",
              "    </tr>\n",
              "    <tr>\n",
              "      <th>13</th>\n",
              "      <td>0.000166</td>\n",
              "      <td>1.0000</td>\n",
              "      <td>0.038554</td>\n",
              "      <td>0.98</td>\n",
              "    </tr>\n",
              "    <tr>\n",
              "      <th>14</th>\n",
              "      <td>0.000144</td>\n",
              "      <td>1.0000</td>\n",
              "      <td>0.036870</td>\n",
              "      <td>0.98</td>\n",
              "    </tr>\n",
              "    <tr>\n",
              "      <th>15</th>\n",
              "      <td>0.000131</td>\n",
              "      <td>1.0000</td>\n",
              "      <td>0.035250</td>\n",
              "      <td>0.98</td>\n",
              "    </tr>\n",
              "  </tbody>\n",
              "</table>\n",
              "</div>\n",
              "      <button class=\"colab-df-convert\" onclick=\"convertToInteractive('df-5cfaad00-2524-49c6-a7db-9fd26b69f017')\"\n",
              "              title=\"Convert this dataframe to an interactive table.\"\n",
              "              style=\"display:none;\">\n",
              "        \n",
              "  <svg xmlns=\"http://www.w3.org/2000/svg\" height=\"24px\"viewBox=\"0 0 24 24\"\n",
              "       width=\"24px\">\n",
              "    <path d=\"M0 0h24v24H0V0z\" fill=\"none\"/>\n",
              "    <path d=\"M18.56 5.44l.94 2.06.94-2.06 2.06-.94-2.06-.94-.94-2.06-.94 2.06-2.06.94zm-11 1L8.5 8.5l.94-2.06 2.06-.94-2.06-.94L8.5 2.5l-.94 2.06-2.06.94zm10 10l.94 2.06.94-2.06 2.06-.94-2.06-.94-.94-2.06-.94 2.06-2.06.94z\"/><path d=\"M17.41 7.96l-1.37-1.37c-.4-.4-.92-.59-1.43-.59-.52 0-1.04.2-1.43.59L10.3 9.45l-7.72 7.72c-.78.78-.78 2.05 0 2.83L4 21.41c.39.39.9.59 1.41.59.51 0 1.02-.2 1.41-.59l7.78-7.78 2.81-2.81c.8-.78.8-2.07 0-2.86zM5.41 20L4 18.59l7.72-7.72 1.47 1.35L5.41 20z\"/>\n",
              "  </svg>\n",
              "      </button>\n",
              "      \n",
              "  <style>\n",
              "    .colab-df-container {\n",
              "      display:flex;\n",
              "      flex-wrap:wrap;\n",
              "      gap: 12px;\n",
              "    }\n",
              "\n",
              "    .colab-df-convert {\n",
              "      background-color: #E8F0FE;\n",
              "      border: none;\n",
              "      border-radius: 50%;\n",
              "      cursor: pointer;\n",
              "      display: none;\n",
              "      fill: #1967D2;\n",
              "      height: 32px;\n",
              "      padding: 0 0 0 0;\n",
              "      width: 32px;\n",
              "    }\n",
              "\n",
              "    .colab-df-convert:hover {\n",
              "      background-color: #E2EBFA;\n",
              "      box-shadow: 0px 1px 2px rgba(60, 64, 67, 0.3), 0px 1px 3px 1px rgba(60, 64, 67, 0.15);\n",
              "      fill: #174EA6;\n",
              "    }\n",
              "\n",
              "    [theme=dark] .colab-df-convert {\n",
              "      background-color: #3B4455;\n",
              "      fill: #D2E3FC;\n",
              "    }\n",
              "\n",
              "    [theme=dark] .colab-df-convert:hover {\n",
              "      background-color: #434B5C;\n",
              "      box-shadow: 0px 1px 3px 1px rgba(0, 0, 0, 0.15);\n",
              "      filter: drop-shadow(0px 1px 2px rgba(0, 0, 0, 0.3));\n",
              "      fill: #FFFFFF;\n",
              "    }\n",
              "  </style>\n",
              "\n",
              "      <script>\n",
              "        const buttonEl =\n",
              "          document.querySelector('#df-5cfaad00-2524-49c6-a7db-9fd26b69f017 button.colab-df-convert');\n",
              "        buttonEl.style.display =\n",
              "          google.colab.kernel.accessAllowed ? 'block' : 'none';\n",
              "\n",
              "        async function convertToInteractive(key) {\n",
              "          const element = document.querySelector('#df-5cfaad00-2524-49c6-a7db-9fd26b69f017');\n",
              "          const dataTable =\n",
              "            await google.colab.kernel.invokeFunction('convertToInteractive',\n",
              "                                                     [key], {});\n",
              "          if (!dataTable) return;\n",
              "\n",
              "          const docLinkHtml = 'Like what you see? Visit the ' +\n",
              "            '<a target=\"_blank\" href=https://colab.research.google.com/notebooks/data_table.ipynb>data table notebook</a>'\n",
              "            + ' to learn more about interactive tables.';\n",
              "          element.innerHTML = '';\n",
              "          dataTable['output_type'] = 'display_data';\n",
              "          await google.colab.output.renderOutput(dataTable, element);\n",
              "          const docLink = document.createElement('div');\n",
              "          docLink.innerHTML = docLinkHtml;\n",
              "          element.appendChild(docLink);\n",
              "        }\n",
              "      </script>\n",
              "    </div>\n",
              "  </div>\n",
              "  "
            ]
          },
          "metadata": {},
          "execution_count": 35
        }
      ],
      "source": [
        "pd.DataFrame(history.history)"
      ]
    },
    {
      "cell_type": "code",
      "execution_count": null,
      "metadata": {
        "id": "fkhbJ7ZQERHP",
        "colab": {
          "base_uri": "https://localhost:8080/",
          "height": 468
        },
        "outputId": "020466ff-d9bc-4e77-dca6-9eccb7fbe706"
      },
      "outputs": [
        {
          "output_type": "execute_result",
          "data": {
            "text/plain": [
              "<Axes: >"
            ]
          },
          "metadata": {},
          "execution_count": 36
        },
        {
          "output_type": "display_data",
          "data": {
            "text/plain": [
              "<Figure size 640x480 with 1 Axes>"
            ],
            "image/png": "[encoded data removed]"
          },
          "metadata": {}
        }
      ],
      "source": [
        "pd.DataFrame(history.history)[['accuracy', 'val_accuracy']].plot()"
      ]
    },
    {
      "cell_type": "code",
      "execution_count": null,
      "metadata": {
        "id": "DgM7uR7uEVdw",
        "colab": {
          "base_uri": "https://localhost:8080/",
          "height": 468
        },
        "outputId": "3b28b3f2-0b84-49e3-dae3-01c763d4edf0"
      },
      "outputs": [
        {
          "output_type": "execute_result",
          "data": {
            "text/plain": [
              "<Axes: >"
            ]
          },
          "metadata": {},
          "execution_count": 37
        },
        {
          "output_type": "display_data",
          "data": {
            "text/plain": [
              "<Figure size 640x480 with 1 Axes>"
            ],
            "image/png": "[encoded data removed]"
          },
          "metadata": {}
        }
      ],
      "source": [
        "pd.DataFrame(history.history)[['loss','val_loss']].plot()"
      ]
    },
    {
      "cell_type": "code",
      "execution_count": null,
      "metadata": {
        "id": "6h7ehspPEYlo"
      },
      "outputs": [],
      "source": [
        "# Classification Report"
      ]
    },
    {
      "cell_type": "code",
      "execution_count": null,
      "metadata": {
        "id": "Gh1qad8vEbWU",
        "colab": {
          "base_uri": "https://localhost:8080/"
        },
        "outputId": "bba2d8f6-422b-4366-e52e-f3af25c6e1b0"
      },
      "outputs": [
        {
          "output_type": "stream",
          "name": "stdout",
          "text": [
            "4/4 [==============================] - 1s 76ms/step - loss: 0.0353 - accuracy: 0.9800\n"
          ]
        },
        {
          "output_type": "execute_result",
          "data": {
            "text/plain": [
              "[0.035250432789325714, 0.9800000190734863]"
            ]
          },
          "metadata": {},
          "execution_count": 39
        }
      ],
      "source": [
        "model.evaluate(x_test, y_test)"
      ]
    },
    {
      "cell_type": "code",
      "execution_count": null,
      "metadata": {
        "id": "9yoYSFiXEfs6",
        "colab": {
          "base_uri": "https://localhost:8080/"
        },
        "outputId": "c259bbb8-8217-4ccd-9013-5a3ec39b5923"
      },
      "outputs": [
        {
          "output_type": "stream",
          "name": "stdout",
          "text": [
            "4/4 [==============================] - 1s 30ms/step\n"
          ]
        }
      ],
      "source": [
        "# Make Prediction\n",
        "predict = model.predict(x_test)"
      ]
    },
    {
      "cell_type": "code",
      "execution_count": null,
      "metadata": {
        "id": "2Vu1YvbBEi0p",
        "colab": {
          "base_uri": "https://localhost:8080/"
        },
        "outputId": "d8412136-a99c-4a18-e7fb-d54ecce0da1a"
      },
      "outputs": [
        {
          "output_type": "execute_result",
          "data": {
            "text/plain": [
              "array([[4.66868878e-05, 9.99867082e-01, 6.65110492e-05, 1.90165756e-05,\n",
              "        6.40797907e-07],\n",
              "       [1.38520145e-05, 8.63178447e-02, 9.12861884e-01, 6.69644622e-04,\n",
              "        1.36822229e-04],\n",
              "       [5.42304290e-09, 6.77304388e-06, 3.01043514e-07, 1.19482487e-04,\n",
              "        9.99873400e-01],\n",
              "       [5.24342831e-05, 2.53490430e-06, 4.93913249e-05, 9.99893546e-01,\n",
              "        2.11063843e-06],\n",
              "       [3.25617566e-06, 1.95244356e-04, 9.99790370e-01, 3.65408232e-06,\n",
              "        7.55248175e-06],\n",
              "       [4.14394352e-11, 6.84931422e-07, 7.24529201e-08, 2.81164484e-05,\n",
              "        9.99971151e-01],\n",
              "       [9.99809206e-01, 7.25887367e-05, 6.59566067e-05, 5.23037561e-05,\n",
              "        1.05664730e-08],\n",
              "       [9.92932314e-08, 7.97000936e-08, 2.61552806e-08, 3.48365313e-04,\n",
              "        9.99651432e-01],\n",
              "       [7.05610603e-07, 1.70867992e-04, 1.99321308e-04, 9.99590337e-01,\n",
              "        3.86772153e-05],\n",
              "       [5.77704329e-10, 2.96025149e-07, 6.52742223e-04, 9.99346316e-01,\n",
              "        7.50268043e-07],\n",
              "       [7.04063075e-09, 8.45553643e-07, 3.95169491e-06, 1.21318171e-05,\n",
              "        9.99983072e-01],\n",
              "       [3.10858894e-07, 2.69980774e-07, 7.79068785e-07, 9.99998093e-01,\n",
              "        5.04291393e-07],\n",
              "       [5.26260465e-06, 9.99673724e-01, 3.16903985e-04, 3.25904853e-06,\n",
              "        7.93180789e-07],\n",
              "       [2.90589524e-05, 9.99425292e-01, 5.36437554e-04, 8.09594258e-06,\n",
              "        1.12329269e-06],\n",
              "       [5.75439935e-06, 6.28478956e-05, 6.72693641e-05, 9.99849439e-01,\n",
              "        1.46398488e-05],\n",
              "       [2.90589524e-05, 9.99425292e-01, 5.36437554e-04, 8.09594258e-06,\n",
              "        1.12329269e-06],\n",
              "       [1.85003887e-06, 6.74869909e-07, 4.56585003e-05, 9.99950528e-01,\n",
              "        1.34420281e-06],\n",
              "       [2.41489023e-10, 4.36873315e-10, 9.50963197e-10, 1.50119672e-06,\n",
              "        9.99998450e-01],\n",
              "       [1.85003887e-06, 6.74869909e-07, 4.56585003e-05, 9.99950528e-01,\n",
              "        1.34420281e-06],\n",
              "       [2.90589524e-05, 9.99425292e-01, 5.36437554e-04, 8.09594258e-06,\n",
              "        1.12329269e-06],\n",
              "       [4.38822978e-10, 3.51217118e-08, 4.57828904e-08, 4.80242161e-05,\n",
              "        9.99951839e-01],\n",
              "       [9.99686837e-01, 7.83389041e-05, 1.57823360e-05, 2.19161928e-04,\n",
              "        2.08463078e-08],\n",
              "       [1.07914582e-06, 1.17283880e-05, 9.99981046e-01, 5.94216365e-09,\n",
              "        6.24515587e-06],\n",
              "       [1.71318504e-12, 4.23106494e-10, 1.43269901e-07, 9.99999762e-01,\n",
              "        1.26910123e-07],\n",
              "       [9.99727070e-01, 9.91950874e-05, 1.03790022e-04, 6.99875527e-05,\n",
              "        2.47256438e-08],\n",
              "       [2.52441305e-06, 9.98604476e-01, 1.37452036e-03, 1.74818579e-05,\n",
              "        1.10568203e-06],\n",
              "       [9.99892354e-01, 3.62467945e-05, 1.42408353e-05, 5.71181045e-05,\n",
              "        9.60076729e-09],\n",
              "       [1.70597460e-07, 2.22345989e-05, 2.35804710e-05, 9.99935627e-01,\n",
              "        1.83640841e-05],\n",
              "       [4.24679597e-11, 5.84617688e-09, 1.36082292e-08, 1.94568493e-05,\n",
              "        9.99980569e-01],\n",
              "       [9.99884486e-01, 3.92310139e-05, 1.84344026e-05, 5.78335603e-05,\n",
              "        1.90508409e-08],\n",
              "       [1.68045244e-06, 9.99402523e-01, 4.71287844e-04, 1.23409249e-04,\n",
              "        1.09807900e-06],\n",
              "       [4.91344636e-08, 5.50894300e-04, 9.99416232e-01, 2.34396939e-05,\n",
              "        9.42736460e-06],\n",
              "       [1.41899577e-08, 5.32223954e-09, 3.01743171e-06, 9.99997020e-01,\n",
              "        1.68100307e-08],\n",
              "       [1.25185795e-06, 9.99916673e-01, 8.03362054e-05, 1.53716189e-06,\n",
              "        1.63419728e-07],\n",
              "       [4.94869437e-06, 5.88793715e-04, 9.99330759e-01, 3.38350910e-05,\n",
              "        4.17184128e-05],\n",
              "       [1.92794846e-06, 9.99716580e-01, 2.80461943e-04, 7.57753185e-07,\n",
              "        2.54840529e-07],\n",
              "       [2.52726953e-04, 9.99493122e-01, 2.13649182e-04, 3.98344673e-05,\n",
              "        7.67088068e-07],\n",
              "       [2.42119731e-05, 7.41047406e-05, 1.98973634e-04, 9.99649763e-01,\n",
              "        5.28971796e-05],\n",
              "       [6.81656388e-07, 1.82801668e-05, 9.99973178e-01, 7.39730339e-08,\n",
              "        7.75147055e-06],\n",
              "       [2.77771450e-09, 1.08215797e-10, 1.69601023e-07, 9.99999881e-01,\n",
              "        3.76074782e-10],\n",
              "       [4.91344636e-08, 5.50894300e-04, 9.99416232e-01, 2.34396939e-05,\n",
              "        9.42736460e-06],\n",
              "       [9.99727070e-01, 9.91950874e-05, 1.03790022e-04, 6.99875527e-05,\n",
              "        2.47256438e-08],\n",
              "       [9.92932314e-08, 7.97000936e-08, 2.61552806e-08, 3.48365313e-04,\n",
              "        9.99651432e-01],\n",
              "       [9.99844193e-01, 5.73502766e-05, 3.58796060e-05, 6.25139437e-05,\n",
              "        2.05240003e-08],\n",
              "       [9.99809206e-01, 7.25887367e-05, 6.59566067e-05, 5.23037561e-05,\n",
              "        1.05664730e-08],\n",
              "       [7.04063075e-09, 8.45553643e-07, 3.95169491e-06, 1.21318171e-05,\n",
              "        9.99983072e-01],\n",
              "       [1.98780293e-12, 8.48333515e-10, 6.31865282e-10, 4.44444566e-07,\n",
              "        9.99999523e-01],\n",
              "       [2.44835928e-06, 3.90309055e-04, 9.99568164e-01, 7.60741386e-06,\n",
              "        3.14356512e-05],\n",
              "       [1.90867013e-05, 9.99647379e-01, 3.18816310e-04, 1.30840244e-05,\n",
              "        1.61978915e-06],\n",
              "       [7.45160804e-08, 6.16828083e-06, 4.02881778e-06, 1.99916452e-04,\n",
              "        9.99789774e-01],\n",
              "       [4.38822978e-10, 3.51217118e-08, 4.57828904e-08, 4.80242161e-05,\n",
              "        9.99951839e-01],\n",
              "       [9.05883498e-05, 4.72471640e-02, 2.70088047e-01, 6.81792557e-01,\n",
              "        7.81610317e-04],\n",
              "       [5.76221828e-06, 3.49228919e-01, 6.50760174e-01, 3.92352462e-07,\n",
              "        4.76140531e-06],\n",
              "       [1.33059245e-06, 4.43652709e-04, 9.99538541e-01, 1.55751650e-07,\n",
              "        1.63078839e-05],\n",
              "       [2.02277550e-09, 2.95061930e-09, 8.85920528e-08, 9.50573664e-08,\n",
              "        9.99999762e-01],\n",
              "       [1.98780293e-12, 8.48333515e-10, 6.31865282e-10, 4.44444566e-07,\n",
              "        9.99999523e-01],\n",
              "       [9.99714315e-01, 1.13195958e-04, 8.02480499e-05, 9.21863975e-05,\n",
              "        1.79047603e-08],\n",
              "       [9.99714315e-01, 1.13195958e-04, 8.02480499e-05, 9.21863975e-05,\n",
              "        1.79047603e-08],\n",
              "       [3.87972848e-11, 4.99938437e-07, 1.02588686e-07, 4.47684261e-06,\n",
              "        9.99994874e-01],\n",
              "       [5.77704329e-10, 2.96025149e-07, 6.52742223e-04, 9.99346316e-01,\n",
              "        7.50268043e-07],\n",
              "       [1.98780293e-12, 8.48333515e-10, 6.31865282e-10, 4.44444566e-07,\n",
              "        9.99999523e-01],\n",
              "       [3.98607845e-05, 5.53541064e-01, 4.46286857e-01, 1.07558808e-05,\n",
              "        1.21478653e-04],\n",
              "       [8.19135312e-06, 9.99280751e-01, 5.72619785e-04, 1.35209368e-04,\n",
              "        3.25511178e-06],\n",
              "       [3.25617566e-06, 1.95244356e-04, 9.99790370e-01, 3.65408232e-06,\n",
              "        7.55248175e-06],\n",
              "       [5.42304290e-09, 6.77304388e-06, 3.01043514e-07, 1.19482487e-04,\n",
              "        9.99873400e-01],\n",
              "       [2.16444332e-05, 4.78239206e-04, 9.99488473e-01, 1.61700541e-06,\n",
              "        9.95444134e-06],\n",
              "       [5.76221828e-06, 3.49228919e-01, 6.50760174e-01, 3.92352462e-07,\n",
              "        4.76140531e-06],\n",
              "       [9.99844193e-01, 5.73502766e-05, 3.58796060e-05, 6.25139437e-05,\n",
              "        2.05240003e-08],\n",
              "       [9.99714315e-01, 1.13195958e-04, 8.02480499e-05, 9.21863975e-05,\n",
              "        1.79047603e-08],\n",
              "       [1.71318504e-12, 4.23106494e-10, 1.43269901e-07, 9.99999762e-01,\n",
              "        1.26910123e-07],\n",
              "       [9.99809206e-01, 7.25887367e-05, 6.59566067e-05, 5.23037561e-05,\n",
              "        1.05664730e-08],\n",
              "       [9.99714315e-01, 1.13195958e-04, 8.02480499e-05, 9.21863975e-05,\n",
              "        1.79047603e-08],\n",
              "       [5.43091687e-08, 6.41508201e-12, 2.90804714e-08, 1.00000000e+00,\n",
              "        1.51113219e-11],\n",
              "       [9.54807888e-07, 9.99935865e-01, 6.26020701e-05, 4.98668555e-07,\n",
              "        1.15653080e-07],\n",
              "       [3.10858894e-07, 2.69980774e-07, 7.79068785e-07, 9.99998093e-01,\n",
              "        5.04291393e-07],\n",
              "       [3.01762975e-06, 9.99868035e-01, 1.25952225e-04, 2.26067368e-06,\n",
              "        7.06571029e-07],\n",
              "       [9.99892354e-01, 3.62467945e-05, 1.42408353e-05, 5.71181045e-05,\n",
              "        9.60076729e-09],\n",
              "       [9.99686837e-01, 7.83389041e-05, 1.57823360e-05, 2.19161928e-04,\n",
              "        2.08463078e-08],\n",
              "       [1.54782909e-09, 4.80730655e-09, 2.18661516e-08, 1.21526716e-06,\n",
              "        9.99998808e-01],\n",
              "       [9.92932314e-08, 7.97000936e-08, 2.61552806e-08, 3.48365313e-04,\n",
              "        9.99651432e-01],\n",
              "       [4.14394352e-11, 6.84931422e-07, 7.24529201e-08, 2.81164484e-05,\n",
              "        9.99971151e-01],\n",
              "       [2.57421289e-06, 3.24104942e-04, 9.99633551e-01, 9.47556055e-06,\n",
              "        3.03240759e-05],\n",
              "       [5.58958163e-07, 5.76630737e-06, 3.13808443e-04, 9.99669909e-01,\n",
              "        9.98670657e-06],\n",
              "       [9.99884486e-01, 3.92310139e-05, 1.84344026e-05, 5.78335603e-05,\n",
              "        1.90508409e-08],\n",
              "       [1.68045244e-06, 9.99402523e-01, 4.71287844e-04, 1.23409249e-04,\n",
              "        1.09807900e-06],\n",
              "       [3.66855124e-06, 9.99953270e-01, 3.84915984e-05, 4.02692194e-06,\n",
              "        4.27128668e-07],\n",
              "       [2.41671910e-06, 7.62263837e-04, 9.99143958e-01, 5.14076346e-05,\n",
              "        3.98867269e-05],\n",
              "       [2.41489023e-10, 4.36873315e-10, 9.50963197e-10, 1.50119672e-06,\n",
              "        9.99998450e-01],\n",
              "       [9.99720991e-01, 6.58435747e-05, 1.93958931e-05, 1.93708751e-04,\n",
              "        7.83561021e-08],\n",
              "       [1.27304520e-04, 1.04450795e-03, 9.98265684e-01, 3.66918801e-04,\n",
              "        1.95683664e-04],\n",
              "       [9.99714315e-01, 1.13195958e-04, 8.02480499e-05, 9.21863975e-05,\n",
              "        1.79047603e-08],\n",
              "       [9.99686837e-01, 7.83389041e-05, 1.57823360e-05, 2.19161928e-04,\n",
              "        2.08463078e-08],\n",
              "       [4.38822978e-10, 3.51217118e-08, 4.57828904e-08, 4.80242161e-05,\n",
              "        9.99951839e-01],\n",
              "       [2.81201324e-06, 9.99966264e-01, 2.89887976e-05, 1.70783142e-06,\n",
              "        1.05357159e-07],\n",
              "       [1.37911178e-04, 3.52437317e-01, 6.46895945e-01, 3.31882067e-04,\n",
              "        1.96844907e-04],\n",
              "       [1.71318504e-12, 4.23106494e-10, 1.43269901e-07, 9.99999762e-01,\n",
              "        1.26910123e-07],\n",
              "       [5.26259964e-06, 9.99673724e-01, 3.16903403e-04, 3.25904216e-06,\n",
              "        7.93180789e-07],\n",
              "       [4.24679597e-11, 5.84617688e-09, 1.36082035e-08, 1.94568493e-05,\n",
              "        9.99980569e-01],\n",
              "       [1.70597147e-07, 2.22345770e-05, 2.35804255e-05, 9.99935627e-01,\n",
              "        1.83640841e-05],\n",
              "       [4.43930787e-07, 9.99925256e-01, 7.24796337e-05, 1.62979347e-06,\n",
              "        1.49189930e-07]], dtype=float32)"
            ]
          },
          "metadata": {},
          "execution_count": 41
        }
      ],
      "source": [
        "predict"
      ]
    },
    {
      "cell_type": "code",
      "execution_count": null,
      "metadata": {
        "id": "E3bnZXOnEo1M"
      },
      "outputs": [],
      "source": [
        "yhat = np.argmax(predict, axis = 1)"
      ]
    },
    {
      "cell_type": "code",
      "execution_count": null,
      "metadata": {
        "id": "ALpWRWmzEslf",
        "colab": {
          "base_uri": "https://localhost:8080/"
        },
        "outputId": "6a97171b-5467-4269-826f-2f7bba9a8cc7"
      },
      "outputs": [
        {
          "output_type": "execute_result",
          "data": {
            "text/plain": [
              "array([1, 2, 4, 3, 2, 4, 0, 4, 3, 3, 4, 3, 1, 1, 3, 1, 3, 4, 3, 1, 4, 0,\n",
              "       2, 3, 0, 1, 0, 3, 4, 0, 1, 2, 3, 1, 2, 1, 1, 3, 2, 3, 2, 0, 4, 0,\n",
              "       0, 4, 4, 2, 1, 4, 4, 3, 2, 2, 4, 4, 0, 0, 4, 3, 4, 1, 1, 2, 4, 2,\n",
              "       2, 0, 0, 3, 0, 0, 3, 1, 3, 1, 0, 0, 4, 4, 4, 2, 3, 0, 1, 1, 2, 4,\n",
              "       0, 2, 0, 0, 4, 1, 2, 3, 1, 4, 3, 1])"
            ]
          },
          "metadata": {},
          "execution_count": 43
        }
      ],
      "source": [
        "# Distributed probability to discrete class\n",
        "yhat = np.argmax(predict, axis = 1)\n",
        "yhat"
      ]
    },
    {
      "cell_type": "code",
      "source": [
        "y_test=np.argmax(predict, axis = 1)"
      ],
      "metadata": {
        "id": "xtGsgwe_VMhH"
      },
      "execution_count": null,
      "outputs": []
    },
    {
      "cell_type": "code",
      "execution_count": null,
      "metadata": {
        "id": "UHk5rW1AExWg"
      },
      "outputs": [],
      "source": [
        "from sklearn.metrics import classification_report, confusion_matrix\n",
        "\n"
      ]
    },
    {
      "cell_type": "code",
      "source": [
        "confusion_matrix( yhat, y_test)\n",
        ""
      ],
      "metadata": {
        "colab": {
          "base_uri": "https://localhost:8080/"
        },
        "id": "0AlXi3SRRXf9",
        "outputId": "e1a5af21-6d87-41bd-94c1-ce741902c0e7"
      },
      "execution_count": null,
      "outputs": [
        {
          "output_type": "execute_result",
          "data": {
            "text/plain": [
              "array([[20,  0,  0,  0,  0],\n",
              "       [ 0, 20,  0,  0,  0],\n",
              "       [ 0,  0, 17,  0,  0],\n",
              "       [ 0,  0,  0, 20,  0],\n",
              "       [ 0,  0,  0,  0, 23]])"
            ]
          },
          "metadata": {},
          "execution_count": 46
        }
      ]
    },
    {
      "cell_type": "code",
      "source": [
        "sns.heatmap(confusion_matrix(y_test, yhat), annot = True, fmt='0.0f')"
      ],
      "metadata": {
        "colab": {
          "base_uri": "https://localhost:8080/",
          "height": 468
        },
        "id": "R6I4aqKGVngV",
        "outputId": "6025972b-9ab1-4170-c59e-17ba6184344f"
      },
      "execution_count": null,
      "outputs": [
        {
          "output_type": "execute_result",
          "data": {
            "text/plain": [
              "<Axes: >"
            ]
          },
          "metadata": {},
          "execution_count": 47
        },
        {
          "output_type": "display_data",
          "data": {
            "text/plain": [
              "<Figure size 640x480 with 2 Axes>"
            ],
            "image/png": "[encoded data removed]"
          },
          "metadata": {}
        }
      ]
    },
    {
      "cell_type": "code",
      "execution_count": null,
      "metadata": {
        "id": "xtaX40MoE0og",
        "colab": {
          "base_uri": "https://localhost:8080/"
        },
        "outputId": "0a1b7be0-4322-4982-e03a-44772902314e"
      },
      "outputs": [
        {
          "output_type": "stream",
          "name": "stdout",
          "text": [
            "              precision    recall  f1-score   support\n",
            "\n",
            "           0       1.00      1.00      1.00        20\n",
            "           1       1.00      1.00      1.00        20\n",
            "           2       1.00      1.00      1.00        17\n",
            "           3       1.00      1.00      1.00        20\n",
            "           4       1.00      1.00      1.00        23\n",
            "\n",
            "    accuracy                           1.00       100\n",
            "   macro avg       1.00      1.00      1.00       100\n",
            "weighted avg       1.00      1.00      1.00       100\n",
            "\n"
          ]
        }
      ],
      "source": [
        "print(classification_report(yhat, y_test))"
      ]
    },
    {
      "cell_type": "code",
      "source": [
        "test_data = pd.read_excel('/content/drive/MyDrive/Table 10. Test PCA_STAGE_BASED_CLASSIFICATION.xlsx')"
      ],
      "metadata": {
        "id": "bVe45It-4LT3"
      },
      "execution_count": null,
      "outputs": []
    },
    {
      "cell_type": "code",
      "source": [
        "X_test = test_data.iloc[:, :-1].values\n",
        "X_test.shape"
      ],
      "metadata": {
        "colab": {
          "base_uri": "https://localhost:8080/"
        },
        "id": "4rdfOUGL4jFn",
        "outputId": "b8c1b416-a0c4-4970-a4ef-344c7715bf73"
      },
      "execution_count": null,
      "outputs": [
        {
          "output_type": "execute_result",
          "data": {
            "text/plain": [
              "(137, 16202)"
            ]
          },
          "metadata": {},
          "execution_count": 51
        }
      ]
    },
    {
      "cell_type": "code",
      "source": [
        "X_test = X_test.reshape(len(X_test), X_test.shape[1], 1)\n",
        "X_test = X_test.reshape(X_test.shape[0],X_test.shape[1], 1)\n",
        "X_test.shape"
      ],
      "metadata": {
        "colab": {
          "base_uri": "https://localhost:8080/"
        },
        "id": "MSyDL8sT4ooF",
        "outputId": "df9ef0ab-24c3-4aac-835e-0823153c7024"
      },
      "execution_count": null,
      "outputs": [
        {
          "output_type": "execute_result",
          "data": {
            "text/plain": [
              "(137, 16202, 1)"
            ]
          },
          "metadata": {},
          "execution_count": 52
        }
      ]
    },
    {
      "cell_type": "code",
      "source": [
        "# Make Prediction\n",
        "predict = model.predict(X_test)"
      ],
      "metadata": {
        "colab": {
          "base_uri": "https://localhost:8080/"
        },
        "id": "4PgKc3N54-FC",
        "outputId": "fb78b077-6742-4563-e7cb-a446d205c2b8"
      },
      "execution_count": null,
      "outputs": [
        {
          "output_type": "stream",
          "name": "stdout",
          "text": [
            "5/5 [==============================] - 1s 68ms/step\n"
          ]
        }
      ]
    },
    {
      "cell_type": "code",
      "source": [
        "yhat = np.argmax(predict, axis = 1)"
      ],
      "metadata": {
        "id": "00av95IC5B6A"
      },
      "execution_count": null,
      "outputs": []
    },
    {
      "cell_type": "code",
      "source": [
        "# Distributed probability to discrete class\n",
        "yhat = np.argmax(predict, axis = 1)\n",
        "yhat"
      ],
      "metadata": {
        "colab": {
          "base_uri": "https://localhost:8080/"
        },
        "id": "i76a7Xri5EDm",
        "outputId": "fdad71b4-e358-4ef4-d409-210c5efa5c9b"
      },
      "execution_count": null,
      "outputs": [
        {
          "output_type": "execute_result",
          "data": {
            "text/plain": [
              "array([2, 0, 3, 0, 2, 0, 2, 0, 2, 0, 3, 0, 2, 0, 1, 0, 2, 3, 1, 1, 2, 4,\n",
              "       4, 4, 4, 4, 3, 3, 3, 2, 3, 3, 2, 2, 3, 1, 3, 2, 3, 3, 1, 2, 2, 1,\n",
              "       1, 1, 2, 1, 1, 1, 1, 2, 1, 1, 2, 2, 1, 2, 2, 1, 1, 1, 1, 2, 2, 1,\n",
              "       3, 3, 2, 2, 3, 2, 2, 2, 3, 1, 2, 2, 2, 3, 3, 3, 1, 1, 1, 3, 1, 2,\n",
              "       2, 1, 2, 2, 2, 2, 1, 2, 2, 2, 1, 2, 2, 3, 0, 1, 1, 2, 4, 4, 4, 4,\n",
              "       4, 4, 4, 4, 1, 3, 3, 2, 2, 1, 2, 2, 2, 1, 2, 1, 2, 1, 2, 2, 2, 3,\n",
              "       2, 3, 1, 3, 2])"
            ]
          },
          "metadata": {},
          "execution_count": 57
        }
      ]
    }
  ],
  "metadata": {
    "colab": {
      "provenance": [],
      "gpuType": "T4",
      "mount_file_id": "1Tet2e-wEcxVNGTby8WxuDPnxtxI_Fhl_",
      "authorship_tag": "ABX9TyM5rkC8SowYD2HickabgXAy",
      "include_colab_link": true
    },
    "kernelspec": {
      "display_name": "Python 3",
      "name": "python3"
    },
    "language_info": {
      "name": "python"
    },
    "accelerator": "GPU"
  },
  "nbformat": 4,
  "nbformat_minor": 0
}