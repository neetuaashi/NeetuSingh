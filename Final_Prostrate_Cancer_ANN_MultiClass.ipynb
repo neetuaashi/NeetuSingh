{
  "cells": [
    {
      "cell_type": "markdown",
      "metadata": {
        "id": "view-in-github",
        "colab_type": "text"
      },
      "source": [
        "<a href=\"https://colab.research.google.com/github/neetuaashi/NeetuSingh/blob/master/Final_Prostrate_Cancer_ANN_MultiClass.ipynb\" target=\"_parent\"><img src=\"https://colab.research.google.com/assets/colab-badge.svg\" alt=\"Open In Colab\"/></a>"
      ]
    },
    {
      "cell_type": "code",
      "execution_count": null,
      "metadata": {
        "colab": {
          "background_save": true
        },
        "id": "PFkVj-C2c7A6"
      },
      "outputs": [],
      "source": [
        "import numpy as np\n",
        "import pandas as pd\n",
        "import matplotlib.pyplot as plt\n",
        "import seaborn as sns"
      ]
    },
    {
      "cell_type": "code",
      "execution_count": null,
      "metadata": {
        "colab": {
          "base_uri": "https://localhost:8080/"
        },
        "id": "zqVg0NpKOrve",
        "outputId": "0553d384-9728-4ed5-ccd1-142638b10439"
      },
      "outputs": [
        {
          "name": "stdout",
          "output_type": "stream",
          "text": [
            "Drive already mounted at /content/drive; to attempt to forcibly remount, call drive.mount(\"/content/drive\", force_remount=True).\n"
          ]
        }
      ],
      "source": [
        "from google.colab import drive\n",
        "drive.mount('/content/drive')"
      ]
    },
    {
      "cell_type": "code",
      "execution_count": null,
      "metadata": {
        "colab": {
          "background_save": true,
          "base_uri": "https://localhost:8080/",
          "height": 293
        },
        "id": "nsWCZ3uWdLae",
        "outputId": "236f5de1-551e-42f1-b7b8-be2d85199985"
      },
      "outputs": [
        {
          "data": {
            "text/html": [
              "\n",
              "  <div id=\"df-b18f9a6c-d013-4080-bb0b-7c6889ea713b\">\n",
              "    <div class=\"colab-df-container\">\n",
              "      <div>\n",
              "<style scoped>\n",
              "    .dataframe tbody tr th:only-of-type {\n",
              "        vertical-align: middle;\n",
              "    }\n",
              "\n",
              "    .dataframe tbody tr th {\n",
              "        vertical-align: top;\n",
              "    }\n",
              "\n",
              "    .dataframe thead th {\n",
              "        text-align: right;\n",
              "    }\n",
              "</style>\n",
              "<table border=\"1\" class=\"dataframe\">\n",
              "  <thead>\n",
              "    <tr style=\"text-align: right;\">\n",
              "      <th></th>\n",
              "      <th>PCA_STAGE</th>\n",
              "      <th>GSHG0000008</th>\n",
              "      <th>GSHG0000017</th>\n",
              "      <th>GSHG0000018</th>\n",
              "      <th>GSHG0000026</th>\n",
              "      <th>GSHG0000027</th>\n",
              "      <th>GSHG0000029</th>\n",
              "      <th>GSHG0000033</th>\n",
              "      <th>GSHG0000035</th>\n",
              "      <th>GSHG0000036</th>\n",
              "      <th>...</th>\n",
              "      <th>GSHG0051555</th>\n",
              "      <th>GSHG0051559</th>\n",
              "      <th>GSHG0051578</th>\n",
              "      <th>GSHG0051581</th>\n",
              "      <th>GSHG0051588</th>\n",
              "      <th>GSHG0051591</th>\n",
              "      <th>GSHG0051597</th>\n",
              "      <th>GSHG0051601</th>\n",
              "      <th>GSHG0051602</th>\n",
              "      <th>Outcome</th>\n",
              "    </tr>\n",
              "  </thead>\n",
              "  <tbody>\n",
              "    <tr>\n",
              "      <th>0</th>\n",
              "      <td>pT3a</td>\n",
              "      <td>7.604725</td>\n",
              "      <td>5.93074</td>\n",
              "      <td>9.28309</td>\n",
              "      <td>7.242785</td>\n",
              "      <td>7.005525</td>\n",
              "      <td>7.14975</td>\n",
              "      <td>9.247600</td>\n",
              "      <td>7.486895</td>\n",
              "      <td>7.33985</td>\n",
              "      <td>...</td>\n",
              "      <td>6.59991</td>\n",
              "      <td>7.21917</td>\n",
              "      <td>5.038410</td>\n",
              "      <td>6.37504</td>\n",
              "      <td>6.64386</td>\n",
              "      <td>7.33092</td>\n",
              "      <td>7.816270</td>\n",
              "      <td>8.062970</td>\n",
              "      <td>7.10852</td>\n",
              "      <td>2</td>\n",
              "    </tr>\n",
              "    <tr>\n",
              "      <th>1</th>\n",
              "      <td>N_1</td>\n",
              "      <td>6.465740</td>\n",
              "      <td>6.08746</td>\n",
              "      <td>8.97728</td>\n",
              "      <td>7.531295</td>\n",
              "      <td>7.266755</td>\n",
              "      <td>7.40939</td>\n",
              "      <td>9.919400</td>\n",
              "      <td>7.479640</td>\n",
              "      <td>7.62205</td>\n",
              "      <td>...</td>\n",
              "      <td>9.45943</td>\n",
              "      <td>6.91886</td>\n",
              "      <td>5.101065</td>\n",
              "      <td>6.84549</td>\n",
              "      <td>5.93074</td>\n",
              "      <td>7.70044</td>\n",
              "      <td>8.787070</td>\n",
              "      <td>7.266755</td>\n",
              "      <td>7.37504</td>\n",
              "      <td>0</td>\n",
              "    </tr>\n",
              "    <tr>\n",
              "      <th>2</th>\n",
              "      <td>pT3b</td>\n",
              "      <td>7.317235</td>\n",
              "      <td>6.58496</td>\n",
              "      <td>8.29002</td>\n",
              "      <td>7.139515</td>\n",
              "      <td>7.339600</td>\n",
              "      <td>7.63662</td>\n",
              "      <td>9.137920</td>\n",
              "      <td>7.179600</td>\n",
              "      <td>7.15987</td>\n",
              "      <td>...</td>\n",
              "      <td>6.37504</td>\n",
              "      <td>7.41785</td>\n",
              "      <td>4.649605</td>\n",
              "      <td>7.14975</td>\n",
              "      <td>6.65821</td>\n",
              "      <td>7.49985</td>\n",
              "      <td>8.611960</td>\n",
              "      <td>7.751460</td>\n",
              "      <td>7.43463</td>\n",
              "      <td>3</td>\n",
              "    </tr>\n",
              "    <tr>\n",
              "      <th>3</th>\n",
              "      <td>N_2</td>\n",
              "      <td>6.445800</td>\n",
              "      <td>6.85798</td>\n",
              "      <td>8.85175</td>\n",
              "      <td>7.647455</td>\n",
              "      <td>7.503820</td>\n",
              "      <td>7.82655</td>\n",
              "      <td>9.880605</td>\n",
              "      <td>7.266755</td>\n",
              "      <td>7.43463</td>\n",
              "      <td>...</td>\n",
              "      <td>7.46761</td>\n",
              "      <td>7.42626</td>\n",
              "      <td>5.409290</td>\n",
              "      <td>7.24793</td>\n",
              "      <td>6.20945</td>\n",
              "      <td>7.08746</td>\n",
              "      <td>9.476720</td>\n",
              "      <td>7.320545</td>\n",
              "      <td>7.24793</td>\n",
              "      <td>0</td>\n",
              "    </tr>\n",
              "    <tr>\n",
              "      <th>4</th>\n",
              "      <td>pT3a</td>\n",
              "      <td>7.021685</td>\n",
              "      <td>6.32193</td>\n",
              "      <td>8.47978</td>\n",
              "      <td>7.554565</td>\n",
              "      <td>7.441775</td>\n",
              "      <td>7.89482</td>\n",
              "      <td>9.462780</td>\n",
              "      <td>7.004740</td>\n",
              "      <td>7.05528</td>\n",
              "      <td>...</td>\n",
              "      <td>6.33985</td>\n",
              "      <td>7.15987</td>\n",
              "      <td>4.779210</td>\n",
              "      <td>6.94251</td>\n",
              "      <td>6.18982</td>\n",
              "      <td>7.62936</td>\n",
              "      <td>8.183205</td>\n",
              "      <td>6.766785</td>\n",
              "      <td>7.88264</td>\n",
              "      <td>2</td>\n",
              "    </tr>\n",
              "  </tbody>\n",
              "</table>\n",
              "<p>5 rows × 16204 columns</p>\n",
              "</div>\n",
              "      <button class=\"colab-df-convert\" onclick=\"convertToInteractive('df-b18f9a6c-d013-4080-bb0b-7c6889ea713b')\"\n",
              "              title=\"Convert this dataframe to an interactive table.\"\n",
              "              style=\"display:none;\">\n",
              "        \n",
              "  <svg xmlns=\"http://www.w3.org/2000/svg\" height=\"24px\"viewBox=\"0 0 24 24\"\n",
              "       width=\"24px\">\n",
              "    <path d=\"M0 0h24v24H0V0z\" fill=\"none\"/>\n",
              "    <path d=\"M18.56 5.44l.94 2.06.94-2.06 2.06-.94-2.06-.94-.94-2.06-.94 2.06-2.06.94zm-11 1L8.5 8.5l.94-2.06 2.06-.94-2.06-.94L8.5 2.5l-.94 2.06-2.06.94zm10 10l.94 2.06.94-2.06 2.06-.94-2.06-.94-.94-2.06-.94 2.06-2.06.94z\"/><path d=\"M17.41 7.96l-1.37-1.37c-.4-.4-.92-.59-1.43-.59-.52 0-1.04.2-1.43.59L10.3 9.45l-7.72 7.72c-.78.78-.78 2.05 0 2.83L4 21.41c.39.39.9.59 1.41.59.51 0 1.02-.2 1.41-.59l7.78-7.78 2.81-2.81c.8-.78.8-2.07 0-2.86zM5.41 20L4 18.59l7.72-7.72 1.47 1.35L5.41 20z\"/>\n",
              "  </svg>\n",
              "      </button>\n",
              "      \n",
              "  <style>\n",
              "    .colab-df-container {\n",
              "      display:flex;\n",
              "      flex-wrap:wrap;\n",
              "      gap: 12px;\n",
              "    }\n",
              "\n",
              "    .colab-df-convert {\n",
              "      background-color: #E8F0FE;\n",
              "      border: none;\n",
              "      border-radius: 50%;\n",
              "      cursor: pointer;\n",
              "      display: none;\n",
              "      fill: #1967D2;\n",
              "      height: 32px;\n",
              "      padding: 0 0 0 0;\n",
              "      width: 32px;\n",
              "    }\n",
              "\n",
              "    .colab-df-convert:hover {\n",
              "      background-color: #E2EBFA;\n",
              "      box-shadow: 0px 1px 2px rgba(60, 64, 67, 0.3), 0px 1px 3px 1px rgba(60, 64, 67, 0.15);\n",
              "      fill: #174EA6;\n",
              "    }\n",
              "\n",
              "    [theme=dark] .colab-df-convert {\n",
              "      background-color: #3B4455;\n",
              "      fill: #D2E3FC;\n",
              "    }\n",
              "\n",
              "    [theme=dark] .colab-df-convert:hover {\n",
              "      background-color: #434B5C;\n",
              "      box-shadow: 0px 1px 3px 1px rgba(0, 0, 0, 0.15);\n",
              "      filter: drop-shadow(0px 1px 2px rgba(0, 0, 0, 0.3));\n",
              "      fill: #FFFFFF;\n",
              "    }\n",
              "  </style>\n",
              "\n",
              "      <script>\n",
              "        const buttonEl =\n",
              "          document.querySelector('#df-b18f9a6c-d013-4080-bb0b-7c6889ea713b button.colab-df-convert');\n",
              "        buttonEl.style.display =\n",
              "          google.colab.kernel.accessAllowed ? 'block' : 'none';\n",
              "\n",
              "        async function convertToInteractive(key) {\n",
              "          const element = document.querySelector('#df-b18f9a6c-d013-4080-bb0b-7c6889ea713b');\n",
              "          const dataTable =\n",
              "            await google.colab.kernel.invokeFunction('convertToInteractive',\n",
              "                                                     [key], {});\n",
              "          if (!dataTable) return;\n",
              "\n",
              "          const docLinkHtml = 'Like what you see? Visit the ' +\n",
              "            '<a target=\"_blank\" href=https://colab.research.google.com/notebooks/data_table.ipynb>data table notebook</a>'\n",
              "            + ' to learn more about interactive tables.';\n",
              "          element.innerHTML = '';\n",
              "          dataTable['output_type'] = 'display_data';\n",
              "          await google.colab.output.renderOutput(dataTable, element);\n",
              "          const docLink = document.createElement('div');\n",
              "          docLink.innerHTML = docLinkHtml;\n",
              "          element.appendChild(docLink);\n",
              "        }\n",
              "      </script>\n",
              "    </div>\n",
              "  </div>\n",
              "  "
            ],
            "text/plain": [
              "  PCA_STAGE  GSHG0000008  GSHG0000017  GSHG0000018  GSHG0000026  GSHG0000027  \\\n",
              "0      pT3a     7.604725      5.93074      9.28309     7.242785     7.005525   \n",
              "1       N_1     6.465740      6.08746      8.97728     7.531295     7.266755   \n",
              "2      pT3b     7.317235      6.58496      8.29002     7.139515     7.339600   \n",
              "3       N_2     6.445800      6.85798      8.85175     7.647455     7.503820   \n",
              "4      pT3a     7.021685      6.32193      8.47978     7.554565     7.441775   \n",
              "\n",
              "   GSHG0000029  GSHG0000033  GSHG0000035  GSHG0000036  ...  GSHG0051555  \\\n",
              "0      7.14975     9.247600     7.486895      7.33985  ...      6.59991   \n",
              "1      7.40939     9.919400     7.479640      7.62205  ...      9.45943   \n",
              "2      7.63662     9.137920     7.179600      7.15987  ...      6.37504   \n",
              "3      7.82655     9.880605     7.266755      7.43463  ...      7.46761   \n",
              "4      7.89482     9.462780     7.004740      7.05528  ...      6.33985   \n",
              "\n",
              "   GSHG0051559  GSHG0051578  GSHG0051581  GSHG0051588  GSHG0051591  \\\n",
              "0      7.21917     5.038410      6.37504      6.64386      7.33092   \n",
              "1      6.91886     5.101065      6.84549      5.93074      7.70044   \n",
              "2      7.41785     4.649605      7.14975      6.65821      7.49985   \n",
              "3      7.42626     5.409290      7.24793      6.20945      7.08746   \n",
              "4      7.15987     4.779210      6.94251      6.18982      7.62936   \n",
              "\n",
              "   GSHG0051597  GSHG0051601  GSHG0051602  Outcome  \n",
              "0     7.816270     8.062970      7.10852        2  \n",
              "1     8.787070     7.266755      7.37504        0  \n",
              "2     8.611960     7.751460      7.43463        3  \n",
              "3     9.476720     7.320545      7.24793        0  \n",
              "4     8.183205     6.766785      7.88264        2  \n",
              "\n",
              "[5 rows x 16204 columns]"
            ]
          },
          "execution_count": 136,
          "metadata": {},
          "output_type": "execute_result"
        }
      ],
      "source": [
        "train_data = pd.read_excel('/content/drive/MyDrive/PCA_STAGE_BASED_CLASSIFICATION.xlsx')\n",
        "train_data.head()"
      ]
    },
    {
      "cell_type": "markdown",
      "metadata": {
        "id": "-UUyiGGwfJjh"
      },
      "source": [
        "Data Wrangling"
      ]
    },
    {
      "cell_type": "code",
      "execution_count": null,
      "metadata": {
        "colab": {
          "background_save": true,
          "base_uri": "https://localhost:8080/"
        },
        "id": "XyW12AfTfKVe",
        "outputId": "d2b6b999-5da4-405a-a715-3658cf74150d"
      },
      "outputs": [
        {
          "data": {
            "text/plain": [
              "PCA_STAGE      0\n",
              "GSHG0000008    0\n",
              "GSHG0000017    0\n",
              "GSHG0000018    0\n",
              "GSHG0000026    0\n",
              "              ..\n",
              "GSHG0051591    0\n",
              "GSHG0051597    0\n",
              "GSHG0051601    0\n",
              "GSHG0051602    0\n",
              "Outcome        0\n",
              "Length: 16204, dtype: int64"
            ]
          },
          "execution_count": 137,
          "metadata": {},
          "output_type": "execute_result"
        }
      ],
      "source": [
        "train_data.isnull().sum()"
      ]
    },
    {
      "cell_type": "code",
      "execution_count": null,
      "metadata": {
        "colab": {
          "background_save": true
        },
        "id": "_TZDE4dwCQkn"
      },
      "outputs": [],
      "source": [
        "\n",
        "train_data = train_data.drop(['PCA_STAGE'], axis = 1)"
      ]
    },
    {
      "cell_type": "code",
      "execution_count": null,
      "metadata": {
        "colab": {
          "background_save": true,
          "base_uri": "https://localhost:8080/",
          "height": 386
        },
        "id": "Sq81V_XajW39",
        "outputId": "20ef3048-c908-43fd-e00f-7de3f1f750c8"
      },
      "outputs": [
        {
          "data": {
            "text/html": [
              "\n",
              "  <div id=\"df-7b5af0f9-fdd9-4dd4-a70b-1556f0463644\">\n",
              "    <div class=\"colab-df-container\">\n",
              "      <div>\n",
              "<style scoped>\n",
              "    .dataframe tbody tr th:only-of-type {\n",
              "        vertical-align: middle;\n",
              "    }\n",
              "\n",
              "    .dataframe tbody tr th {\n",
              "        vertical-align: top;\n",
              "    }\n",
              "\n",
              "    .dataframe thead th {\n",
              "        text-align: right;\n",
              "    }\n",
              "</style>\n",
              "<table border=\"1\" class=\"dataframe\">\n",
              "  <thead>\n",
              "    <tr style=\"text-align: right;\">\n",
              "      <th></th>\n",
              "      <th>GSHG0000008</th>\n",
              "      <th>GSHG0000017</th>\n",
              "      <th>GSHG0000018</th>\n",
              "      <th>GSHG0000026</th>\n",
              "      <th>GSHG0000027</th>\n",
              "      <th>GSHG0000029</th>\n",
              "      <th>GSHG0000033</th>\n",
              "      <th>GSHG0000035</th>\n",
              "      <th>GSHG0000036</th>\n",
              "      <th>GSHG0000038</th>\n",
              "      <th>...</th>\n",
              "      <th>GSHG0051555</th>\n",
              "      <th>GSHG0051559</th>\n",
              "      <th>GSHG0051578</th>\n",
              "      <th>GSHG0051581</th>\n",
              "      <th>GSHG0051588</th>\n",
              "      <th>GSHG0051591</th>\n",
              "      <th>GSHG0051597</th>\n",
              "      <th>GSHG0051601</th>\n",
              "      <th>GSHG0051602</th>\n",
              "      <th>Outcome</th>\n",
              "    </tr>\n",
              "  </thead>\n",
              "  <tbody>\n",
              "    <tr>\n",
              "      <th>count</th>\n",
              "      <td>137.000000</td>\n",
              "      <td>137.000000</td>\n",
              "      <td>137.000000</td>\n",
              "      <td>137.000000</td>\n",
              "      <td>137.000000</td>\n",
              "      <td>137.000000</td>\n",
              "      <td>137.000000</td>\n",
              "      <td>137.000000</td>\n",
              "      <td>137.000000</td>\n",
              "      <td>137.000000</td>\n",
              "      <td>...</td>\n",
              "      <td>137.000000</td>\n",
              "      <td>137.00000</td>\n",
              "      <td>137.000000</td>\n",
              "      <td>137.000000</td>\n",
              "      <td>137.000000</td>\n",
              "      <td>137.000000</td>\n",
              "      <td>137.000000</td>\n",
              "      <td>137.000000</td>\n",
              "      <td>137.000000</td>\n",
              "      <td>137.000000</td>\n",
              "    </tr>\n",
              "    <tr>\n",
              "      <th>mean</th>\n",
              "      <td>7.625409</td>\n",
              "      <td>6.553247</td>\n",
              "      <td>8.846202</td>\n",
              "      <td>7.372088</td>\n",
              "      <td>7.318127</td>\n",
              "      <td>7.561067</td>\n",
              "      <td>9.181256</td>\n",
              "      <td>7.390135</td>\n",
              "      <td>7.445572</td>\n",
              "      <td>7.756067</td>\n",
              "      <td>...</td>\n",
              "      <td>6.514587</td>\n",
              "      <td>7.27745</td>\n",
              "      <td>5.301960</td>\n",
              "      <td>6.799834</td>\n",
              "      <td>6.539014</td>\n",
              "      <td>7.645078</td>\n",
              "      <td>7.905435</td>\n",
              "      <td>7.511536</td>\n",
              "      <td>7.224324</td>\n",
              "      <td>1.970803</td>\n",
              "    </tr>\n",
              "    <tr>\n",
              "      <th>std</th>\n",
              "      <td>0.584810</td>\n",
              "      <td>0.869841</td>\n",
              "      <td>0.553860</td>\n",
              "      <td>0.290280</td>\n",
              "      <td>0.367854</td>\n",
              "      <td>0.281973</td>\n",
              "      <td>0.490373</td>\n",
              "      <td>0.239411</td>\n",
              "      <td>0.205667</td>\n",
              "      <td>0.131994</td>\n",
              "      <td>...</td>\n",
              "      <td>0.663130</td>\n",
              "      <td>0.34585</td>\n",
              "      <td>1.245742</td>\n",
              "      <td>0.283978</td>\n",
              "      <td>0.193859</td>\n",
              "      <td>0.273548</td>\n",
              "      <td>0.714546</td>\n",
              "      <td>0.932111</td>\n",
              "      <td>0.484999</td>\n",
              "      <td>1.042773</td>\n",
              "    </tr>\n",
              "    <tr>\n",
              "      <th>min</th>\n",
              "      <td>6.419995</td>\n",
              "      <td>4.954200</td>\n",
              "      <td>7.507790</td>\n",
              "      <td>6.820120</td>\n",
              "      <td>6.467025</td>\n",
              "      <td>6.794420</td>\n",
              "      <td>7.005525</td>\n",
              "      <td>6.693470</td>\n",
              "      <td>6.807350</td>\n",
              "      <td>7.405085</td>\n",
              "      <td>...</td>\n",
              "      <td>5.087460</td>\n",
              "      <td>6.35755</td>\n",
              "      <td>4.000000</td>\n",
              "      <td>6.022370</td>\n",
              "      <td>5.930740</td>\n",
              "      <td>6.857980</td>\n",
              "      <td>6.257360</td>\n",
              "      <td>4.599835</td>\n",
              "      <td>5.754890</td>\n",
              "      <td>0.000000</td>\n",
              "    </tr>\n",
              "    <tr>\n",
              "      <th>25%</th>\n",
              "      <td>7.278610</td>\n",
              "      <td>6.000000</td>\n",
              "      <td>8.471670</td>\n",
              "      <td>7.144575</td>\n",
              "      <td>7.049835</td>\n",
              "      <td>7.392320</td>\n",
              "      <td>8.929960</td>\n",
              "      <td>7.255875</td>\n",
              "      <td>7.294620</td>\n",
              "      <td>7.668845</td>\n",
              "      <td>...</td>\n",
              "      <td>6.087460</td>\n",
              "      <td>7.05528</td>\n",
              "      <td>4.488640</td>\n",
              "      <td>6.599910</td>\n",
              "      <td>6.409390</td>\n",
              "      <td>7.467610</td>\n",
              "      <td>7.446085</td>\n",
              "      <td>6.941320</td>\n",
              "      <td>6.930740</td>\n",
              "      <td>1.000000</td>\n",
              "    </tr>\n",
              "    <tr>\n",
              "      <th>50%</th>\n",
              "      <td>7.604725</td>\n",
              "      <td>6.442940</td>\n",
              "      <td>8.787900</td>\n",
              "      <td>7.335385</td>\n",
              "      <td>7.299490</td>\n",
              "      <td>7.562240</td>\n",
              "      <td>9.175835</td>\n",
              "      <td>7.353085</td>\n",
              "      <td>7.434630</td>\n",
              "      <td>7.748190</td>\n",
              "      <td>...</td>\n",
              "      <td>6.491850</td>\n",
              "      <td>7.31288</td>\n",
              "      <td>4.928990</td>\n",
              "      <td>6.794420</td>\n",
              "      <td>6.523560</td>\n",
              "      <td>7.686500</td>\n",
              "      <td>7.897585</td>\n",
              "      <td>7.569835</td>\n",
              "      <td>7.219170</td>\n",
              "      <td>2.000000</td>\n",
              "    </tr>\n",
              "    <tr>\n",
              "      <th>75%</th>\n",
              "      <td>8.102130</td>\n",
              "      <td>6.942510</td>\n",
              "      <td>9.228820</td>\n",
              "      <td>7.546890</td>\n",
              "      <td>7.566010</td>\n",
              "      <td>7.768180</td>\n",
              "      <td>9.446790</td>\n",
              "      <td>7.495585</td>\n",
              "      <td>7.569860</td>\n",
              "      <td>7.832835</td>\n",
              "      <td>...</td>\n",
              "      <td>6.845490</td>\n",
              "      <td>7.56986</td>\n",
              "      <td>5.629285</td>\n",
              "      <td>6.977280</td>\n",
              "      <td>6.672430</td>\n",
              "      <td>7.807350</td>\n",
              "      <td>8.315065</td>\n",
              "      <td>8.233610</td>\n",
              "      <td>7.539160</td>\n",
              "      <td>3.000000</td>\n",
              "    </tr>\n",
              "    <tr>\n",
              "      <th>max</th>\n",
              "      <td>8.897390</td>\n",
              "      <td>9.867280</td>\n",
              "      <td>10.364100</td>\n",
              "      <td>8.372390</td>\n",
              "      <td>8.424700</td>\n",
              "      <td>8.257390</td>\n",
              "      <td>10.436300</td>\n",
              "      <td>8.597620</td>\n",
              "      <td>8.060700</td>\n",
              "      <td>8.154735</td>\n",
              "      <td>...</td>\n",
              "      <td>9.459430</td>\n",
              "      <td>7.99435</td>\n",
              "      <td>9.720245</td>\n",
              "      <td>7.554590</td>\n",
              "      <td>6.977280</td>\n",
              "      <td>8.312880</td>\n",
              "      <td>9.964890</td>\n",
              "      <td>9.732690</td>\n",
              "      <td>8.379380</td>\n",
              "      <td>4.000000</td>\n",
              "    </tr>\n",
              "  </tbody>\n",
              "</table>\n",
              "<p>8 rows × 16203 columns</p>\n",
              "</div>\n",
              "      <button class=\"colab-df-convert\" onclick=\"convertToInteractive('df-7b5af0f9-fdd9-4dd4-a70b-1556f0463644')\"\n",
              "              title=\"Convert this dataframe to an interactive table.\"\n",
              "              style=\"display:none;\">\n",
              "        \n",
              "  <svg xmlns=\"http://www.w3.org/2000/svg\" height=\"24px\"viewBox=\"0 0 24 24\"\n",
              "       width=\"24px\">\n",
              "    <path d=\"M0 0h24v24H0V0z\" fill=\"none\"/>\n",
              "    <path d=\"M18.56 5.44l.94 2.06.94-2.06 2.06-.94-2.06-.94-.94-2.06-.94 2.06-2.06.94zm-11 1L8.5 8.5l.94-2.06 2.06-.94-2.06-.94L8.5 2.5l-.94 2.06-2.06.94zm10 10l.94 2.06.94-2.06 2.06-.94-2.06-.94-.94-2.06-.94 2.06-2.06.94z\"/><path d=\"M17.41 7.96l-1.37-1.37c-.4-.4-.92-.59-1.43-.59-.52 0-1.04.2-1.43.59L10.3 9.45l-7.72 7.72c-.78.78-.78 2.05 0 2.83L4 21.41c.39.39.9.59 1.41.59.51 0 1.02-.2 1.41-.59l7.78-7.78 2.81-2.81c.8-.78.8-2.07 0-2.86zM5.41 20L4 18.59l7.72-7.72 1.47 1.35L5.41 20z\"/>\n",
              "  </svg>\n",
              "      </button>\n",
              "      \n",
              "  <style>\n",
              "    .colab-df-container {\n",
              "      display:flex;\n",
              "      flex-wrap:wrap;\n",
              "      gap: 12px;\n",
              "    }\n",
              "\n",
              "    .colab-df-convert {\n",
              "      background-color: #E8F0FE;\n",
              "      border: none;\n",
              "      border-radius: 50%;\n",
              "      cursor: pointer;\n",
              "      display: none;\n",
              "      fill: #1967D2;\n",
              "      height: 32px;\n",
              "      padding: 0 0 0 0;\n",
              "      width: 32px;\n",
              "    }\n",
              "\n",
              "    .colab-df-convert:hover {\n",
              "      background-color: #E2EBFA;\n",
              "      box-shadow: 0px 1px 2px rgba(60, 64, 67, 0.3), 0px 1px 3px 1px rgba(60, 64, 67, 0.15);\n",
              "      fill: #174EA6;\n",
              "    }\n",
              "\n",
              "    [theme=dark] .colab-df-convert {\n",
              "      background-color: #3B4455;\n",
              "      fill: #D2E3FC;\n",
              "    }\n",
              "\n",
              "    [theme=dark] .colab-df-convert:hover {\n",
              "      background-color: #434B5C;\n",
              "      box-shadow: 0px 1px 3px 1px rgba(0, 0, 0, 0.15);\n",
              "      filter: drop-shadow(0px 1px 2px rgba(0, 0, 0, 0.3));\n",
              "      fill: #FFFFFF;\n",
              "    }\n",
              "  </style>\n",
              "\n",
              "      <script>\n",
              "        const buttonEl =\n",
              "          document.querySelector('#df-7b5af0f9-fdd9-4dd4-a70b-1556f0463644 button.colab-df-convert');\n",
              "        buttonEl.style.display =\n",
              "          google.colab.kernel.accessAllowed ? 'block' : 'none';\n",
              "\n",
              "        async function convertToInteractive(key) {\n",
              "          const element = document.querySelector('#df-7b5af0f9-fdd9-4dd4-a70b-1556f0463644');\n",
              "          const dataTable =\n",
              "            await google.colab.kernel.invokeFunction('convertToInteractive',\n",
              "                                                     [key], {});\n",
              "          if (!dataTable) return;\n",
              "\n",
              "          const docLinkHtml = 'Like what you see? Visit the ' +\n",
              "            '<a target=\"_blank\" href=https://colab.research.google.com/notebooks/data_table.ipynb>data table notebook</a>'\n",
              "            + ' to learn more about interactive tables.';\n",
              "          element.innerHTML = '';\n",
              "          dataTable['output_type'] = 'display_data';\n",
              "          await google.colab.output.renderOutput(dataTable, element);\n",
              "          const docLink = document.createElement('div');\n",
              "          docLink.innerHTML = docLinkHtml;\n",
              "          element.appendChild(docLink);\n",
              "        }\n",
              "      </script>\n",
              "    </div>\n",
              "  </div>\n",
              "  "
            ],
            "text/plain": [
              "       GSHG0000008  GSHG0000017  GSHG0000018  GSHG0000026  GSHG0000027  \\\n",
              "count   137.000000   137.000000   137.000000   137.000000   137.000000   \n",
              "mean      7.625409     6.553247     8.846202     7.372088     7.318127   \n",
              "std       0.584810     0.869841     0.553860     0.290280     0.367854   \n",
              "min       6.419995     4.954200     7.507790     6.820120     6.467025   \n",
              "25%       7.278610     6.000000     8.471670     7.144575     7.049835   \n",
              "50%       7.604725     6.442940     8.787900     7.335385     7.299490   \n",
              "75%       8.102130     6.942510     9.228820     7.546890     7.566010   \n",
              "max       8.897390     9.867280    10.364100     8.372390     8.424700   \n",
              "\n",
              "       GSHG0000029  GSHG0000033  GSHG0000035  GSHG0000036  GSHG0000038  ...  \\\n",
              "count   137.000000   137.000000   137.000000   137.000000   137.000000  ...   \n",
              "mean      7.561067     9.181256     7.390135     7.445572     7.756067  ...   \n",
              "std       0.281973     0.490373     0.239411     0.205667     0.131994  ...   \n",
              "min       6.794420     7.005525     6.693470     6.807350     7.405085  ...   \n",
              "25%       7.392320     8.929960     7.255875     7.294620     7.668845  ...   \n",
              "50%       7.562240     9.175835     7.353085     7.434630     7.748190  ...   \n",
              "75%       7.768180     9.446790     7.495585     7.569860     7.832835  ...   \n",
              "max       8.257390    10.436300     8.597620     8.060700     8.154735  ...   \n",
              "\n",
              "       GSHG0051555  GSHG0051559  GSHG0051578  GSHG0051581  GSHG0051588  \\\n",
              "count   137.000000    137.00000   137.000000   137.000000   137.000000   \n",
              "mean      6.514587      7.27745     5.301960     6.799834     6.539014   \n",
              "std       0.663130      0.34585     1.245742     0.283978     0.193859   \n",
              "min       5.087460      6.35755     4.000000     6.022370     5.930740   \n",
              "25%       6.087460      7.05528     4.488640     6.599910     6.409390   \n",
              "50%       6.491850      7.31288     4.928990     6.794420     6.523560   \n",
              "75%       6.845490      7.56986     5.629285     6.977280     6.672430   \n",
              "max       9.459430      7.99435     9.720245     7.554590     6.977280   \n",
              "\n",
              "       GSHG0051591  GSHG0051597  GSHG0051601  GSHG0051602     Outcome  \n",
              "count   137.000000   137.000000   137.000000   137.000000  137.000000  \n",
              "mean      7.645078     7.905435     7.511536     7.224324    1.970803  \n",
              "std       0.273548     0.714546     0.932111     0.484999    1.042773  \n",
              "min       6.857980     6.257360     4.599835     5.754890    0.000000  \n",
              "25%       7.467610     7.446085     6.941320     6.930740    1.000000  \n",
              "50%       7.686500     7.897585     7.569835     7.219170    2.000000  \n",
              "75%       7.807350     8.315065     8.233610     7.539160    3.000000  \n",
              "max       8.312880     9.964890     9.732690     8.379380    4.000000  \n",
              "\n",
              "[8 rows x 16203 columns]"
            ]
          },
          "execution_count": 139,
          "metadata": {},
          "output_type": "execute_result"
        }
      ],
      "source": [
        "train_data.describe(include='all')"
      ]
    },
    {
      "cell_type": "code",
      "execution_count": null,
      "metadata": {
        "colab": {
          "background_save": true
        },
        "id": "6q24ZwXEjpB0",
        "outputId": "f23b4f4e-fdee-4e19-c402-876fa4fafcd2"
      },
      "outputs": [
        {
          "data": {
            "text/html": [
              "\n",
              "  <div id=\"df-43c755ec-5d88-425f-85f7-c1bbf3ae969a\">\n",
              "    <div class=\"colab-df-container\">\n",
              "      <div>\n",
              "<style scoped>\n",
              "    .dataframe tbody tr th:only-of-type {\n",
              "        vertical-align: middle;\n",
              "    }\n",
              "\n",
              "    .dataframe tbody tr th {\n",
              "        vertical-align: top;\n",
              "    }\n",
              "\n",
              "    .dataframe thead th {\n",
              "        text-align: right;\n",
              "    }\n",
              "</style>\n",
              "<table border=\"1\" class=\"dataframe\">\n",
              "  <thead>\n",
              "    <tr style=\"text-align: right;\">\n",
              "      <th></th>\n",
              "      <th>GSHG0000008</th>\n",
              "      <th>GSHG0000017</th>\n",
              "      <th>GSHG0000018</th>\n",
              "      <th>GSHG0000026</th>\n",
              "      <th>GSHG0000027</th>\n",
              "      <th>GSHG0000029</th>\n",
              "      <th>GSHG0000033</th>\n",
              "      <th>GSHG0000035</th>\n",
              "      <th>GSHG0000036</th>\n",
              "      <th>GSHG0000038</th>\n",
              "      <th>...</th>\n",
              "      <th>GSHG0051555</th>\n",
              "      <th>GSHG0051559</th>\n",
              "      <th>GSHG0051578</th>\n",
              "      <th>GSHG0051581</th>\n",
              "      <th>GSHG0051588</th>\n",
              "      <th>GSHG0051591</th>\n",
              "      <th>GSHG0051597</th>\n",
              "      <th>GSHG0051601</th>\n",
              "      <th>GSHG0051602</th>\n",
              "      <th>Outcome</th>\n",
              "    </tr>\n",
              "  </thead>\n",
              "  <tbody>\n",
              "    <tr>\n",
              "      <th>GSHG0000008</th>\n",
              "      <td>1.000000</td>\n",
              "      <td>-0.122974</td>\n",
              "      <td>-0.088349</td>\n",
              "      <td>-0.374764</td>\n",
              "      <td>-0.389580</td>\n",
              "      <td>-0.261281</td>\n",
              "      <td>-0.442279</td>\n",
              "      <td>0.009938</td>\n",
              "      <td>-0.268359</td>\n",
              "      <td>0.049678</td>\n",
              "      <td>...</td>\n",
              "      <td>-0.107820</td>\n",
              "      <td>0.346219</td>\n",
              "      <td>0.266779</td>\n",
              "      <td>-0.083206</td>\n",
              "      <td>0.464599</td>\n",
              "      <td>0.225601</td>\n",
              "      <td>-0.266356</td>\n",
              "      <td>0.246763</td>\n",
              "      <td>0.096897</td>\n",
              "      <td>0.034729</td>\n",
              "    </tr>\n",
              "    <tr>\n",
              "      <th>GSHG0000017</th>\n",
              "      <td>-0.122974</td>\n",
              "      <td>1.000000</td>\n",
              "      <td>0.189959</td>\n",
              "      <td>0.363409</td>\n",
              "      <td>0.123600</td>\n",
              "      <td>0.024211</td>\n",
              "      <td>0.123709</td>\n",
              "      <td>-0.066141</td>\n",
              "      <td>0.193066</td>\n",
              "      <td>-0.033415</td>\n",
              "      <td>...</td>\n",
              "      <td>-0.044098</td>\n",
              "      <td>-0.011886</td>\n",
              "      <td>-0.090996</td>\n",
              "      <td>-0.061755</td>\n",
              "      <td>-0.067999</td>\n",
              "      <td>-0.004518</td>\n",
              "      <td>0.137672</td>\n",
              "      <td>0.196456</td>\n",
              "      <td>0.070474</td>\n",
              "      <td>0.235471</td>\n",
              "    </tr>\n",
              "    <tr>\n",
              "      <th>GSHG0000018</th>\n",
              "      <td>-0.088349</td>\n",
              "      <td>0.189959</td>\n",
              "      <td>1.000000</td>\n",
              "      <td>0.029175</td>\n",
              "      <td>0.394447</td>\n",
              "      <td>-0.177881</td>\n",
              "      <td>0.268190</td>\n",
              "      <td>0.123215</td>\n",
              "      <td>0.297356</td>\n",
              "      <td>0.341180</td>\n",
              "      <td>...</td>\n",
              "      <td>-0.068953</td>\n",
              "      <td>0.184582</td>\n",
              "      <td>0.037796</td>\n",
              "      <td>-0.365853</td>\n",
              "      <td>0.032809</td>\n",
              "      <td>0.005991</td>\n",
              "      <td>-0.313153</td>\n",
              "      <td>0.080879</td>\n",
              "      <td>-0.123534</td>\n",
              "      <td>0.213790</td>\n",
              "    </tr>\n",
              "    <tr>\n",
              "      <th>GSHG0000026</th>\n",
              "      <td>-0.374764</td>\n",
              "      <td>0.363409</td>\n",
              "      <td>0.029175</td>\n",
              "      <td>1.000000</td>\n",
              "      <td>0.295004</td>\n",
              "      <td>0.341352</td>\n",
              "      <td>0.346313</td>\n",
              "      <td>0.222309</td>\n",
              "      <td>0.445415</td>\n",
              "      <td>0.106378</td>\n",
              "      <td>...</td>\n",
              "      <td>-0.004080</td>\n",
              "      <td>-0.314835</td>\n",
              "      <td>-0.017155</td>\n",
              "      <td>0.096077</td>\n",
              "      <td>-0.275572</td>\n",
              "      <td>-0.277681</td>\n",
              "      <td>0.115334</td>\n",
              "      <td>-0.096748</td>\n",
              "      <td>0.141785</td>\n",
              "      <td>0.148011</td>\n",
              "    </tr>\n",
              "    <tr>\n",
              "      <th>GSHG0000027</th>\n",
              "      <td>-0.389580</td>\n",
              "      <td>0.123600</td>\n",
              "      <td>0.394447</td>\n",
              "      <td>0.295004</td>\n",
              "      <td>1.000000</td>\n",
              "      <td>0.252512</td>\n",
              "      <td>0.370966</td>\n",
              "      <td>0.066554</td>\n",
              "      <td>0.425165</td>\n",
              "      <td>0.233652</td>\n",
              "      <td>...</td>\n",
              "      <td>-0.251513</td>\n",
              "      <td>-0.103548</td>\n",
              "      <td>-0.133973</td>\n",
              "      <td>-0.043598</td>\n",
              "      <td>-0.296168</td>\n",
              "      <td>-0.342520</td>\n",
              "      <td>-0.082395</td>\n",
              "      <td>-0.168029</td>\n",
              "      <td>-0.186870</td>\n",
              "      <td>0.042310</td>\n",
              "    </tr>\n",
              "    <tr>\n",
              "      <th>...</th>\n",
              "      <td>...</td>\n",
              "      <td>...</td>\n",
              "      <td>...</td>\n",
              "      <td>...</td>\n",
              "      <td>...</td>\n",
              "      <td>...</td>\n",
              "      <td>...</td>\n",
              "      <td>...</td>\n",
              "      <td>...</td>\n",
              "      <td>...</td>\n",
              "      <td>...</td>\n",
              "      <td>...</td>\n",
              "      <td>...</td>\n",
              "      <td>...</td>\n",
              "      <td>...</td>\n",
              "      <td>...</td>\n",
              "      <td>...</td>\n",
              "      <td>...</td>\n",
              "      <td>...</td>\n",
              "      <td>...</td>\n",
              "      <td>...</td>\n",
              "    </tr>\n",
              "    <tr>\n",
              "      <th>GSHG0051591</th>\n",
              "      <td>0.225601</td>\n",
              "      <td>-0.004518</td>\n",
              "      <td>0.005991</td>\n",
              "      <td>-0.277681</td>\n",
              "      <td>-0.342520</td>\n",
              "      <td>-0.300315</td>\n",
              "      <td>-0.333179</td>\n",
              "      <td>0.064610</td>\n",
              "      <td>-0.060204</td>\n",
              "      <td>0.028843</td>\n",
              "      <td>...</td>\n",
              "      <td>-0.064523</td>\n",
              "      <td>0.203759</td>\n",
              "      <td>0.159564</td>\n",
              "      <td>-0.050144</td>\n",
              "      <td>0.322089</td>\n",
              "      <td>1.000000</td>\n",
              "      <td>-0.145761</td>\n",
              "      <td>-0.039778</td>\n",
              "      <td>-0.050874</td>\n",
              "      <td>0.156236</td>\n",
              "    </tr>\n",
              "    <tr>\n",
              "      <th>GSHG0051597</th>\n",
              "      <td>-0.266356</td>\n",
              "      <td>0.137672</td>\n",
              "      <td>-0.313153</td>\n",
              "      <td>0.115334</td>\n",
              "      <td>-0.082395</td>\n",
              "      <td>0.050147</td>\n",
              "      <td>0.270701</td>\n",
              "      <td>-0.305743</td>\n",
              "      <td>-0.205116</td>\n",
              "      <td>-0.388912</td>\n",
              "      <td>...</td>\n",
              "      <td>0.459231</td>\n",
              "      <td>-0.072475</td>\n",
              "      <td>-0.142821</td>\n",
              "      <td>0.183134</td>\n",
              "      <td>-0.279899</td>\n",
              "      <td>-0.145761</td>\n",
              "      <td>1.000000</td>\n",
              "      <td>0.268502</td>\n",
              "      <td>0.337203</td>\n",
              "      <td>-0.334866</td>\n",
              "    </tr>\n",
              "    <tr>\n",
              "      <th>GSHG0051601</th>\n",
              "      <td>0.246763</td>\n",
              "      <td>0.196456</td>\n",
              "      <td>0.080879</td>\n",
              "      <td>-0.096748</td>\n",
              "      <td>-0.168029</td>\n",
              "      <td>-0.132528</td>\n",
              "      <td>0.174023</td>\n",
              "      <td>-0.290520</td>\n",
              "      <td>-0.223215</td>\n",
              "      <td>-0.168326</td>\n",
              "      <td>...</td>\n",
              "      <td>0.410131</td>\n",
              "      <td>0.171443</td>\n",
              "      <td>0.056445</td>\n",
              "      <td>-0.143977</td>\n",
              "      <td>0.102285</td>\n",
              "      <td>-0.039778</td>\n",
              "      <td>0.268502</td>\n",
              "      <td>1.000000</td>\n",
              "      <td>0.276451</td>\n",
              "      <td>-0.170796</td>\n",
              "    </tr>\n",
              "    <tr>\n",
              "      <th>GSHG0051602</th>\n",
              "      <td>0.096897</td>\n",
              "      <td>0.070474</td>\n",
              "      <td>-0.123534</td>\n",
              "      <td>0.141785</td>\n",
              "      <td>-0.186870</td>\n",
              "      <td>-0.044017</td>\n",
              "      <td>0.105326</td>\n",
              "      <td>-0.219983</td>\n",
              "      <td>-0.270288</td>\n",
              "      <td>-0.259279</td>\n",
              "      <td>...</td>\n",
              "      <td>0.323464</td>\n",
              "      <td>0.082698</td>\n",
              "      <td>0.144221</td>\n",
              "      <td>0.028864</td>\n",
              "      <td>-0.089731</td>\n",
              "      <td>-0.050874</td>\n",
              "      <td>0.337203</td>\n",
              "      <td>0.276451</td>\n",
              "      <td>1.000000</td>\n",
              "      <td>-0.244328</td>\n",
              "    </tr>\n",
              "    <tr>\n",
              "      <th>Outcome</th>\n",
              "      <td>0.034729</td>\n",
              "      <td>0.235471</td>\n",
              "      <td>0.213790</td>\n",
              "      <td>0.148011</td>\n",
              "      <td>0.042310</td>\n",
              "      <td>-0.033286</td>\n",
              "      <td>-0.195299</td>\n",
              "      <td>0.443305</td>\n",
              "      <td>0.273042</td>\n",
              "      <td>0.237748</td>\n",
              "      <td>...</td>\n",
              "      <td>-0.488938</td>\n",
              "      <td>-0.019687</td>\n",
              "      <td>0.022063</td>\n",
              "      <td>-0.148070</td>\n",
              "      <td>0.164711</td>\n",
              "      <td>0.156236</td>\n",
              "      <td>-0.334866</td>\n",
              "      <td>-0.170796</td>\n",
              "      <td>-0.244328</td>\n",
              "      <td>1.000000</td>\n",
              "    </tr>\n",
              "  </tbody>\n",
              "</table>\n",
              "<p>16203 rows × 16203 columns</p>\n",
              "</div>\n",
              "      <button class=\"colab-df-convert\" onclick=\"convertToInteractive('df-43c755ec-5d88-425f-85f7-c1bbf3ae969a')\"\n",
              "              title=\"Convert this dataframe to an interactive table.\"\n",
              "              style=\"display:none;\">\n",
              "        \n",
              "  <svg xmlns=\"http://www.w3.org/2000/svg\" height=\"24px\"viewBox=\"0 0 24 24\"\n",
              "       width=\"24px\">\n",
              "    <path d=\"M0 0h24v24H0V0z\" fill=\"none\"/>\n",
              "    <path d=\"M18.56 5.44l.94 2.06.94-2.06 2.06-.94-2.06-.94-.94-2.06-.94 2.06-2.06.94zm-11 1L8.5 8.5l.94-2.06 2.06-.94-2.06-.94L8.5 2.5l-.94 2.06-2.06.94zm10 10l.94 2.06.94-2.06 2.06-.94-2.06-.94-.94-2.06-.94 2.06-2.06.94z\"/><path d=\"M17.41 7.96l-1.37-1.37c-.4-.4-.92-.59-1.43-.59-.52 0-1.04.2-1.43.59L10.3 9.45l-7.72 7.72c-.78.78-.78 2.05 0 2.83L4 21.41c.39.39.9.59 1.41.59.51 0 1.02-.2 1.41-.59l7.78-7.78 2.81-2.81c.8-.78.8-2.07 0-2.86zM5.41 20L4 18.59l7.72-7.72 1.47 1.35L5.41 20z\"/>\n",
              "  </svg>\n",
              "      </button>\n",
              "      \n",
              "  <style>\n",
              "    .colab-df-container {\n",
              "      display:flex;\n",
              "      flex-wrap:wrap;\n",
              "      gap: 12px;\n",
              "    }\n",
              "\n",
              "    .colab-df-convert {\n",
              "      background-color: #E8F0FE;\n",
              "      border: none;\n",
              "      border-radius: 50%;\n",
              "      cursor: pointer;\n",
              "      display: none;\n",
              "      fill: #1967D2;\n",
              "      height: 32px;\n",
              "      padding: 0 0 0 0;\n",
              "      width: 32px;\n",
              "    }\n",
              "\n",
              "    .colab-df-convert:hover {\n",
              "      background-color: #E2EBFA;\n",
              "      box-shadow: 0px 1px 2px rgba(60, 64, 67, 0.3), 0px 1px 3px 1px rgba(60, 64, 67, 0.15);\n",
              "      fill: #174EA6;\n",
              "    }\n",
              "\n",
              "    [theme=dark] .colab-df-convert {\n",
              "      background-color: #3B4455;\n",
              "      fill: #D2E3FC;\n",
              "    }\n",
              "\n",
              "    [theme=dark] .colab-df-convert:hover {\n",
              "      background-color: #434B5C;\n",
              "      box-shadow: 0px 1px 3px 1px rgba(0, 0, 0, 0.15);\n",
              "      filter: drop-shadow(0px 1px 2px rgba(0, 0, 0, 0.3));\n",
              "      fill: #FFFFFF;\n",
              "    }\n",
              "  </style>\n",
              "\n",
              "      <script>\n",
              "        const buttonEl =\n",
              "          document.querySelector('#df-43c755ec-5d88-425f-85f7-c1bbf3ae969a button.colab-df-convert');\n",
              "        buttonEl.style.display =\n",
              "          google.colab.kernel.accessAllowed ? 'block' : 'none';\n",
              "\n",
              "        async function convertToInteractive(key) {\n",
              "          const element = document.querySelector('#df-43c755ec-5d88-425f-85f7-c1bbf3ae969a');\n",
              "          const dataTable =\n",
              "            await google.colab.kernel.invokeFunction('convertToInteractive',\n",
              "                                                     [key], {});\n",
              "          if (!dataTable) return;\n",
              "\n",
              "          const docLinkHtml = 'Like what you see? Visit the ' +\n",
              "            '<a target=\"_blank\" href=https://colab.research.google.com/notebooks/data_table.ipynb>data table notebook</a>'\n",
              "            + ' to learn more about interactive tables.';\n",
              "          element.innerHTML = '';\n",
              "          dataTable['output_type'] = 'display_data';\n",
              "          await google.colab.output.renderOutput(dataTable, element);\n",
              "          const docLink = document.createElement('div');\n",
              "          docLink.innerHTML = docLinkHtml;\n",
              "          element.appendChild(docLink);\n",
              "        }\n",
              "      </script>\n",
              "    </div>\n",
              "  </div>\n",
              "  "
            ],
            "text/plain": [
              "             GSHG0000008  GSHG0000017  GSHG0000018  GSHG0000026  GSHG0000027  \\\n",
              "GSHG0000008     1.000000    -0.122974    -0.088349    -0.374764    -0.389580   \n",
              "GSHG0000017    -0.122974     1.000000     0.189959     0.363409     0.123600   \n",
              "GSHG0000018    -0.088349     0.189959     1.000000     0.029175     0.394447   \n",
              "GSHG0000026    -0.374764     0.363409     0.029175     1.000000     0.295004   \n",
              "GSHG0000027    -0.389580     0.123600     0.394447     0.295004     1.000000   \n",
              "...                  ...          ...          ...          ...          ...   \n",
              "GSHG0051591     0.225601    -0.004518     0.005991    -0.277681    -0.342520   \n",
              "GSHG0051597    -0.266356     0.137672    -0.313153     0.115334    -0.082395   \n",
              "GSHG0051601     0.246763     0.196456     0.080879    -0.096748    -0.168029   \n",
              "GSHG0051602     0.096897     0.070474    -0.123534     0.141785    -0.186870   \n",
              "Outcome         0.034729     0.235471     0.213790     0.148011     0.042310   \n",
              "\n",
              "             GSHG0000029  GSHG0000033  GSHG0000035  GSHG0000036  GSHG0000038  \\\n",
              "GSHG0000008    -0.261281    -0.442279     0.009938    -0.268359     0.049678   \n",
              "GSHG0000017     0.024211     0.123709    -0.066141     0.193066    -0.033415   \n",
              "GSHG0000018    -0.177881     0.268190     0.123215     0.297356     0.341180   \n",
              "GSHG0000026     0.341352     0.346313     0.222309     0.445415     0.106378   \n",
              "GSHG0000027     0.252512     0.370966     0.066554     0.425165     0.233652   \n",
              "...                  ...          ...          ...          ...          ...   \n",
              "GSHG0051591    -0.300315    -0.333179     0.064610    -0.060204     0.028843   \n",
              "GSHG0051597     0.050147     0.270701    -0.305743    -0.205116    -0.388912   \n",
              "GSHG0051601    -0.132528     0.174023    -0.290520    -0.223215    -0.168326   \n",
              "GSHG0051602    -0.044017     0.105326    -0.219983    -0.270288    -0.259279   \n",
              "Outcome        -0.033286    -0.195299     0.443305     0.273042     0.237748   \n",
              "\n",
              "             ...  GSHG0051555  GSHG0051559  GSHG0051578  GSHG0051581  \\\n",
              "GSHG0000008  ...    -0.107820     0.346219     0.266779    -0.083206   \n",
              "GSHG0000017  ...    -0.044098    -0.011886    -0.090996    -0.061755   \n",
              "GSHG0000018  ...    -0.068953     0.184582     0.037796    -0.365853   \n",
              "GSHG0000026  ...    -0.004080    -0.314835    -0.017155     0.096077   \n",
              "GSHG0000027  ...    -0.251513    -0.103548    -0.133973    -0.043598   \n",
              "...          ...          ...          ...          ...          ...   \n",
              "GSHG0051591  ...    -0.064523     0.203759     0.159564    -0.050144   \n",
              "GSHG0051597  ...     0.459231    -0.072475    -0.142821     0.183134   \n",
              "GSHG0051601  ...     0.410131     0.171443     0.056445    -0.143977   \n",
              "GSHG0051602  ...     0.323464     0.082698     0.144221     0.028864   \n",
              "Outcome      ...    -0.488938    -0.019687     0.022063    -0.148070   \n",
              "\n",
              "             GSHG0051588  GSHG0051591  GSHG0051597  GSHG0051601  GSHG0051602  \\\n",
              "GSHG0000008     0.464599     0.225601    -0.266356     0.246763     0.096897   \n",
              "GSHG0000017    -0.067999    -0.004518     0.137672     0.196456     0.070474   \n",
              "GSHG0000018     0.032809     0.005991    -0.313153     0.080879    -0.123534   \n",
              "GSHG0000026    -0.275572    -0.277681     0.115334    -0.096748     0.141785   \n",
              "GSHG0000027    -0.296168    -0.342520    -0.082395    -0.168029    -0.186870   \n",
              "...                  ...          ...          ...          ...          ...   \n",
              "GSHG0051591     0.322089     1.000000    -0.145761    -0.039778    -0.050874   \n",
              "GSHG0051597    -0.279899    -0.145761     1.000000     0.268502     0.337203   \n",
              "GSHG0051601     0.102285    -0.039778     0.268502     1.000000     0.276451   \n",
              "GSHG0051602    -0.089731    -0.050874     0.337203     0.276451     1.000000   \n",
              "Outcome         0.164711     0.156236    -0.334866    -0.170796    -0.244328   \n",
              "\n",
              "              Outcome  \n",
              "GSHG0000008  0.034729  \n",
              "GSHG0000017  0.235471  \n",
              "GSHG0000018  0.213790  \n",
              "GSHG0000026  0.148011  \n",
              "GSHG0000027  0.042310  \n",
              "...               ...  \n",
              "GSHG0051591  0.156236  \n",
              "GSHG0051597 -0.334866  \n",
              "GSHG0051601 -0.170796  \n",
              "GSHG0051602 -0.244328  \n",
              "Outcome      1.000000  \n",
              "\n",
              "[16203 rows x 16203 columns]"
            ]
          },
          "execution_count": 140,
          "metadata": {},
          "output_type": "execute_result"
        }
      ],
      "source": [
        "# to check correlation beween independent features\n",
        "train_data.corr()"
      ]
    },
    {
      "cell_type": "code",
      "execution_count": null,
      "metadata": {
        "colab": {
          "background_save": true
        },
        "id": "UIP6QUHbkfr_",
        "outputId": "474dc5b8-ad74-4281-f215-acddd1c0fa7b"
      },
      "outputs": [
        {
          "data": {
            "text/plain": [
              "GSHG0000008    0.342003\n",
              "GSHG0000017    0.756623\n",
              "GSHG0000018    0.306761\n",
              "GSHG0000026    0.084262\n",
              "GSHG0000027    0.135316\n",
              "                 ...   \n",
              "GSHG0051591    0.074828\n",
              "GSHG0051597    0.510577\n",
              "GSHG0051601    0.868830\n",
              "GSHG0051602    0.235224\n",
              "Outcome        1.087377\n",
              "Length: 16203, dtype: float64"
            ]
          },
          "execution_count": 141,
          "metadata": {},
          "output_type": "execute_result"
        }
      ],
      "source": [
        "#to test variance of data whether it is highly variable\n",
        "train_data.var()"
      ]
    },
    {
      "cell_type": "code",
      "execution_count": null,
      "metadata": {
        "colab": {
          "background_save": true
        },
        "id": "Q2WXOfhpko7G"
      },
      "outputs": [],
      "source": []
    },
    {
      "cell_type": "code",
      "execution_count": null,
      "metadata": {
        "colab": {
          "background_save": true
        },
        "id": "gPmo3FHAjyM_"
      },
      "outputs": [],
      "source": [
        "#plt.figure(figsize =(10,10)\n",
        "#sns.heatmap(train_data.corr())"
      ]
    },
    {
      "cell_type": "code",
      "execution_count": null,
      "metadata": {
        "colab": {
          "background_save": true
        },
        "id": "mDl8HYp7ue5E",
        "outputId": "f956bd8e-88b3-4bd7-bc37-8aee5d2024e9"
      },
      "outputs": [
        {
          "data": {
            "text/plain": [
              "(137, 16203)"
            ]
          },
          "execution_count": 143,
          "metadata": {},
          "output_type": "execute_result"
        }
      ],
      "source": [
        "train_data.shape"
      ]
    },
    {
      "cell_type": "code",
      "execution_count": null,
      "metadata": {
        "colab": {
          "background_save": true
        },
        "id": "Pzp23l_Nw9Ym"
      },
      "outputs": [],
      "source": [
        "train_data['Outcome'] = train_data['Outcome'].astype('int')\n"
      ]
    },
    {
      "cell_type": "code",
      "execution_count": null,
      "metadata": {
        "colab": {
          "background_save": true
        },
        "id": "mCgeHMuXwqVu",
        "outputId": "33b3353f-b4a6-4289-b94a-ab3db0079c72"
      },
      "outputs": [
        {
          "data": {
            "text/plain": [
              "<seaborn.axisgrid.FacetGrid at 0x7f8ac1d47fa0>"
            ]
          },
          "execution_count": 101,
          "metadata": {},
          "output_type": "execute_result"
        },
        {
          "data": {
            "image/png": "[encoded data removed]",
            "text/plain": [
              "<Figure size 600x600 with 1 Axes>"
            ]
          },
          "metadata": {},
          "output_type": "display_data"
        }
      ],
      "source": [
        "# Display counts of classes\n",
        "sns.catplot(x = 'Outcome', kind = \"count\", data = train_data, height = 6)"
      ]
    },
    {
      "cell_type": "code",
      "execution_count": null,
      "metadata": {
        "colab": {
          "background_save": true
        },
        "id": "3K4pzGJbxj60",
        "outputId": "c591dde5-de4f-4f01-bd10-a7b228f4d2c1"
      },
      "outputs": [
        {
          "data": {
            "text/plain": [
              "2    55\n",
              "1    36\n",
              "3    24\n",
              "4    13\n",
              "0     9\n",
              "Name: Outcome, dtype: int64"
            ]
          },
          "execution_count": 102,
          "metadata": {},
          "output_type": "execute_result"
        }
      ],
      "source": [
        "train_data['Outcome'].value_counts()"
      ]
    },
    {
      "cell_type": "code",
      "execution_count": null,
      "metadata": {
        "colab": {
          "background_save": true
        },
        "id": "cDMrr9VOyAzG"
      },
      "outputs": [],
      "source": [
        "# Splitting data into classes\n",
        "df_0 = train_data[train_data['Outcome'] == 0]\n",
        "df_1 = train_data[train_data['Outcome'] == 1]\n",
        "df_2 = train_data[train_data['Outcome'] == 2]\n",
        "df_3 = train_data[train_data['Outcome'] == 3]\n",
        "df_4 = train_data[train_data['Outcome'] == 4]"
      ]
    },
    {
      "cell_type": "code",
      "execution_count": null,
      "metadata": {
        "colab": {
          "background_save": true
        },
        "id": "M7zD5k4fzNh0"
      },
      "outputs": [],
      "source": [
        "# Resample using \"Bootstrapping\" method to regenerate samples by upsampling for each class.\n",
        "from sklearn.utils import resample"
      ]
    },
    {
      "cell_type": "code",
      "execution_count": null,
      "metadata": {
        "colab": {
          "background_save": true
        },
        "id": "Brfkn0Z4yd-a"
      },
      "outputs": [],
      "source": [
        "df_0_upsample = resample(df_0, n_samples = 100, replace = True, random_state = 123)\n",
        "df_1_upsample = resample(df_1, n_samples = 100, replace = True, random_state = 123)\n",
        "df_2_upsample = resample(df_2, n_samples = 100, replace = True, random_state = 123)\n",
        "df_3_upsample = resample(df_3, n_samples = 100, replace = True, random_state = 123)\n",
        "df_4_upsample = resample(df_4, n_samples = 100, replace = True, random_state = 123)"
      ]
    },
    {
      "cell_type": "code",
      "execution_count": null,
      "metadata": {
        "colab": {
          "background_save": true
        },
        "id": "ejJ76tJIza2f"
      },
      "outputs": [],
      "source": [
        "# Merge all dataframes to create new train samples\n",
        "train_df = pd.concat([df_0_upsample, df_1_upsample, df_2_upsample, df_3_upsample, df_4_upsample])"
      ]
    },
    {
      "cell_type": "code",
      "execution_count": null,
      "metadata": {
        "colab": {
          "background_save": true
        },
        "id": "XxfXkF_VzfRR",
        "outputId": "61abf8ee-638e-44ba-b94b-2bb41c7c0958"
      },
      "outputs": [
        {
          "data": {
            "text/plain": [
              "0    100\n",
              "1    100\n",
              "2    100\n",
              "3    100\n",
              "4    100\n",
              "Name: Outcome, dtype: int64"
            ]
          },
          "execution_count": 107,
          "metadata": {},
          "output_type": "execute_result"
        }
      ],
      "source": [
        "train_df['Outcome'].value_counts()"
      ]
    },
    {
      "cell_type": "code",
      "execution_count": null,
      "metadata": {
        "colab": {
          "background_save": true
        },
        "id": "ZogEe81L0QTn",
        "outputId": "3eec7e7d-a4e1-475d-df39-55a9d75251c3"
      },
      "outputs": [
        {
          "data": {
            "image/png": "[encoded data removed]",
            "text/plain": [
              "<Figure size 1000x1000 with 1 Axes>"
            ]
          },
          "metadata": {},
          "output_type": "display_data"
        }
      ],
      "source": [
        "plt.style.use('ggplot')\n",
        "plt.figure(figsize=(10,10))\n",
        "my_circle = plt.Circle((0,0), 0.7, color = 'white')\n",
        "plt.pie(train_df['Outcome'].value_counts(), labels = ['Normal','pT2a/b/c','pT3a',\n",
        "                                                  'pT3b/pT4', 'HR'], autopct = '%0.0f%%')\n",
        "p = plt.gcf()\n",
        "p.gca().add_artist(my_circle)\n",
        "plt.show()"
      ]
    },
    {
      "cell_type": "code",
      "execution_count": null,
      "metadata": {
        "colab": {
          "background_save": true
        },
        "id": "ARNZOePe60fB"
      },
      "outputs": [],
      "source": [
        "X = train_df.drop('Outcome', axis = 1)\n",
        "Y = train_df['Outcome']"
      ]
    },
    {
      "cell_type": "code",
      "execution_count": null,
      "metadata": {
        "colab": {
          "background_save": true
        },
        "id": "SU_g9Sv169UC"
      },
      "outputs": [],
      "source": [
        "from sklearn.model_selection import train_test_split\n",
        "# spliting of training & test is 80% to 20% ratio\n",
        "x_train, x_test, y_train, y_test = train_test_split(X, Y, test_size = 0.2, random_state = 2)"
      ]
    },
    {
      "cell_type": "code",
      "execution_count": null,
      "metadata": {
        "colab": {
          "background_save": true
        },
        "id": "gvDWp-3T8H_R",
        "outputId": "12ff3439-ab8d-4d8b-9ecc-c1677dc65ab6"
      },
      "outputs": [
        {
          "data": {
            "text/plain": [
              "(400, 16202)"
            ]
          },
          "execution_count": 111,
          "metadata": {},
          "output_type": "execute_result"
        }
      ],
      "source": [
        "x_train.shape"
      ]
    },
    {
      "cell_type": "code",
      "execution_count": null,
      "metadata": {
        "colab": {
          "background_save": true
        },
        "id": "PjDgwozm8Q2C",
        "outputId": "72c5de12-f8ba-4469-fa55-0814ce99b0d9"
      },
      "outputs": [
        {
          "data": {
            "text/plain": [
              "(100, 16202)"
            ]
          },
          "execution_count": 112,
          "metadata": {},
          "output_type": "execute_result"
        }
      ],
      "source": [
        "x_test.shape"
      ]
    },
    {
      "cell_type": "code",
      "execution_count": null,
      "metadata": {
        "colab": {
          "background_save": true
        },
        "id": "TsbYPLjl4y6f"
      },
      "outputs": [],
      "source": [
        "from keras.utils.np_utils import to_categorical"
      ]
    },
    {
      "cell_type": "code",
      "execution_count": null,
      "metadata": {
        "colab": {
          "background_save": true
        },
        "id": "vM3tYFTN41pr"
      },
      "outputs": [],
      "source": [
        "y_train = to_categorical(y_train)"
      ]
    },
    {
      "cell_type": "code",
      "execution_count": null,
      "metadata": {
        "colab": {
          "background_save": true
        },
        "id": "BMzUvU-E6O_s",
        "outputId": "7c016021-eba5-4821-e3bb-63e5c33987c6"
      },
      "outputs": [
        {
          "data": {
            "text/plain": [
              "array([[0., 0., 0., 0., 1.],\n",
              "       [0., 0., 0., 0., 1.],\n",
              "       [1., 0., 0., 0., 0.],\n",
              "       ...,\n",
              "       [0., 0., 0., 0., 1.],\n",
              "       [1., 0., 0., 0., 0.],\n",
              "       [0., 1., 0., 0., 0.]], dtype=float32)"
            ]
          },
          "execution_count": 115,
          "metadata": {},
          "output_type": "execute_result"
        }
      ],
      "source": [
        "y_train"
      ]
    },
    {
      "cell_type": "code",
      "execution_count": null,
      "metadata": {
        "colab": {
          "background_save": true
        },
        "id": "CUXjtEfU5OjR"
      },
      "outputs": [],
      "source": [
        "y_test = to_categorical(y_test)"
      ]
    },
    {
      "cell_type": "code",
      "execution_count": null,
      "metadata": {
        "colab": {
          "background_save": true
        },
        "id": "Tlz6Ga-s4_Yv",
        "outputId": "22851e11-060d-4e32-ce2b-20c9e5438159"
      },
      "outputs": [
        {
          "data": {
            "text/plain": [
              "array([[0., 1., 0., 0., 0.],\n",
              "       [0., 0., 1., 0., 0.],\n",
              "       [0., 0., 0., 0., 1.],\n",
              "       [0., 0., 0., 1., 0.],\n",
              "       [0., 0., 1., 0., 0.],\n",
              "       [0., 0., 0., 0., 1.],\n",
              "       [1., 0., 0., 0., 0.],\n",
              "       [0., 0., 0., 0., 1.],\n",
              "       [0., 0., 0., 1., 0.],\n",
              "       [0., 0., 0., 1., 0.],\n",
              "       [0., 0., 0., 0., 1.],\n",
              "       [0., 0., 0., 1., 0.],\n",
              "       [0., 1., 0., 0., 0.],\n",
              "       [0., 1., 0., 0., 0.],\n",
              "       [0., 0., 0., 1., 0.],\n",
              "       [0., 1., 0., 0., 0.],\n",
              "       [0., 0., 0., 1., 0.],\n",
              "       [0., 0., 0., 0., 1.],\n",
              "       [0., 0., 0., 1., 0.],\n",
              "       [0., 1., 0., 0., 0.],\n",
              "       [0., 0., 0., 0., 1.],\n",
              "       [1., 0., 0., 0., 0.],\n",
              "       [0., 0., 1., 0., 0.],\n",
              "       [0., 0., 0., 1., 0.],\n",
              "       [1., 0., 0., 0., 0.],\n",
              "       [0., 1., 0., 0., 0.],\n",
              "       [1., 0., 0., 0., 0.],\n",
              "       [0., 0., 0., 1., 0.],\n",
              "       [0., 0., 0., 0., 1.],\n",
              "       [1., 0., 0., 0., 0.],\n",
              "       [0., 1., 0., 0., 0.],\n",
              "       [0., 0., 1., 0., 0.],\n",
              "       [0., 0., 0., 1., 0.],\n",
              "       [0., 1., 0., 0., 0.],\n",
              "       [0., 0., 1., 0., 0.],\n",
              "       [0., 1., 0., 0., 0.],\n",
              "       [0., 1., 0., 0., 0.],\n",
              "       [0., 0., 0., 1., 0.],\n",
              "       [0., 0., 1., 0., 0.],\n",
              "       [0., 0., 0., 1., 0.],\n",
              "       [0., 0., 1., 0., 0.],\n",
              "       [1., 0., 0., 0., 0.],\n",
              "       [0., 0., 0., 0., 1.],\n",
              "       [1., 0., 0., 0., 0.],\n",
              "       [1., 0., 0., 0., 0.],\n",
              "       [0., 0., 0., 0., 1.],\n",
              "       [0., 0., 0., 0., 1.],\n",
              "       [0., 0., 1., 0., 0.],\n",
              "       [0., 1., 0., 0., 0.],\n",
              "       [0., 0., 0., 0., 1.],\n",
              "       [0., 0., 0., 0., 1.],\n",
              "       [0., 0., 1., 0., 0.],\n",
              "       [0., 0., 1., 0., 0.],\n",
              "       [0., 0., 1., 0., 0.],\n",
              "       [0., 0., 0., 0., 1.],\n",
              "       [0., 0., 0., 0., 1.],\n",
              "       [1., 0., 0., 0., 0.],\n",
              "       [1., 0., 0., 0., 0.],\n",
              "       [0., 0., 0., 0., 1.],\n",
              "       [0., 0., 0., 1., 0.],\n",
              "       [0., 0., 0., 0., 1.],\n",
              "       [0., 0., 1., 0., 0.],\n",
              "       [0., 1., 0., 0., 0.],\n",
              "       [0., 0., 1., 0., 0.],\n",
              "       [0., 0., 0., 0., 1.],\n",
              "       [0., 0., 1., 0., 0.],\n",
              "       [0., 0., 1., 0., 0.],\n",
              "       [1., 0., 0., 0., 0.],\n",
              "       [1., 0., 0., 0., 0.],\n",
              "       [0., 0., 0., 1., 0.],\n",
              "       [1., 0., 0., 0., 0.],\n",
              "       [1., 0., 0., 0., 0.],\n",
              "       [0., 0., 0., 1., 0.],\n",
              "       [0., 1., 0., 0., 0.],\n",
              "       [0., 0., 0., 1., 0.],\n",
              "       [0., 1., 0., 0., 0.],\n",
              "       [1., 0., 0., 0., 0.],\n",
              "       [1., 0., 0., 0., 0.],\n",
              "       [0., 0., 0., 0., 1.],\n",
              "       [0., 0., 0., 0., 1.],\n",
              "       [0., 0., 0., 0., 1.],\n",
              "       [0., 0., 1., 0., 0.],\n",
              "       [0., 0., 0., 1., 0.],\n",
              "       [1., 0., 0., 0., 0.],\n",
              "       [0., 1., 0., 0., 0.],\n",
              "       [0., 1., 0., 0., 0.],\n",
              "       [0., 0., 1., 0., 0.],\n",
              "       [0., 0., 0., 0., 1.],\n",
              "       [1., 0., 0., 0., 0.],\n",
              "       [0., 0., 1., 0., 0.],\n",
              "       [1., 0., 0., 0., 0.],\n",
              "       [1., 0., 0., 0., 0.],\n",
              "       [0., 0., 0., 0., 1.],\n",
              "       [0., 1., 0., 0., 0.],\n",
              "       [0., 0., 1., 0., 0.],\n",
              "       [0., 0., 0., 1., 0.],\n",
              "       [0., 1., 0., 0., 0.],\n",
              "       [0., 0., 0., 0., 1.],\n",
              "       [0., 0., 0., 1., 0.],\n",
              "       [0., 1., 0., 0., 0.]], dtype=float32)"
            ]
          },
          "execution_count": 117,
          "metadata": {},
          "output_type": "execute_result"
        }
      ],
      "source": [
        "y_test"
      ]
    },
    {
      "cell_type": "markdown",
      "metadata": {
        "id": "Od7RU0t7BlN3"
      },
      "source": [
        "ANN"
      ]
    },
    {
      "cell_type": "code",
      "execution_count": null,
      "metadata": {
        "colab": {
          "background_save": true
        },
        "id": "ZuGbUiUTkoSL"
      },
      "outputs": [],
      "source": [
        "# Dense Neural Network\n",
        "from tensorflow.keras.layers import Dense, Dropout\n",
        "# Sequential Connection with Neural Network\n",
        "from tensorflow.keras.models import Sequential\n",
        "# Optimizers for Regression Model\n",
        "from tensorflow.keras.optimizers import Adam\n",
        "# Avoid Overfitting of NN by Normalizing the samples\n",
        "from tensorflow.keras.layers import BatchNormalization"
      ]
    },
    {
      "cell_type": "code",
      "execution_count": null,
      "metadata": {
        "colab": {
          "background_save": true
        },
        "id": "9qd3Uk6SlTzS",
        "outputId": "5863a164-ca04-4715-ce80-4581227eaedc"
      },
      "outputs": [
        {
          "name": "stdout",
          "output_type": "stream",
          "text": [
            "Model: \"sequential_7\"\n",
            "_________________________________________________________________\n",
            " Layer (type)                Output Shape              Param #   \n",
            "=================================================================\n",
            " dense_24 (Dense)            (None, 64)                1036992   \n",
            "                                                                 \n",
            " dropout_17 (Dropout)        (None, 64)                0         \n",
            "                                                                 \n",
            " batch_normalization_17 (Bat  (None, 64)               256       \n",
            " chNormalization)                                                \n",
            "                                                                 \n",
            " dense_25 (Dense)            (None, 128)               8320      \n",
            "                                                                 \n",
            " dropout_18 (Dropout)        (None, 128)               0         \n",
            "                                                                 \n",
            " batch_normalization_18 (Bat  (None, 128)              512       \n",
            " chNormalization)                                                \n",
            "                                                                 \n",
            " dense_26 (Dense)            (None, 256)               33024     \n",
            "                                                                 \n",
            " dropout_19 (Dropout)        (None, 256)               0         \n",
            "                                                                 \n",
            " batch_normalization_19 (Bat  (None, 256)              1024      \n",
            " chNormalization)                                                \n",
            "                                                                 \n",
            " dense_27 (Dense)            (None, 5)                 1285      \n",
            "                                                                 \n",
            " dense_28 (Dense)            (None, 512)               3072      \n",
            "                                                                 \n",
            " dropout_20 (Dropout)        (None, 512)               0         \n",
            "                                                                 \n",
            " batch_normalization_20 (Bat  (None, 512)              2048      \n",
            " chNormalization)                                                \n",
            "                                                                 \n",
            " dense_29 (Dense)            (None, 512)               262656    \n",
            "                                                                 \n",
            " dropout_21 (Dropout)        (None, 512)               0         \n",
            "                                                                 \n",
            " batch_normalization_21 (Bat  (None, 512)              2048      \n",
            " chNormalization)                                                \n",
            "                                                                 \n",
            " dense_30 (Dense)            (None, 5)                 2565      \n",
            "                                                                 \n",
            "=================================================================\n",
            "Total params: 1,353,802\n",
            "Trainable params: 1,350,858\n",
            "Non-trainable params: 2,944\n",
            "_________________________________________________________________\n"
          ]
        }
      ],
      "source": [
        "def build_model():\n",
        "    # Sequential Neural Network - Feedforward Neural Network\n",
        "    model = Sequential()\n",
        "    # Units = Number of Neurons(2 * pow(n)) , Input Shape = Num of Features\n",
        "    model.add(Dense(units = 64, activation = 'relu', input_shape = [len(X.keys())]))\n",
        "    model.add(Dropout(0.2))\n",
        "    # BatchNormalization to avoid overfitting\n",
        "    model.add(BatchNormalization())\n",
        "\n",
        "    # Hidden Layer - I\n",
        "    model.add(Dense(units = 128, activation = 'relu'))\n",
        "    model.add(Dropout(0.2))\n",
        "    # BatchNormalization to avoid overfitting\n",
        "    model.add(BatchNormalization())\n",
        "\n",
        "\n",
        "    # Hidden Layer - II\n",
        "    model.add(Dense(units = 256, activation = 'relu'))\n",
        "    model.add(Dropout(0.3))\n",
        "    # BatchNormalization to avoid overfitting\n",
        "    model.add(BatchNormalization())\n",
        "    # Output Layer\n",
        "    model.add(Dense(units = 5, activation='softmax'))\n",
        "\n",
        "    # Hidden Layer - III\n",
        "    model.add(Dense(units = 512, activation = 'relu'))\n",
        "    model.add(Dropout(0.3))\n",
        "    # BatchNormalization to avoid overfitting\n",
        "    model.add(BatchNormalization())\n",
        "\n",
        "    # Hidden Layer - IV\n",
        "    model.add(Dense(units = 512, activation = 'relu'))\n",
        "    model.add(Dropout(0.3))\n",
        "    # BatchNormalization to avoid overfitting\n",
        "    model.add(BatchNormalization())\n",
        "    # Output Layer\n",
        "    model.add(Dense(units = 5, activation='softmax'))\n",
        "\n",
        "    # Optimizers (alpha)\n",
        "    optimizers = Adam(learning_rate = 0.001)\n",
        "\n",
        "    # Model Compiler\n",
        "    # Error Function for multi-class classification = 'categorical_crossentropy'\n",
        "    # Metrics = Metrics of Model / Check the performance of model\n",
        "    # loss = 'categorical_crossentropy'\n",
        "    model.compile(optimizer = 'Adam', loss = 'categorical_crossentropy', metrics = ['accuracy'])\n",
        "\n",
        "    return model\n",
        "\n",
        "model = build_model()\n",
        "\n",
        "model.summary()"
      ]
    },
    {
      "cell_type": "code",
      "execution_count": null,
      "metadata": {
        "colab": {
          "background_save": true
        },
        "id": "6vbgGvjIB8XG",
        "outputId": "f96faa18-bd50-45cb-f3c3-ac2d885e1cda"
      },
      "outputs": [
        {
          "name": "stdout",
          "output_type": "stream",
          "text": [
            "Epoch 1/100\n",
            "13/13 [==============================] - 5s 78ms/step - loss: 2.2956 - accuracy: 0.2100 - val_loss: 1.6109 - val_accuracy: 0.1900\n",
            "Epoch 2/100\n",
            "13/13 [==============================] - 0s 30ms/step - loss: 2.2771 - accuracy: 0.2175 - val_loss: 1.6140 - val_accuracy: 0.2000\n",
            "Epoch 3/100\n",
            "13/13 [==============================] - 0s 28ms/step - loss: 2.2012 - accuracy: 0.1900 - val_loss: 1.6209 - val_accuracy: 0.2000\n",
            "Epoch 4/100\n",
            "13/13 [==============================] - 0s 35ms/step - loss: 2.1403 - accuracy: 0.1850 - val_loss: 1.6241 - val_accuracy: 0.2000\n",
            "Epoch 5/100\n",
            "13/13 [==============================] - 0s 32ms/step - loss: 2.1047 - accuracy: 0.2175 - val_loss: 1.6227 - val_accuracy: 0.2000\n",
            "Epoch 6/100\n",
            "13/13 [==============================] - 0s 32ms/step - loss: 1.9470 - accuracy: 0.2125 - val_loss: 1.6241 - val_accuracy: 0.2000\n",
            "Epoch 7/100\n",
            "13/13 [==============================] - 0s 30ms/step - loss: 2.0298 - accuracy: 0.2075 - val_loss: 1.6309 - val_accuracy: 0.1900\n",
            "Epoch 8/100\n",
            "13/13 [==============================] - 0s 33ms/step - loss: 1.9632 - accuracy: 0.2275 - val_loss: 1.6336 - val_accuracy: 0.1900\n",
            "Epoch 9/100\n",
            "13/13 [==============================] - 0s 35ms/step - loss: 2.0287 - accuracy: 0.2325 - val_loss: 1.6282 - val_accuracy: 0.2000\n",
            "Epoch 10/100\n",
            "13/13 [==============================] - 0s 32ms/step - loss: 2.0057 - accuracy: 0.1975 - val_loss: 1.6273 - val_accuracy: 0.2000\n",
            "Epoch 11/100\n",
            "13/13 [==============================] - 0s 29ms/step - loss: 1.9446 - accuracy: 0.2150 - val_loss: 1.6329 - val_accuracy: 0.2000\n",
            "Epoch 12/100\n",
            "13/13 [==============================] - 0s 32ms/step - loss: 1.9195 - accuracy: 0.1750 - val_loss: 1.6435 - val_accuracy: 0.2000\n",
            "Epoch 13/100\n",
            "13/13 [==============================] - 0s 32ms/step - loss: 1.9013 - accuracy: 0.2275 - val_loss: 1.6410 - val_accuracy: 0.2000\n",
            "Epoch 14/100\n",
            "13/13 [==============================] - 0s 30ms/step - loss: 1.9021 - accuracy: 0.2075 - val_loss: 1.6240 - val_accuracy: 0.1900\n",
            "Epoch 15/100\n",
            "13/13 [==============================] - 0s 34ms/step - loss: 1.8646 - accuracy: 0.2450 - val_loss: 1.6302 - val_accuracy: 0.1600\n",
            "Epoch 16/100\n",
            "13/13 [==============================] - 0s 30ms/step - loss: 1.9249 - accuracy: 0.1875 - val_loss: 1.6357 - val_accuracy: 0.2000\n",
            "Epoch 17/100\n",
            "13/13 [==============================] - 0s 32ms/step - loss: 1.9467 - accuracy: 0.1925 - val_loss: 1.6465 - val_accuracy: 0.2100\n",
            "Epoch 18/100\n",
            "13/13 [==============================] - 0s 29ms/step - loss: 1.8383 - accuracy: 0.2150 - val_loss: 1.6303 - val_accuracy: 0.1900\n",
            "Epoch 19/100\n",
            "13/13 [==============================] - 0s 30ms/step - loss: 1.8816 - accuracy: 0.1775 - val_loss: 1.6295 - val_accuracy: 0.1900\n",
            "Epoch 20/100\n",
            "13/13 [==============================] - 0s 29ms/step - loss: 1.8857 - accuracy: 0.2050 - val_loss: 1.6274 - val_accuracy: 0.1900\n",
            "Epoch 21/100\n",
            "13/13 [==============================] - 0s 31ms/step - loss: 1.8508 - accuracy: 0.1450 - val_loss: 1.6332 - val_accuracy: 0.2000\n",
            "Epoch 22/100\n",
            "13/13 [==============================] - 0s 32ms/step - loss: 1.8581 - accuracy: 0.1575 - val_loss: 1.6258 - val_accuracy: 0.2000\n",
            "Epoch 23/100\n",
            "13/13 [==============================] - 0s 29ms/step - loss: 1.8291 - accuracy: 0.2200 - val_loss: 1.6192 - val_accuracy: 0.1900\n",
            "Epoch 24/100\n",
            "13/13 [==============================] - 1s 89ms/step - loss: 1.7642 - accuracy: 0.2325 - val_loss: 1.6128 - val_accuracy: 0.3400\n",
            "Epoch 25/100\n",
            "13/13 [==============================] - 1s 109ms/step - loss: 1.8256 - accuracy: 0.2125 - val_loss: 1.6109 - val_accuracy: 0.2000\n",
            "Epoch 26/100\n",
            "13/13 [==============================] - 1s 52ms/step - loss: 1.8150 - accuracy: 0.1975 - val_loss: 1.6321 - val_accuracy: 0.1900\n",
            "Epoch 27/100\n",
            "13/13 [==============================] - 1s 55ms/step - loss: 1.8181 - accuracy: 0.2050 - val_loss: 1.6234 - val_accuracy: 0.1900\n",
            "Epoch 28/100\n",
            "13/13 [==============================] - 1s 50ms/step - loss: 1.8173 - accuracy: 0.2175 - val_loss: 1.6225 - val_accuracy: 0.1900\n",
            "Epoch 29/100\n",
            "13/13 [==============================] - 1s 45ms/step - loss: 1.8148 - accuracy: 0.2000 - val_loss: 1.6326 - val_accuracy: 0.1900\n",
            "Epoch 30/100\n",
            "13/13 [==============================] - 1s 47ms/step - loss: 1.8397 - accuracy: 0.1800 - val_loss: 1.6256 - val_accuracy: 0.1900\n",
            "Epoch 31/100\n",
            "13/13 [==============================] - 0s 37ms/step - loss: 1.7642 - accuracy: 0.2475 - val_loss: 1.6227 - val_accuracy: 0.2000\n",
            "Epoch 32/100\n",
            "13/13 [==============================] - 0s 30ms/step - loss: 1.8118 - accuracy: 0.1825 - val_loss: 1.6132 - val_accuracy: 0.2000\n",
            "Epoch 33/100\n",
            "13/13 [==============================] - 0s 33ms/step - loss: 1.7604 - accuracy: 0.2050 - val_loss: 1.6200 - val_accuracy: 0.2300\n",
            "Epoch 34/100\n",
            "13/13 [==============================] - 0s 30ms/step - loss: 1.8378 - accuracy: 0.1725 - val_loss: 1.6217 - val_accuracy: 0.1900\n",
            "Epoch 35/100\n",
            "13/13 [==============================] - 0s 29ms/step - loss: 1.7398 - accuracy: 0.2400 - val_loss: 1.6306 - val_accuracy: 0.1900\n",
            "Epoch 36/100\n",
            "13/13 [==============================] - 0s 29ms/step - loss: 1.7397 - accuracy: 0.1975 - val_loss: 1.6233 - val_accuracy: 0.1900\n",
            "Epoch 37/100\n",
            "13/13 [==============================] - 0s 29ms/step - loss: 1.7455 - accuracy: 0.2150 - val_loss: 1.6116 - val_accuracy: 0.1900\n",
            "Epoch 38/100\n",
            "13/13 [==============================] - 0s 31ms/step - loss: 1.7212 - accuracy: 0.2075 - val_loss: 1.6077 - val_accuracy: 0.1900\n",
            "Epoch 39/100\n",
            "13/13 [==============================] - 0s 33ms/step - loss: 1.8264 - accuracy: 0.1575 - val_loss: 1.6031 - val_accuracy: 0.2300\n",
            "Epoch 40/100\n",
            "13/13 [==============================] - 0s 33ms/step - loss: 1.7743 - accuracy: 0.2100 - val_loss: 1.6059 - val_accuracy: 0.2300\n",
            "Epoch 41/100\n",
            "13/13 [==============================] - 0s 30ms/step - loss: 1.7373 - accuracy: 0.1975 - val_loss: 1.6182 - val_accuracy: 0.2000\n",
            "Epoch 42/100\n",
            "13/13 [==============================] - 0s 30ms/step - loss: 1.7560 - accuracy: 0.2050 - val_loss: 1.6141 - val_accuracy: 0.2000\n",
            "Epoch 43/100\n",
            "13/13 [==============================] - 0s 33ms/step - loss: 1.7222 - accuracy: 0.2100 - val_loss: 1.6108 - val_accuracy: 0.3700\n",
            "Epoch 44/100\n",
            "13/13 [==============================] - 0s 29ms/step - loss: 1.7395 - accuracy: 0.1825 - val_loss: 1.6421 - val_accuracy: 0.1900\n",
            "Epoch 45/100\n",
            "13/13 [==============================] - 0s 31ms/step - loss: 1.7531 - accuracy: 0.2025 - val_loss: 1.6118 - val_accuracy: 0.2000\n",
            "Epoch 46/100\n",
            "13/13 [==============================] - 0s 32ms/step - loss: 1.7594 - accuracy: 0.1925 - val_loss: 1.6274 - val_accuracy: 0.2000\n",
            "Epoch 47/100\n",
            "13/13 [==============================] - 0s 32ms/step - loss: 1.6982 - accuracy: 0.2000 - val_loss: 1.6385 - val_accuracy: 0.1900\n",
            "Epoch 48/100\n",
            "13/13 [==============================] - 0s 33ms/step - loss: 1.7427 - accuracy: 0.1950 - val_loss: 1.6621 - val_accuracy: 0.1900\n",
            "Epoch 49/100\n",
            "13/13 [==============================] - 0s 33ms/step - loss: 1.7594 - accuracy: 0.1725 - val_loss: 1.6105 - val_accuracy: 0.2300\n",
            "Epoch 50/100\n",
            "13/13 [==============================] - 0s 32ms/step - loss: 1.6973 - accuracy: 0.2225 - val_loss: 1.6183 - val_accuracy: 0.2300\n",
            "Epoch 51/100\n",
            "13/13 [==============================] - 0s 30ms/step - loss: 1.6564 - accuracy: 0.2325 - val_loss: 1.6287 - val_accuracy: 0.2300\n",
            "Epoch 52/100\n",
            "13/13 [==============================] - 0s 32ms/step - loss: 1.7167 - accuracy: 0.2250 - val_loss: 1.6217 - val_accuracy: 0.2300\n",
            "Epoch 53/100\n",
            "13/13 [==============================] - 0s 30ms/step - loss: 1.6881 - accuracy: 0.2350 - val_loss: 1.5834 - val_accuracy: 0.3400\n",
            "Epoch 54/100\n",
            "13/13 [==============================] - 0s 30ms/step - loss: 1.6939 - accuracy: 0.2275 - val_loss: 1.6050 - val_accuracy: 0.2800\n",
            "Epoch 55/100\n",
            "13/13 [==============================] - 0s 29ms/step - loss: 1.6966 - accuracy: 0.2250 - val_loss: 1.6132 - val_accuracy: 0.2300\n",
            "Epoch 56/100\n",
            "13/13 [==============================] - 1s 46ms/step - loss: 1.6751 - accuracy: 0.2125 - val_loss: 1.6098 - val_accuracy: 0.3200\n",
            "Epoch 57/100\n",
            "13/13 [==============================] - 1s 45ms/step - loss: 1.6536 - accuracy: 0.2625 - val_loss: 1.6015 - val_accuracy: 0.2300\n",
            "Epoch 58/100\n",
            "13/13 [==============================] - 1s 46ms/step - loss: 1.6740 - accuracy: 0.2150 - val_loss: 1.7599 - val_accuracy: 0.2000\n",
            "Epoch 59/100\n",
            "13/13 [==============================] - 1s 45ms/step - loss: 1.6695 - accuracy: 0.2225 - val_loss: 1.7051 - val_accuracy: 0.2000\n",
            "Epoch 60/100\n",
            "13/13 [==============================] - 1s 43ms/step - loss: 1.6568 - accuracy: 0.2300 - val_loss: 1.6275 - val_accuracy: 0.1900\n",
            "Epoch 61/100\n",
            "13/13 [==============================] - 1s 47ms/step - loss: 1.6647 - accuracy: 0.2125 - val_loss: 1.6749 - val_accuracy: 0.2000\n",
            "Epoch 62/100\n",
            "13/13 [==============================] - 0s 28ms/step - loss: 1.6768 - accuracy: 0.1875 - val_loss: 1.6859 - val_accuracy: 0.1900\n",
            "Epoch 63/100\n",
            "13/13 [==============================] - 0s 31ms/step - loss: 1.7108 - accuracy: 0.1700 - val_loss: 1.6404 - val_accuracy: 0.2000\n",
            "Epoch 64/100\n",
            "13/13 [==============================] - 0s 33ms/step - loss: 1.6812 - accuracy: 0.2100 - val_loss: 1.6292 - val_accuracy: 0.2000\n",
            "Epoch 65/100\n",
            "13/13 [==============================] - 0s 31ms/step - loss: 1.6695 - accuracy: 0.1975 - val_loss: 1.6197 - val_accuracy: 0.1900\n",
            "Epoch 66/100\n",
            "13/13 [==============================] - 0s 31ms/step - loss: 1.6727 - accuracy: 0.2075 - val_loss: 1.6138 - val_accuracy: 0.2300\n",
            "Epoch 67/100\n",
            "13/13 [==============================] - 0s 29ms/step - loss: 1.6711 - accuracy: 0.1975 - val_loss: 1.6265 - val_accuracy: 0.1400\n",
            "Epoch 68/100\n",
            "13/13 [==============================] - 0s 33ms/step - loss: 1.7291 - accuracy: 0.2000 - val_loss: 1.6167 - val_accuracy: 0.1900\n",
            "Epoch 69/100\n",
            "13/13 [==============================] - 0s 33ms/step - loss: 1.6638 - accuracy: 0.2050 - val_loss: 1.6005 - val_accuracy: 0.1700\n",
            "Epoch 70/100\n",
            "13/13 [==============================] - 0s 30ms/step - loss: 1.6362 - accuracy: 0.2375 - val_loss: 1.6647 - val_accuracy: 0.1900\n",
            "Epoch 71/100\n",
            "13/13 [==============================] - 0s 33ms/step - loss: 1.6707 - accuracy: 0.2300 - val_loss: 1.6196 - val_accuracy: 0.2700\n",
            "Epoch 72/100\n",
            "13/13 [==============================] - 0s 29ms/step - loss: 1.6635 - accuracy: 0.2325 - val_loss: 1.6939 - val_accuracy: 0.1900\n",
            "Epoch 73/100\n",
            "13/13 [==============================] - 0s 30ms/step - loss: 1.6446 - accuracy: 0.2525 - val_loss: 1.5569 - val_accuracy: 0.4300\n",
            "Epoch 74/100\n",
            "13/13 [==============================] - 0s 32ms/step - loss: 1.6591 - accuracy: 0.2475 - val_loss: 1.7127 - val_accuracy: 0.2300\n",
            "Epoch 75/100\n",
            "13/13 [==============================] - 0s 33ms/step - loss: 1.6528 - accuracy: 0.2475 - val_loss: 1.9254 - val_accuracy: 0.2300\n",
            "Epoch 76/100\n",
            "13/13 [==============================] - 0s 32ms/step - loss: 1.7326 - accuracy: 0.2025 - val_loss: 1.6330 - val_accuracy: 0.1900\n",
            "Epoch 77/100\n",
            "13/13 [==============================] - 0s 32ms/step - loss: 1.6082 - accuracy: 0.2675 - val_loss: 1.6512 - val_accuracy: 0.1900\n",
            "Epoch 78/100\n",
            "13/13 [==============================] - 0s 29ms/step - loss: 1.6519 - accuracy: 0.2425 - val_loss: 1.7465 - val_accuracy: 0.2300\n",
            "Epoch 79/100\n",
            "13/13 [==============================] - 0s 34ms/step - loss: 1.6040 - accuracy: 0.2675 - val_loss: 1.4720 - val_accuracy: 0.5100\n",
            "Epoch 80/100\n",
            "13/13 [==============================] - 0s 29ms/step - loss: 1.6493 - accuracy: 0.2525 - val_loss: 1.7196 - val_accuracy: 0.2000\n",
            "Epoch 81/100\n",
            "13/13 [==============================] - 0s 30ms/step - loss: 1.6290 - accuracy: 0.2400 - val_loss: 1.6341 - val_accuracy: 0.2000\n",
            "Epoch 82/100\n",
            "13/13 [==============================] - 0s 29ms/step - loss: 1.6150 - accuracy: 0.2550 - val_loss: 1.4452 - val_accuracy: 0.3400\n",
            "Epoch 83/100\n",
            "13/13 [==============================] - 0s 32ms/step - loss: 1.5647 - accuracy: 0.3100 - val_loss: 1.5886 - val_accuracy: 0.2300\n",
            "Epoch 84/100\n",
            "13/13 [==============================] - 0s 33ms/step - loss: 1.6049 - accuracy: 0.2400 - val_loss: 1.6266 - val_accuracy: 0.3300\n",
            "Epoch 85/100\n",
            "13/13 [==============================] - 0s 32ms/step - loss: 1.5467 - accuracy: 0.2975 - val_loss: 1.6772 - val_accuracy: 0.2300\n",
            "Epoch 86/100\n",
            "13/13 [==============================] - 1s 42ms/step - loss: 1.5352 - accuracy: 0.3300 - val_loss: 1.6722 - val_accuracy: 0.0900\n",
            "Epoch 87/100\n",
            "13/13 [==============================] - 1s 45ms/step - loss: 1.5467 - accuracy: 0.3200 - val_loss: 1.7205 - val_accuracy: 0.3200\n",
            "Epoch 88/100\n",
            "13/13 [==============================] - 1s 45ms/step - loss: 1.5467 - accuracy: 0.3025 - val_loss: 1.7597 - val_accuracy: 0.2300\n",
            "Epoch 89/100\n",
            "13/13 [==============================] - 1s 45ms/step - loss: 1.4962 - accuracy: 0.3275 - val_loss: 1.8604 - val_accuracy: 0.2300\n",
            "Epoch 90/100\n",
            "13/13 [==============================] - 1s 44ms/step - loss: 1.4248 - accuracy: 0.3900 - val_loss: 1.7921 - val_accuracy: 0.2300\n",
            "Epoch 91/100\n",
            "13/13 [==============================] - 1s 47ms/step - loss: 1.3949 - accuracy: 0.3625 - val_loss: 1.9824 - val_accuracy: 0.2300\n",
            "Epoch 92/100\n",
            "13/13 [==============================] - 1s 47ms/step - loss: 1.3826 - accuracy: 0.3675 - val_loss: 2.0925 - val_accuracy: 0.2300\n",
            "Epoch 93/100\n",
            "13/13 [==============================] - 0s 34ms/step - loss: 1.3044 - accuracy: 0.4550 - val_loss: 2.2651 - val_accuracy: 0.2300\n",
            "Epoch 94/100\n",
            "13/13 [==============================] - 0s 35ms/step - loss: 1.3248 - accuracy: 0.4600 - val_loss: 2.3636 - val_accuracy: 0.2300\n",
            "Epoch 95/100\n",
            "13/13 [==============================] - 0s 32ms/step - loss: 1.2964 - accuracy: 0.4300 - val_loss: 2.7376 - val_accuracy: 0.2300\n",
            "Epoch 96/100\n",
            "13/13 [==============================] - 0s 34ms/step - loss: 1.2341 - accuracy: 0.4800 - val_loss: 2.7763 - val_accuracy: 0.2300\n",
            "Epoch 97/100\n",
            "13/13 [==============================] - 0s 34ms/step - loss: 1.2481 - accuracy: 0.4350 - val_loss: 2.7769 - val_accuracy: 0.2300\n",
            "Epoch 98/100\n",
            "13/13 [==============================] - 0s 33ms/step - loss: 1.1675 - accuracy: 0.4575 - val_loss: 2.9802 - val_accuracy: 0.2300\n",
            "Epoch 99/100\n",
            "13/13 [==============================] - 0s 34ms/step - loss: 1.2184 - accuracy: 0.4475 - val_loss: 2.9806 - val_accuracy: 0.2300\n",
            "Epoch 100/100\n",
            "13/13 [==============================] - 0s 35ms/step - loss: 1.3358 - accuracy: 0.4200 - val_loss: 2.1671 - val_accuracy: 0.2300\n"
          ]
        }
      ],
      "source": [
        "history = model.fit(x_train, y_train, epochs = 100, batch_size = 32, validation_data = (x_test, y_test))"
      ]
    },
    {
      "cell_type": "code",
      "execution_count": null,
      "metadata": {
        "colab": {
          "background_save": true
        },
        "id": "sUTfWQtjEOYq",
        "outputId": "e41ca602-7156-4bc7-827d-292c468992d2"
      },
      "outputs": [
        {
          "data": {
            "text/html": [
              "\n",
              "  <div id=\"df-eac6e1da-382d-4438-be57-487ede974fd0\">\n",
              "    <div class=\"colab-df-container\">\n",
              "      <div>\n",
              "<style scoped>\n",
              "    .dataframe tbody tr th:only-of-type {\n",
              "        vertical-align: middle;\n",
              "    }\n",
              "\n",
              "    .dataframe tbody tr th {\n",
              "        vertical-align: top;\n",
              "    }\n",
              "\n",
              "    .dataframe thead th {\n",
              "        text-align: right;\n",
              "    }\n",
              "</style>\n",
              "<table border=\"1\" class=\"dataframe\">\n",
              "  <thead>\n",
              "    <tr style=\"text-align: right;\">\n",
              "      <th></th>\n",
              "      <th>loss</th>\n",
              "      <th>accuracy</th>\n",
              "      <th>val_loss</th>\n",
              "      <th>val_accuracy</th>\n",
              "    </tr>\n",
              "  </thead>\n",
              "  <tbody>\n",
              "    <tr>\n",
              "      <th>0</th>\n",
              "      <td>2.295631</td>\n",
              "      <td>0.2100</td>\n",
              "      <td>1.610934</td>\n",
              "      <td>0.19</td>\n",
              "    </tr>\n",
              "    <tr>\n",
              "      <th>1</th>\n",
              "      <td>2.277076</td>\n",
              "      <td>0.2175</td>\n",
              "      <td>1.614047</td>\n",
              "      <td>0.20</td>\n",
              "    </tr>\n",
              "    <tr>\n",
              "      <th>2</th>\n",
              "      <td>2.201239</td>\n",
              "      <td>0.1900</td>\n",
              "      <td>1.620894</td>\n",
              "      <td>0.20</td>\n",
              "    </tr>\n",
              "    <tr>\n",
              "      <th>3</th>\n",
              "      <td>2.140272</td>\n",
              "      <td>0.1850</td>\n",
              "      <td>1.624073</td>\n",
              "      <td>0.20</td>\n",
              "    </tr>\n",
              "    <tr>\n",
              "      <th>4</th>\n",
              "      <td>2.104749</td>\n",
              "      <td>0.2175</td>\n",
              "      <td>1.622740</td>\n",
              "      <td>0.20</td>\n",
              "    </tr>\n",
              "    <tr>\n",
              "      <th>...</th>\n",
              "      <td>...</td>\n",
              "      <td>...</td>\n",
              "      <td>...</td>\n",
              "      <td>...</td>\n",
              "    </tr>\n",
              "    <tr>\n",
              "      <th>95</th>\n",
              "      <td>1.234097</td>\n",
              "      <td>0.4800</td>\n",
              "      <td>2.776348</td>\n",
              "      <td>0.23</td>\n",
              "    </tr>\n",
              "    <tr>\n",
              "      <th>96</th>\n",
              "      <td>1.248090</td>\n",
              "      <td>0.4350</td>\n",
              "      <td>2.776900</td>\n",
              "      <td>0.23</td>\n",
              "    </tr>\n",
              "    <tr>\n",
              "      <th>97</th>\n",
              "      <td>1.167543</td>\n",
              "      <td>0.4575</td>\n",
              "      <td>2.980155</td>\n",
              "      <td>0.23</td>\n",
              "    </tr>\n",
              "    <tr>\n",
              "      <th>98</th>\n",
              "      <td>1.218414</td>\n",
              "      <td>0.4475</td>\n",
              "      <td>2.980558</td>\n",
              "      <td>0.23</td>\n",
              "    </tr>\n",
              "    <tr>\n",
              "      <th>99</th>\n",
              "      <td>1.335765</td>\n",
              "      <td>0.4200</td>\n",
              "      <td>2.167138</td>\n",
              "      <td>0.23</td>\n",
              "    </tr>\n",
              "  </tbody>\n",
              "</table>\n",
              "<p>100 rows × 4 columns</p>\n",
              "</div>\n",
              "      <button class=\"colab-df-convert\" onclick=\"convertToInteractive('df-eac6e1da-382d-4438-be57-487ede974fd0')\"\n",
              "              title=\"Convert this dataframe to an interactive table.\"\n",
              "              style=\"display:none;\">\n",
              "        \n",
              "  <svg xmlns=\"http://www.w3.org/2000/svg\" height=\"24px\"viewBox=\"0 0 24 24\"\n",
              "       width=\"24px\">\n",
              "    <path d=\"M0 0h24v24H0V0z\" fill=\"none\"/>\n",
              "    <path d=\"M18.56 5.44l.94 2.06.94-2.06 2.06-.94-2.06-.94-.94-2.06-.94 2.06-2.06.94zm-11 1L8.5 8.5l.94-2.06 2.06-.94-2.06-.94L8.5 2.5l-.94 2.06-2.06.94zm10 10l.94 2.06.94-2.06 2.06-.94-2.06-.94-.94-2.06-.94 2.06-2.06.94z\"/><path d=\"M17.41 7.96l-1.37-1.37c-.4-.4-.92-.59-1.43-.59-.52 0-1.04.2-1.43.59L10.3 9.45l-7.72 7.72c-.78.78-.78 2.05 0 2.83L4 21.41c.39.39.9.59 1.41.59.51 0 1.02-.2 1.41-.59l7.78-7.78 2.81-2.81c.8-.78.8-2.07 0-2.86zM5.41 20L4 18.59l7.72-7.72 1.47 1.35L5.41 20z\"/>\n",
              "  </svg>\n",
              "      </button>\n",
              "      \n",
              "  <style>\n",
              "    .colab-df-container {\n",
              "      display:flex;\n",
              "      flex-wrap:wrap;\n",
              "      gap: 12px;\n",
              "    }\n",
              "\n",
              "    .colab-df-convert {\n",
              "      background-color: #E8F0FE;\n",
              "      border: none;\n",
              "      border-radius: 50%;\n",
              "      cursor: pointer;\n",
              "      display: none;\n",
              "      fill: #1967D2;\n",
              "      height: 32px;\n",
              "      padding: 0 0 0 0;\n",
              "      width: 32px;\n",
              "    }\n",
              "\n",
              "    .colab-df-convert:hover {\n",
              "      background-color: #E2EBFA;\n",
              "      box-shadow: 0px 1px 2px rgba(60, 64, 67, 0.3), 0px 1px 3px 1px rgba(60, 64, 67, 0.15);\n",
              "      fill: #174EA6;\n",
              "    }\n",
              "\n",
              "    [theme=dark] .colab-df-convert {\n",
              "      background-color: #3B4455;\n",
              "      fill: #D2E3FC;\n",
              "    }\n",
              "\n",
              "    [theme=dark] .colab-df-convert:hover {\n",
              "      background-color: #434B5C;\n",
              "      box-shadow: 0px 1px 3px 1px rgba(0, 0, 0, 0.15);\n",
              "      filter: drop-shadow(0px 1px 2px rgba(0, 0, 0, 0.3));\n",
              "      fill: #FFFFFF;\n",
              "    }\n",
              "  </style>\n",
              "\n",
              "      <script>\n",
              "        const buttonEl =\n",
              "          document.querySelector('#df-eac6e1da-382d-4438-be57-487ede974fd0 button.colab-df-convert');\n",
              "        buttonEl.style.display =\n",
              "          google.colab.kernel.accessAllowed ? 'block' : 'none';\n",
              "\n",
              "        async function convertToInteractive(key) {\n",
              "          const element = document.querySelector('#df-eac6e1da-382d-4438-be57-487ede974fd0');\n",
              "          const dataTable =\n",
              "            await google.colab.kernel.invokeFunction('convertToInteractive',\n",
              "                                                     [key], {});\n",
              "          if (!dataTable) return;\n",
              "\n",
              "          const docLinkHtml = 'Like what you see? Visit the ' +\n",
              "            '<a target=\"_blank\" href=https://colab.research.google.com/notebooks/data_table.ipynb>data table notebook</a>'\n",
              "            + ' to learn more about interactive tables.';\n",
              "          element.innerHTML = '';\n",
              "          dataTable['output_type'] = 'display_data';\n",
              "          await google.colab.output.renderOutput(dataTable, element);\n",
              "          const docLink = document.createElement('div');\n",
              "          docLink.innerHTML = docLinkHtml;\n",
              "          element.appendChild(docLink);\n",
              "        }\n",
              "      </script>\n",
              "    </div>\n",
              "  </div>\n",
              "  "
            ],
            "text/plain": [
              "        loss  accuracy  val_loss  val_accuracy\n",
              "0   2.295631    0.2100  1.610934          0.19\n",
              "1   2.277076    0.2175  1.614047          0.20\n",
              "2   2.201239    0.1900  1.620894          0.20\n",
              "3   2.140272    0.1850  1.624073          0.20\n",
              "4   2.104749    0.2175  1.622740          0.20\n",
              "..       ...       ...       ...           ...\n",
              "95  1.234097    0.4800  2.776348          0.23\n",
              "96  1.248090    0.4350  2.776900          0.23\n",
              "97  1.167543    0.4575  2.980155          0.23\n",
              "98  1.218414    0.4475  2.980558          0.23\n",
              "99  1.335765    0.4200  2.167138          0.23\n",
              "\n",
              "[100 rows x 4 columns]"
            ]
          },
          "execution_count": 121,
          "metadata": {},
          "output_type": "execute_result"
        }
      ],
      "source": [
        "pd.DataFrame(history.history)"
      ]
    },
    {
      "cell_type": "code",
      "execution_count": null,
      "metadata": {
        "colab": {
          "background_save": true
        },
        "id": "fkhbJ7ZQERHP",
        "outputId": "7d8579d1-3a98-4e4c-e1f5-b276d4236fb2"
      },
      "outputs": [
        {
          "data": {
            "text/plain": [
              "<Axes: >"
            ]
          },
          "execution_count": 122,
          "metadata": {},
          "output_type": "execute_result"
        },
        {
          "data": {
            "image/png": "[encoded data removed]",
            "text/plain": [
              "<Figure size 640x480 with 1 Axes>"
            ]
          },
          "metadata": {},
          "output_type": "display_data"
        }
      ],
      "source": [
        "pd.DataFrame(history.history)[['accuracy', 'val_accuracy']].plot()"
      ]
    },
    {
      "cell_type": "code",
      "execution_count": null,
      "metadata": {
        "colab": {
          "background_save": true
        },
        "id": "DgM7uR7uEVdw",
        "outputId": "83b1d71e-986c-4c1c-cf70-81ea752f7796"
      },
      "outputs": [
        {
          "data": {
            "text/plain": [
              "<Axes: >"
            ]
          },
          "execution_count": 123,
          "metadata": {},
          "output_type": "execute_result"
        },
        {
          "data": {
            "image/png": "[encoded data removed]",
            "text/plain": [
              "<Figure size 640x480 with 1 Axes>"
            ]
          },
          "metadata": {},
          "output_type": "display_data"
        }
      ],
      "source": [
        "pd.DataFrame(history.history)[['loss','val_loss']].plot()"
      ]
    },
    {
      "cell_type": "code",
      "execution_count": null,
      "metadata": {
        "colab": {
          "background_save": true
        },
        "id": "6h7ehspPEYlo"
      },
      "outputs": [],
      "source": [
        "# Classification Report"
      ]
    },
    {
      "cell_type": "code",
      "execution_count": null,
      "metadata": {
        "colab": {
          "background_save": true
        },
        "id": "Gh1qad8vEbWU",
        "outputId": "b75e15ac-bec1-4924-d16e-4dc6489a8c72"
      },
      "outputs": [
        {
          "name": "stdout",
          "output_type": "stream",
          "text": [
            "4/4 [==============================] - 0s 8ms/step - loss: 2.1671 - accuracy: 0.2300\n"
          ]
        },
        {
          "data": {
            "text/plain": [
              "[2.16713809967041, 0.23000000417232513]"
            ]
          },
          "execution_count": 125,
          "metadata": {},
          "output_type": "execute_result"
        }
      ],
      "source": [
        "model.evaluate(x_test, y_test)"
      ]
    },
    {
      "cell_type": "code",
      "execution_count": null,
      "metadata": {
        "colab": {
          "background_save": true
        },
        "id": "9yoYSFiXEfs6",
        "outputId": "32cd2b22-6e4a-4637-b178-efbbc0486e8d"
      },
      "outputs": [
        {
          "name": "stdout",
          "output_type": "stream",
          "text": [
            "4/4 [==============================] - 0s 7ms/step\n"
          ]
        }
      ],
      "source": [
        "# Make Prediction\n",
        "predict = model.predict(x_test)"
      ]
    },
    {
      "cell_type": "code",
      "execution_count": null,
      "metadata": {
        "colab": {
          "background_save": true
        },
        "id": "2Vu1YvbBEi0p",
        "outputId": "94f8f103-9eed-4cba-c121-3e5c3f654cc7"
      },
      "outputs": [
        {
          "data": {
            "text/plain": [
              "array([[0.04747844, 0.06023596, 0.11759913, 0.1843728 , 0.59031373],\n",
              "       [0.06449355, 0.08443055, 0.16034052, 0.20262301, 0.48811224],\n",
              "       [0.06634724, 0.08702707, 0.16464894, 0.20387754, 0.47809926],\n",
              "       [0.05635215, 0.0728214 , 0.13965327, 0.19398217, 0.53719103],\n",
              "       [0.05368048, 0.06892873, 0.1328838 , 0.19096062, 0.55354637],\n",
              "       [0.06789862, 0.08932134, 0.16852708, 0.20505925, 0.46919364],\n",
              "       [0.02013955, 0.02395004, 0.05554133, 0.14763783, 0.75273114],\n",
              "       [0.06427978, 0.08413406, 0.15984748, 0.20247674, 0.48926193],\n",
              "       [0.06397917, 0.08371317, 0.15914887, 0.20225994, 0.49089876],\n",
              "       [0.06558567, 0.08596156, 0.16286467, 0.20335118, 0.48223692],\n",
              "       [0.06819993, 0.08977692, 0.16927005, 0.2052825 , 0.4674707 ],\n",
              "       [0.05624518, 0.07266675, 0.139377  , 0.19385535, 0.5378557 ],\n",
              "       [0.04715941, 0.05980699, 0.11682048, 0.18403511, 0.59217805],\n",
              "       [0.03314114, 0.04137896, 0.08379442, 0.16695252, 0.674733  ],\n",
              "       [0.05210298, 0.06664041, 0.12892921, 0.18920505, 0.5631222 ],\n",
              "       [0.03314114, 0.04137896, 0.08379442, 0.16695252, 0.674733  ],\n",
              "       [0.06331919, 0.08279387, 0.15759581, 0.20171209, 0.49457908],\n",
              "       [0.06613318, 0.08672804, 0.1641428 , 0.2037244 , 0.47927165],\n",
              "       [0.06331919, 0.08279387, 0.15759581, 0.20171209, 0.49457908],\n",
              "       [0.03314114, 0.04137896, 0.08379442, 0.16695252, 0.674733  ],\n",
              "       [0.06925542, 0.09146504, 0.17198004, 0.20614251, 0.46115705],\n",
              "       [0.01971947, 0.02335196, 0.05450924, 0.14696823, 0.75545114],\n",
              "       [0.04715121, 0.05979627, 0.11680103, 0.18402608, 0.5922254 ],\n",
              "       [0.06485695, 0.08493954, 0.16118066, 0.20286909, 0.48615375],\n",
              "       [0.02264521, 0.02738241, 0.06112245, 0.15148504, 0.7373649 ],\n",
              "       [0.05163514, 0.06597082, 0.12774262, 0.18871577, 0.5659357 ],\n",
              "       [0.02012255, 0.02392636, 0.0554986 , 0.14761011, 0.7528424 ],\n",
              "       [0.05811772, 0.07538363, 0.14428206, 0.19609457, 0.526122  ],\n",
              "       [0.065465  , 0.08579215, 0.16258577, 0.20327234, 0.4828847 ],\n",
              "       [0.01950417, 0.02304211, 0.0539877 , 0.14665668, 0.7568093 ],\n",
              "       [0.05002592, 0.06365993, 0.12366872, 0.18697132, 0.57567406],\n",
              "       [0.06574733, 0.08618836, 0.16323777, 0.2034559 , 0.4813705 ],\n",
              "       [0.06468406, 0.08469751, 0.16078138, 0.2027527 , 0.48708436],\n",
              "       [0.05202697, 0.06653149, 0.12873626, 0.18912603, 0.56357926],\n",
              "       [0.06332656, 0.08280365, 0.157613  , 0.20171854, 0.49453834],\n",
              "       [0.04526512, 0.05732786, 0.11229693, 0.18187238, 0.6032377 ],\n",
              "       [0.0414058 , 0.05201761, 0.10297721, 0.17690058, 0.6266988 ],\n",
              "       [0.0610029 , 0.07956404, 0.15181564, 0.19932991, 0.50828755],\n",
              "       [0.04744808, 0.06019532, 0.11752562, 0.18434216, 0.59048885],\n",
              "       [0.05446227, 0.07007381, 0.13483407, 0.19183922, 0.54879063],\n",
              "       [0.06574734, 0.08618836, 0.16323778, 0.20345591, 0.4813705 ],\n",
              "       [0.02264521, 0.02738241, 0.06112245, 0.15148504, 0.7373649 ],\n",
              "       [0.06427978, 0.08413406, 0.15984748, 0.20247674, 0.48926193],\n",
              "       [0.02423163, 0.02963048, 0.06467906, 0.15412445, 0.7273344 ],\n",
              "       [0.02013955, 0.02395004, 0.05554133, 0.14763783, 0.75273114],\n",
              "       [0.06819993, 0.08977692, 0.16927005, 0.2052825 , 0.4674707 ],\n",
              "       [0.06910075, 0.09121084, 0.17157808, 0.20601901, 0.4620913 ],\n",
              "       [0.06182079, 0.0807209 , 0.15389758, 0.20022902, 0.50333166],\n",
              "       [0.05367734, 0.06892423, 0.13287619, 0.19095722, 0.553565  ],\n",
              "       [0.06545188, 0.0857738 , 0.16255556, 0.20326377, 0.482955  ],\n",
              "       [0.06925542, 0.09146504, 0.17198004, 0.20614251, 0.46115705],\n",
              "       [0.06337497, 0.08286946, 0.15772952, 0.20176317, 0.49426284],\n",
              "       [0.04370824, 0.05527722, 0.10858498, 0.17995654, 0.612473  ],\n",
              "       [0.05280087, 0.06764907, 0.13068257, 0.18997833, 0.5588892 ],\n",
              "       [0.06846286, 0.09017986, 0.16992742, 0.2054952 , 0.46593463],\n",
              "       [0.06910075, 0.09121084, 0.17157808, 0.20601901, 0.4620913 ],\n",
              "       [0.02076294, 0.02479475, 0.05693022, 0.14859302, 0.74891907],\n",
              "       [0.02076294, 0.02479475, 0.05693022, 0.14859302, 0.74891907],\n",
              "       [0.06916621, 0.09131837, 0.17174815, 0.20607132, 0.46169588],\n",
              "       [0.06558567, 0.08596156, 0.16286467, 0.20335118, 0.48223692],\n",
              "       [0.06910075, 0.09121084, 0.17157808, 0.20601901, 0.4620913 ],\n",
              "       [0.04566548, 0.05784515, 0.11325273, 0.18234056, 0.6008961 ],\n",
              "       [0.0639884 , 0.08372629, 0.15917061, 0.202267  , 0.4908477 ],\n",
              "       [0.05368051, 0.06892879, 0.13288389, 0.19096066, 0.55354613],\n",
              "       [0.06634724, 0.08702707, 0.16464894, 0.20387754, 0.47809926],\n",
              "       [0.04799423, 0.06091383, 0.11881113, 0.18489714, 0.5873836 ],\n",
              "       [0.04370824, 0.05527722, 0.10858498, 0.17995654, 0.612473  ],\n",
              "       [0.02423163, 0.02963048, 0.06467906, 0.15412445, 0.7273344 ],\n",
              "       [0.02076294, 0.02479475, 0.05693022, 0.14859302, 0.74891907],\n",
              "       [0.06485695, 0.08493954, 0.16118066, 0.20286909, 0.48615375],\n",
              "       [0.02013955, 0.02395004, 0.05554133, 0.14763783, 0.75273114],\n",
              "       [0.02076294, 0.02479475, 0.05693022, 0.14859302, 0.74891907],\n",
              "       [0.06357357, 0.08314122, 0.15820272, 0.20194146, 0.49314097],\n",
              "       [0.05244803, 0.06713891, 0.12979655, 0.18958944, 0.56102705],\n",
              "       [0.05624518, 0.07266675, 0.139377  , 0.19385535, 0.5378557 ],\n",
              "       [0.04394249, 0.05558871, 0.10914045, 0.18025067, 0.61107767],\n",
              "       [0.02012255, 0.02392636, 0.0554986 , 0.14761011, 0.7528424 ],\n",
              "       [0.01971947, 0.02335196, 0.05450924, 0.14696823, 0.75545114],\n",
              "       [0.06499654, 0.08513526, 0.16150351, 0.2029627 , 0.48540202],\n",
              "       [0.06427978, 0.08413406, 0.15984748, 0.20247674, 0.48926193],\n",
              "       [0.06789862, 0.08932134, 0.16852708, 0.20505925, 0.46919364],\n",
              "       [0.06341363, 0.08292197, 0.15782237, 0.20179869, 0.49404338],\n",
              "       [0.06451117, 0.08445538, 0.16038163, 0.2026353 , 0.48801658],\n",
              "       [0.01950417, 0.02304211, 0.0539877 , 0.14665668, 0.7568093 ],\n",
              "       [0.05002587, 0.06365983, 0.12366857, 0.18697126, 0.5756744 ],\n",
              "       [0.04970914, 0.06320598, 0.12286796, 0.18661919, 0.5775977 ],\n",
              "       [0.05558334, 0.07170635, 0.1376653 , 0.19307427, 0.54197073],\n",
              "       [0.06613318, 0.08672804, 0.1641428 , 0.2037244 , 0.47927165],\n",
              "       [0.02804521, 0.03471655, 0.07307304, 0.1602914 , 0.7038738 ],\n",
              "       [0.06277338, 0.08205268, 0.15628363, 0.20120442, 0.49768594],\n",
              "       [0.02076294, 0.02479475, 0.05693022, 0.14859302, 0.74891907],\n",
              "       [0.01971947, 0.02335196, 0.05450924, 0.14696823, 0.75545114],\n",
              "       [0.06925542, 0.09146504, 0.17198004, 0.20614251, 0.46115705],\n",
              "       [0.04191235, 0.05275859, 0.10425684, 0.17761478, 0.6234575 ],\n",
              "       [0.04503551, 0.05703145, 0.11174783, 0.18160084, 0.60458434],\n",
              "       [0.06485695, 0.08493954, 0.16118066, 0.20286909, 0.48615375],\n",
              "       [0.04715941, 0.05980699, 0.11682048, 0.18403511, 0.59217805],\n",
              "       [0.065465  , 0.08579215, 0.16258578, 0.20327236, 0.48288473],\n",
              "       [0.05811772, 0.07538364, 0.14428201, 0.19609457, 0.52612203],\n",
              "       [0.06358802, 0.08316147, 0.15823618, 0.20195352, 0.4930608 ]],\n",
              "      dtype=float32)"
            ]
          },
          "execution_count": 127,
          "metadata": {},
          "output_type": "execute_result"
        }
      ],
      "source": [
        "predict"
      ]
    },
    {
      "cell_type": "code",
      "execution_count": null,
      "metadata": {
        "colab": {
          "background_save": true
        },
        "id": "E3bnZXOnEo1M"
      },
      "outputs": [],
      "source": [
        "yhat = np.argmax(predict, axis = 1)"
      ]
    },
    {
      "cell_type": "code",
      "execution_count": null,
      "metadata": {
        "colab": {
          "background_save": true
        },
        "id": "ALpWRWmzEslf",
        "outputId": "c75ea14c-f98e-4f47-9bd1-cb2034ee0d56"
      },
      "outputs": [
        {
          "data": {
            "text/plain": [
              "array([4, 4, 4, 4, 4, 4, 4, 4, 4, 4, 4, 4, 4, 4, 4, 4, 4, 4, 4, 4, 4, 4,\n",
              "       4, 4, 4, 4, 4, 4, 4, 4, 4, 4, 4, 4, 4, 4, 4, 4, 4, 4, 4, 4, 4, 4,\n",
              "       4, 4, 4, 4, 4, 4, 4, 4, 4, 4, 4, 4, 4, 4, 4, 4, 4, 4, 4, 4, 4, 4,\n",
              "       4, 4, 4, 4, 4, 4, 4, 4, 4, 4, 4, 4, 4, 4, 4, 4, 4, 4, 4, 4, 4, 4,\n",
              "       4, 4, 4, 4, 4, 4, 4, 4, 4, 4, 4, 4])"
            ]
          },
          "execution_count": 129,
          "metadata": {},
          "output_type": "execute_result"
        }
      ],
      "source": [
        "# Distributed probability to discrete class\n",
        "yhat = np.argmax(predict, axis = 1)\n",
        "yhat"
      ]
    },
    {
      "cell_type": "code",
      "execution_count": null,
      "metadata": {
        "colab": {
          "background_save": true
        },
        "id": "90esSnSgqREH"
      },
      "outputs": [],
      "source": [
        "y_test=np.argmax(predict, axis = 1)"
      ]
    },
    {
      "cell_type": "code",
      "execution_count": null,
      "metadata": {
        "colab": {
          "background_save": true
        },
        "id": "B0VmSM82qQx7"
      },
      "outputs": [],
      "source": [
        "from sklearn.metrics import classification_report, confusion_matrix"
      ]
    },
    {
      "cell_type": "code",
      "execution_count": null,
      "metadata": {
        "colab": {
          "background_save": true
        },
        "id": "dDUaEWH6qYBn",
        "outputId": "756fbaab-8e3c-4548-c94e-973874cf1f6b"
      },
      "outputs": [
        {
          "data": {
            "text/plain": [
              "array([[100]])"
            ]
          },
          "execution_count": 132,
          "metadata": {},
          "output_type": "execute_result"
        }
      ],
      "source": [
        "confusion_matrix( yhat, y_test)"
      ]
    },
    {
      "cell_type": "code",
      "execution_count": null,
      "metadata": {
        "colab": {
          "background_save": true
        },
        "id": "kagV1nK8qdZ3",
        "outputId": "a7a292f9-b21c-4b80-d831-716cff52a05f"
      },
      "outputs": [
        {
          "data": {
            "text/plain": [
              "<Axes: >"
            ]
          },
          "execution_count": 133,
          "metadata": {},
          "output_type": "execute_result"
        },
        {
          "data": {
            "image/png": "[encoded data removed]",
            "text/plain": [
              "<Figure size 640x480 with 2 Axes>"
            ]
          },
          "metadata": {},
          "output_type": "display_data"
        }
      ],
      "source": [
        "sns.heatmap(confusion_matrix(y_test, yhat), annot = True, fmt='0.0f')"
      ]
    },
    {
      "cell_type": "code",
      "execution_count": null,
      "metadata": {
        "colab": {
          "background_save": true
        },
        "id": "0XD9EqyUqjQG",
        "outputId": "5de4189d-2405-42c2-e661-40019102c7aa"
      },
      "outputs": [
        {
          "name": "stdout",
          "output_type": "stream",
          "text": [
            "              precision    recall  f1-score   support\n",
            "\n",
            "           4       1.00      1.00      1.00       100\n",
            "\n",
            "    accuracy                           1.00       100\n",
            "   macro avg       1.00      1.00      1.00       100\n",
            "weighted avg       1.00      1.00      1.00       100\n",
            "\n"
          ]
        }
      ],
      "source": [
        "print(classification_report(yhat, y_test))"
      ]
    }
  ],
  "metadata": {
    "colab": {
      "provenance": [],
      "mount_file_id": "1TTd5KbBrrHbc9yFY4lY-TbjD2uYuQ5rv",
      "authorship_tag": "ABX9TyNwl2Imx2fYTbyrJI6x0dmD",
      "include_colab_link": true
    },
    "kernelspec": {
      "display_name": "Python 3",
      "name": "python3"
    },
    "language_info": {
      "name": "python"
    }
  },
  "nbformat": 4,
  "nbformat_minor": 0
}