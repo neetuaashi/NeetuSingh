{
  "cells": [
    {
      "cell_type": "markdown",
      "metadata": {
        "id": "view-in-github",
        "colab_type": "text"
      },
      "source": [
        "<a href=\"https://colab.research.google.com/github/neetuaashi/NeetuSingh/blob/master/Final_Prostrate_Cancer_SVM_Class.ipynb\" target=\"_parent\"><img src=\"https://colab.research.google.com/assets/colab-badge.svg\" alt=\"Open In Colab\"/></a>"
      ]
    },
    {
      "cell_type": "code",
      "execution_count": null,
      "metadata": {
        "id": "PFkVj-C2c7A6"
      },
      "outputs": [],
      "source": [
        "import numpy as np\n",
        "import pandas as pd\n",
        "import matplotlib.pyplot as plt\n",
        "import seaborn as sns"
      ]
    },
    {
      "cell_type": "code",
      "execution_count": null,
      "metadata": {
        "colab": {
          "base_uri": "https://localhost:8080/"
        },
        "id": "zqVg0NpKOrve",
        "outputId": "3ee32cef-ee4f-4f90-dbb5-b2ec0929fb8a"
      },
      "outputs": [
        {
          "output_type": "stream",
          "name": "stdout",
          "text": [
            "Mounted at /content/drive\n"
          ]
        }
      ],
      "source": [
        "from google.colab import drive\n",
        "drive.mount('/content/drive')"
      ]
    },
    {
      "cell_type": "code",
      "execution_count": null,
      "metadata": {
        "colab": {
          "base_uri": "https://localhost:8080/",
          "height": 293
        },
        "id": "nsWCZ3uWdLae",
        "outputId": "1117c07f-5079-4959-f14c-e65fe6e27695"
      },
      "outputs": [
        {
          "output_type": "execute_result",
          "data": {
            "text/plain": [
              "  PCA_STAGE  GSHG0000008  GSHG0000017  GSHG0000018  GSHG0000026  GSHG0000027  \\\n",
              "0      pT3a     7.604725      5.93074      9.28309     7.242785     7.005525   \n",
              "1       N_1     6.465740      6.08746      8.97728     7.531295     7.266755   \n",
              "2      pT3b     7.317235      6.58496      8.29002     7.139515     7.339600   \n",
              "3       N_2     6.445800      6.85798      8.85175     7.647455     7.503820   \n",
              "4      pT3a     7.021685      6.32193      8.47978     7.554565     7.441775   \n",
              "\n",
              "   GSHG0000029  GSHG0000033  GSHG0000035  GSHG0000036  ...  GSHG0051555  \\\n",
              "0      7.14975     9.247600     7.486895      7.33985  ...      6.59991   \n",
              "1      7.40939     9.919400     7.479640      7.62205  ...      9.45943   \n",
              "2      7.63662     9.137920     7.179600      7.15987  ...      6.37504   \n",
              "3      7.82655     9.880605     7.266755      7.43463  ...      7.46761   \n",
              "4      7.89482     9.462780     7.004740      7.05528  ...      6.33985   \n",
              "\n",
              "   GSHG0051559  GSHG0051578  GSHG0051581  GSHG0051588  GSHG0051591  \\\n",
              "0      7.21917     5.038410      6.37504      6.64386      7.33092   \n",
              "1      6.91886     5.101065      6.84549      5.93074      7.70044   \n",
              "2      7.41785     4.649605      7.14975      6.65821      7.49985   \n",
              "3      7.42626     5.409290      7.24793      6.20945      7.08746   \n",
              "4      7.15987     4.779210      6.94251      6.18982      7.62936   \n",
              "\n",
              "   GSHG0051597  GSHG0051601  GSHG0051602  Outcome  \n",
              "0     7.816270     8.062970      7.10852        2  \n",
              "1     8.787070     7.266755      7.37504        0  \n",
              "2     8.611960     7.751460      7.43463        3  \n",
              "3     9.476720     7.320545      7.24793        0  \n",
              "4     8.183205     6.766785      7.88264        2  \n",
              "\n",
              "[5 rows x 16204 columns]"
            ],
            "text/html": [
              "\n",
              "  <div id=\"df-4837cfbb-a6a1-4bda-832f-45bd9f3b65d5\">\n",
              "    <div class=\"colab-df-container\">\n",
              "      <div>\n",
              "<style scoped>\n",
              "    .dataframe tbody tr th:only-of-type {\n",
              "        vertical-align: middle;\n",
              "    }\n",
              "\n",
              "    .dataframe tbody tr th {\n",
              "        vertical-align: top;\n",
              "    }\n",
              "\n",
              "    .dataframe thead th {\n",
              "        text-align: right;\n",
              "    }\n",
              "</style>\n",
              "<table border=\"1\" class=\"dataframe\">\n",
              "  <thead>\n",
              "    <tr style=\"text-align: right;\">\n",
              "      <th></th>\n",
              "      <th>PCA_STAGE</th>\n",
              "      <th>GSHG0000008</th>\n",
              "      <th>GSHG0000017</th>\n",
              "      <th>GSHG0000018</th>\n",
              "      <th>GSHG0000026</th>\n",
              "      <th>GSHG0000027</th>\n",
              "      <th>GSHG0000029</th>\n",
              "      <th>GSHG0000033</th>\n",
              "      <th>GSHG0000035</th>\n",
              "      <th>GSHG0000036</th>\n",
              "      <th>...</th>\n",
              "      <th>GSHG0051555</th>\n",
              "      <th>GSHG0051559</th>\n",
              "      <th>GSHG0051578</th>\n",
              "      <th>GSHG0051581</th>\n",
              "      <th>GSHG0051588</th>\n",
              "      <th>GSHG0051591</th>\n",
              "      <th>GSHG0051597</th>\n",
              "      <th>GSHG0051601</th>\n",
              "      <th>GSHG0051602</th>\n",
              "      <th>Outcome</th>\n",
              "    </tr>\n",
              "  </thead>\n",
              "  <tbody>\n",
              "    <tr>\n",
              "      <th>0</th>\n",
              "      <td>pT3a</td>\n",
              "      <td>7.604725</td>\n",
              "      <td>5.93074</td>\n",
              "      <td>9.28309</td>\n",
              "      <td>7.242785</td>\n",
              "      <td>7.005525</td>\n",
              "      <td>7.14975</td>\n",
              "      <td>9.247600</td>\n",
              "      <td>7.486895</td>\n",
              "      <td>7.33985</td>\n",
              "      <td>...</td>\n",
              "      <td>6.59991</td>\n",
              "      <td>7.21917</td>\n",
              "      <td>5.038410</td>\n",
              "      <td>6.37504</td>\n",
              "      <td>6.64386</td>\n",
              "      <td>7.33092</td>\n",
              "      <td>7.816270</td>\n",
              "      <td>8.062970</td>\n",
              "      <td>7.10852</td>\n",
              "      <td>2</td>\n",
              "    </tr>\n",
              "    <tr>\n",
              "      <th>1</th>\n",
              "      <td>N_1</td>\n",
              "      <td>6.465740</td>\n",
              "      <td>6.08746</td>\n",
              "      <td>8.97728</td>\n",
              "      <td>7.531295</td>\n",
              "      <td>7.266755</td>\n",
              "      <td>7.40939</td>\n",
              "      <td>9.919400</td>\n",
              "      <td>7.479640</td>\n",
              "      <td>7.62205</td>\n",
              "      <td>...</td>\n",
              "      <td>9.45943</td>\n",
              "      <td>6.91886</td>\n",
              "      <td>5.101065</td>\n",
              "      <td>6.84549</td>\n",
              "      <td>5.93074</td>\n",
              "      <td>7.70044</td>\n",
              "      <td>8.787070</td>\n",
              "      <td>7.266755</td>\n",
              "      <td>7.37504</td>\n",
              "      <td>0</td>\n",
              "    </tr>\n",
              "    <tr>\n",
              "      <th>2</th>\n",
              "      <td>pT3b</td>\n",
              "      <td>7.317235</td>\n",
              "      <td>6.58496</td>\n",
              "      <td>8.29002</td>\n",
              "      <td>7.139515</td>\n",
              "      <td>7.339600</td>\n",
              "      <td>7.63662</td>\n",
              "      <td>9.137920</td>\n",
              "      <td>7.179600</td>\n",
              "      <td>7.15987</td>\n",
              "      <td>...</td>\n",
              "      <td>6.37504</td>\n",
              "      <td>7.41785</td>\n",
              "      <td>4.649605</td>\n",
              "      <td>7.14975</td>\n",
              "      <td>6.65821</td>\n",
              "      <td>7.49985</td>\n",
              "      <td>8.611960</td>\n",
              "      <td>7.751460</td>\n",
              "      <td>7.43463</td>\n",
              "      <td>3</td>\n",
              "    </tr>\n",
              "    <tr>\n",
              "      <th>3</th>\n",
              "      <td>N_2</td>\n",
              "      <td>6.445800</td>\n",
              "      <td>6.85798</td>\n",
              "      <td>8.85175</td>\n",
              "      <td>7.647455</td>\n",
              "      <td>7.503820</td>\n",
              "      <td>7.82655</td>\n",
              "      <td>9.880605</td>\n",
              "      <td>7.266755</td>\n",
              "      <td>7.43463</td>\n",
              "      <td>...</td>\n",
              "      <td>7.46761</td>\n",
              "      <td>7.42626</td>\n",
              "      <td>5.409290</td>\n",
              "      <td>7.24793</td>\n",
              "      <td>6.20945</td>\n",
              "      <td>7.08746</td>\n",
              "      <td>9.476720</td>\n",
              "      <td>7.320545</td>\n",
              "      <td>7.24793</td>\n",
              "      <td>0</td>\n",
              "    </tr>\n",
              "    <tr>\n",
              "      <th>4</th>\n",
              "      <td>pT3a</td>\n",
              "      <td>7.021685</td>\n",
              "      <td>6.32193</td>\n",
              "      <td>8.47978</td>\n",
              "      <td>7.554565</td>\n",
              "      <td>7.441775</td>\n",
              "      <td>7.89482</td>\n",
              "      <td>9.462780</td>\n",
              "      <td>7.004740</td>\n",
              "      <td>7.05528</td>\n",
              "      <td>...</td>\n",
              "      <td>6.33985</td>\n",
              "      <td>7.15987</td>\n",
              "      <td>4.779210</td>\n",
              "      <td>6.94251</td>\n",
              "      <td>6.18982</td>\n",
              "      <td>7.62936</td>\n",
              "      <td>8.183205</td>\n",
              "      <td>6.766785</td>\n",
              "      <td>7.88264</td>\n",
              "      <td>2</td>\n",
              "    </tr>\n",
              "  </tbody>\n",
              "</table>\n",
              "<p>5 rows × 16204 columns</p>\n",
              "</div>\n",
              "      <button class=\"colab-df-convert\" onclick=\"convertToInteractive('df-4837cfbb-a6a1-4bda-832f-45bd9f3b65d5')\"\n",
              "              title=\"Convert this dataframe to an interactive table.\"\n",
              "              style=\"display:none;\">\n",
              "        \n",
              "  <svg xmlns=\"http://www.w3.org/2000/svg\" height=\"24px\"viewBox=\"0 0 24 24\"\n",
              "       width=\"24px\">\n",
              "    <path d=\"M0 0h24v24H0V0z\" fill=\"none\"/>\n",
              "    <path d=\"M18.56 5.44l.94 2.06.94-2.06 2.06-.94-2.06-.94-.94-2.06-.94 2.06-2.06.94zm-11 1L8.5 8.5l.94-2.06 2.06-.94-2.06-.94L8.5 2.5l-.94 2.06-2.06.94zm10 10l.94 2.06.94-2.06 2.06-.94-2.06-.94-.94-2.06-.94 2.06-2.06.94z\"/><path d=\"M17.41 7.96l-1.37-1.37c-.4-.4-.92-.59-1.43-.59-.52 0-1.04.2-1.43.59L10.3 9.45l-7.72 7.72c-.78.78-.78 2.05 0 2.83L4 21.41c.39.39.9.59 1.41.59.51 0 1.02-.2 1.41-.59l7.78-7.78 2.81-2.81c.8-.78.8-2.07 0-2.86zM5.41 20L4 18.59l7.72-7.72 1.47 1.35L5.41 20z\"/>\n",
              "  </svg>\n",
              "      </button>\n",
              "      \n",
              "  <style>\n",
              "    .colab-df-container {\n",
              "      display:flex;\n",
              "      flex-wrap:wrap;\n",
              "      gap: 12px;\n",
              "    }\n",
              "\n",
              "    .colab-df-convert {\n",
              "      background-color: #E8F0FE;\n",
              "      border: none;\n",
              "      border-radius: 50%;\n",
              "      cursor: pointer;\n",
              "      display: none;\n",
              "      fill: #1967D2;\n",
              "      height: 32px;\n",
              "      padding: 0 0 0 0;\n",
              "      width: 32px;\n",
              "    }\n",
              "\n",
              "    .colab-df-convert:hover {\n",
              "      background-color: #E2EBFA;\n",
              "      box-shadow: 0px 1px 2px rgba(60, 64, 67, 0.3), 0px 1px 3px 1px rgba(60, 64, 67, 0.15);\n",
              "      fill: #174EA6;\n",
              "    }\n",
              "\n",
              "    [theme=dark] .colab-df-convert {\n",
              "      background-color: #3B4455;\n",
              "      fill: #D2E3FC;\n",
              "    }\n",
              "\n",
              "    [theme=dark] .colab-df-convert:hover {\n",
              "      background-color: #434B5C;\n",
              "      box-shadow: 0px 1px 3px 1px rgba(0, 0, 0, 0.15);\n",
              "      filter: drop-shadow(0px 1px 2px rgba(0, 0, 0, 0.3));\n",
              "      fill: #FFFFFF;\n",
              "    }\n",
              "  </style>\n",
              "\n",
              "      <script>\n",
              "        const buttonEl =\n",
              "          document.querySelector('#df-4837cfbb-a6a1-4bda-832f-45bd9f3b65d5 button.colab-df-convert');\n",
              "        buttonEl.style.display =\n",
              "          google.colab.kernel.accessAllowed ? 'block' : 'none';\n",
              "\n",
              "        async function convertToInteractive(key) {\n",
              "          const element = document.querySelector('#df-4837cfbb-a6a1-4bda-832f-45bd9f3b65d5');\n",
              "          const dataTable =\n",
              "            await google.colab.kernel.invokeFunction('convertToInteractive',\n",
              "                                                     [key], {});\n",
              "          if (!dataTable) return;\n",
              "\n",
              "          const docLinkHtml = 'Like what you see? Visit the ' +\n",
              "            '<a target=\"_blank\" href=https://colab.research.google.com/notebooks/data_table.ipynb>data table notebook</a>'\n",
              "            + ' to learn more about interactive tables.';\n",
              "          element.innerHTML = '';\n",
              "          dataTable['output_type'] = 'display_data';\n",
              "          await google.colab.output.renderOutput(dataTable, element);\n",
              "          const docLink = document.createElement('div');\n",
              "          docLink.innerHTML = docLinkHtml;\n",
              "          element.appendChild(docLink);\n",
              "        }\n",
              "      </script>\n",
              "    </div>\n",
              "  </div>\n",
              "  "
            ]
          },
          "metadata": {},
          "execution_count": 3
        }
      ],
      "source": [
        "train_data = pd.read_excel('/content/drive/MyDrive/PCA_STAGE_BASED_CLASSIFICATION.xlsx')\n",
        "train_data.head()"
      ]
    },
    {
      "cell_type": "markdown",
      "metadata": {
        "id": "-UUyiGGwfJjh"
      },
      "source": [
        "Data Wrangling"
      ]
    },
    {
      "cell_type": "code",
      "execution_count": null,
      "metadata": {
        "colab": {
          "base_uri": "https://localhost:8080/"
        },
        "id": "XyW12AfTfKVe",
        "outputId": "4e6d4f72-6e68-4468-fb89-e0a4260f4b1e"
      },
      "outputs": [
        {
          "output_type": "execute_result",
          "data": {
            "text/plain": [
              "PCA_STAGE      0\n",
              "GSHG0000008    0\n",
              "GSHG0000017    0\n",
              "GSHG0000018    0\n",
              "GSHG0000026    0\n",
              "              ..\n",
              "GSHG0051591    0\n",
              "GSHG0051597    0\n",
              "GSHG0051601    0\n",
              "GSHG0051602    0\n",
              "Outcome        0\n",
              "Length: 16204, dtype: int64"
            ]
          },
          "metadata": {},
          "execution_count": 4
        }
      ],
      "source": [
        "train_data.isnull().sum()"
      ]
    },
    {
      "cell_type": "code",
      "execution_count": null,
      "metadata": {
        "id": "_TZDE4dwCQkn"
      },
      "outputs": [],
      "source": [
        "\n",
        "train_data = train_data.drop(['PCA_STAGE'], axis = 1)"
      ]
    },
    {
      "cell_type": "code",
      "source": [
        "train_data.describe(include='all')"
      ],
      "metadata": {
        "colab": {
          "base_uri": "https://localhost:8080/",
          "height": 386
        },
        "id": "Sq81V_XajW39",
        "outputId": "6dbee170-a15d-492c-fa10-579bd6397563"
      },
      "execution_count": null,
      "outputs": [
        {
          "output_type": "execute_result",
          "data": {
            "text/plain": [
              "       GSHG0000008  GSHG0000017  GSHG0000018  GSHG0000026  GSHG0000027  \\\n",
              "count   137.000000   137.000000   137.000000   137.000000   137.000000   \n",
              "mean      7.625409     6.553247     8.846202     7.372088     7.318127   \n",
              "std       0.584810     0.869841     0.553860     0.290280     0.367854   \n",
              "min       6.419995     4.954200     7.507790     6.820120     6.467025   \n",
              "25%       7.278610     6.000000     8.471670     7.144575     7.049835   \n",
              "50%       7.604725     6.442940     8.787900     7.335385     7.299490   \n",
              "75%       8.102130     6.942510     9.228820     7.546890     7.566010   \n",
              "max       8.897390     9.867280    10.364100     8.372390     8.424700   \n",
              "\n",
              "       GSHG0000029  GSHG0000033  GSHG0000035  GSHG0000036  GSHG0000038  ...  \\\n",
              "count   137.000000   137.000000   137.000000   137.000000   137.000000  ...   \n",
              "mean      7.561067     9.181256     7.390135     7.445572     7.756067  ...   \n",
              "std       0.281973     0.490373     0.239411     0.205667     0.131994  ...   \n",
              "min       6.794420     7.005525     6.693470     6.807350     7.405085  ...   \n",
              "25%       7.392320     8.929960     7.255875     7.294620     7.668845  ...   \n",
              "50%       7.562240     9.175835     7.353085     7.434630     7.748190  ...   \n",
              "75%       7.768180     9.446790     7.495585     7.569860     7.832835  ...   \n",
              "max       8.257390    10.436300     8.597620     8.060700     8.154735  ...   \n",
              "\n",
              "       GSHG0051555  GSHG0051559  GSHG0051578  GSHG0051581  GSHG0051588  \\\n",
              "count   137.000000    137.00000   137.000000   137.000000   137.000000   \n",
              "mean      6.514587      7.27745     5.301960     6.799834     6.539014   \n",
              "std       0.663130      0.34585     1.245742     0.283978     0.193859   \n",
              "min       5.087460      6.35755     4.000000     6.022370     5.930740   \n",
              "25%       6.087460      7.05528     4.488640     6.599910     6.409390   \n",
              "50%       6.491850      7.31288     4.928990     6.794420     6.523560   \n",
              "75%       6.845490      7.56986     5.629285     6.977280     6.672430   \n",
              "max       9.459430      7.99435     9.720245     7.554590     6.977280   \n",
              "\n",
              "       GSHG0051591  GSHG0051597  GSHG0051601  GSHG0051602     Outcome  \n",
              "count   137.000000   137.000000   137.000000   137.000000  137.000000  \n",
              "mean      7.645078     7.905435     7.511536     7.224324    1.970803  \n",
              "std       0.273548     0.714546     0.932111     0.484999    1.042773  \n",
              "min       6.857980     6.257360     4.599835     5.754890    0.000000  \n",
              "25%       7.467610     7.446085     6.941320     6.930740    1.000000  \n",
              "50%       7.686500     7.897585     7.569835     7.219170    2.000000  \n",
              "75%       7.807350     8.315065     8.233610     7.539160    3.000000  \n",
              "max       8.312880     9.964890     9.732690     8.379380    4.000000  \n",
              "\n",
              "[8 rows x 16203 columns]"
            ],
            "text/html": [
              "\n",
              "  <div id=\"df-194482cb-88ff-4adc-8079-f7e39c89e01b\">\n",
              "    <div class=\"colab-df-container\">\n",
              "      <div>\n",
              "<style scoped>\n",
              "    .dataframe tbody tr th:only-of-type {\n",
              "        vertical-align: middle;\n",
              "    }\n",
              "\n",
              "    .dataframe tbody tr th {\n",
              "        vertical-align: top;\n",
              "    }\n",
              "\n",
              "    .dataframe thead th {\n",
              "        text-align: right;\n",
              "    }\n",
              "</style>\n",
              "<table border=\"1\" class=\"dataframe\">\n",
              "  <thead>\n",
              "    <tr style=\"text-align: right;\">\n",
              "      <th></th>\n",
              "      <th>GSHG0000008</th>\n",
              "      <th>GSHG0000017</th>\n",
              "      <th>GSHG0000018</th>\n",
              "      <th>GSHG0000026</th>\n",
              "      <th>GSHG0000027</th>\n",
              "      <th>GSHG0000029</th>\n",
              "      <th>GSHG0000033</th>\n",
              "      <th>GSHG0000035</th>\n",
              "      <th>GSHG0000036</th>\n",
              "      <th>GSHG0000038</th>\n",
              "      <th>...</th>\n",
              "      <th>GSHG0051555</th>\n",
              "      <th>GSHG0051559</th>\n",
              "      <th>GSHG0051578</th>\n",
              "      <th>GSHG0051581</th>\n",
              "      <th>GSHG0051588</th>\n",
              "      <th>GSHG0051591</th>\n",
              "      <th>GSHG0051597</th>\n",
              "      <th>GSHG0051601</th>\n",
              "      <th>GSHG0051602</th>\n",
              "      <th>Outcome</th>\n",
              "    </tr>\n",
              "  </thead>\n",
              "  <tbody>\n",
              "    <tr>\n",
              "      <th>count</th>\n",
              "      <td>137.000000</td>\n",
              "      <td>137.000000</td>\n",
              "      <td>137.000000</td>\n",
              "      <td>137.000000</td>\n",
              "      <td>137.000000</td>\n",
              "      <td>137.000000</td>\n",
              "      <td>137.000000</td>\n",
              "      <td>137.000000</td>\n",
              "      <td>137.000000</td>\n",
              "      <td>137.000000</td>\n",
              "      <td>...</td>\n",
              "      <td>137.000000</td>\n",
              "      <td>137.00000</td>\n",
              "      <td>137.000000</td>\n",
              "      <td>137.000000</td>\n",
              "      <td>137.000000</td>\n",
              "      <td>137.000000</td>\n",
              "      <td>137.000000</td>\n",
              "      <td>137.000000</td>\n",
              "      <td>137.000000</td>\n",
              "      <td>137.000000</td>\n",
              "    </tr>\n",
              "    <tr>\n",
              "      <th>mean</th>\n",
              "      <td>7.625409</td>\n",
              "      <td>6.553247</td>\n",
              "      <td>8.846202</td>\n",
              "      <td>7.372088</td>\n",
              "      <td>7.318127</td>\n",
              "      <td>7.561067</td>\n",
              "      <td>9.181256</td>\n",
              "      <td>7.390135</td>\n",
              "      <td>7.445572</td>\n",
              "      <td>7.756067</td>\n",
              "      <td>...</td>\n",
              "      <td>6.514587</td>\n",
              "      <td>7.27745</td>\n",
              "      <td>5.301960</td>\n",
              "      <td>6.799834</td>\n",
              "      <td>6.539014</td>\n",
              "      <td>7.645078</td>\n",
              "      <td>7.905435</td>\n",
              "      <td>7.511536</td>\n",
              "      <td>7.224324</td>\n",
              "      <td>1.970803</td>\n",
              "    </tr>\n",
              "    <tr>\n",
              "      <th>std</th>\n",
              "      <td>0.584810</td>\n",
              "      <td>0.869841</td>\n",
              "      <td>0.553860</td>\n",
              "      <td>0.290280</td>\n",
              "      <td>0.367854</td>\n",
              "      <td>0.281973</td>\n",
              "      <td>0.490373</td>\n",
              "      <td>0.239411</td>\n",
              "      <td>0.205667</td>\n",
              "      <td>0.131994</td>\n",
              "      <td>...</td>\n",
              "      <td>0.663130</td>\n",
              "      <td>0.34585</td>\n",
              "      <td>1.245742</td>\n",
              "      <td>0.283978</td>\n",
              "      <td>0.193859</td>\n",
              "      <td>0.273548</td>\n",
              "      <td>0.714546</td>\n",
              "      <td>0.932111</td>\n",
              "      <td>0.484999</td>\n",
              "      <td>1.042773</td>\n",
              "    </tr>\n",
              "    <tr>\n",
              "      <th>min</th>\n",
              "      <td>6.419995</td>\n",
              "      <td>4.954200</td>\n",
              "      <td>7.507790</td>\n",
              "      <td>6.820120</td>\n",
              "      <td>6.467025</td>\n",
              "      <td>6.794420</td>\n",
              "      <td>7.005525</td>\n",
              "      <td>6.693470</td>\n",
              "      <td>6.807350</td>\n",
              "      <td>7.405085</td>\n",
              "      <td>...</td>\n",
              "      <td>5.087460</td>\n",
              "      <td>6.35755</td>\n",
              "      <td>4.000000</td>\n",
              "      <td>6.022370</td>\n",
              "      <td>5.930740</td>\n",
              "      <td>6.857980</td>\n",
              "      <td>6.257360</td>\n",
              "      <td>4.599835</td>\n",
              "      <td>5.754890</td>\n",
              "      <td>0.000000</td>\n",
              "    </tr>\n",
              "    <tr>\n",
              "      <th>25%</th>\n",
              "      <td>7.278610</td>\n",
              "      <td>6.000000</td>\n",
              "      <td>8.471670</td>\n",
              "      <td>7.144575</td>\n",
              "      <td>7.049835</td>\n",
              "      <td>7.392320</td>\n",
              "      <td>8.929960</td>\n",
              "      <td>7.255875</td>\n",
              "      <td>7.294620</td>\n",
              "      <td>7.668845</td>\n",
              "      <td>...</td>\n",
              "      <td>6.087460</td>\n",
              "      <td>7.05528</td>\n",
              "      <td>4.488640</td>\n",
              "      <td>6.599910</td>\n",
              "      <td>6.409390</td>\n",
              "      <td>7.467610</td>\n",
              "      <td>7.446085</td>\n",
              "      <td>6.941320</td>\n",
              "      <td>6.930740</td>\n",
              "      <td>1.000000</td>\n",
              "    </tr>\n",
              "    <tr>\n",
              "      <th>50%</th>\n",
              "      <td>7.604725</td>\n",
              "      <td>6.442940</td>\n",
              "      <td>8.787900</td>\n",
              "      <td>7.335385</td>\n",
              "      <td>7.299490</td>\n",
              "      <td>7.562240</td>\n",
              "      <td>9.175835</td>\n",
              "      <td>7.353085</td>\n",
              "      <td>7.434630</td>\n",
              "      <td>7.748190</td>\n",
              "      <td>...</td>\n",
              "      <td>6.491850</td>\n",
              "      <td>7.31288</td>\n",
              "      <td>4.928990</td>\n",
              "      <td>6.794420</td>\n",
              "      <td>6.523560</td>\n",
              "      <td>7.686500</td>\n",
              "      <td>7.897585</td>\n",
              "      <td>7.569835</td>\n",
              "      <td>7.219170</td>\n",
              "      <td>2.000000</td>\n",
              "    </tr>\n",
              "    <tr>\n",
              "      <th>75%</th>\n",
              "      <td>8.102130</td>\n",
              "      <td>6.942510</td>\n",
              "      <td>9.228820</td>\n",
              "      <td>7.546890</td>\n",
              "      <td>7.566010</td>\n",
              "      <td>7.768180</td>\n",
              "      <td>9.446790</td>\n",
              "      <td>7.495585</td>\n",
              "      <td>7.569860</td>\n",
              "      <td>7.832835</td>\n",
              "      <td>...</td>\n",
              "      <td>6.845490</td>\n",
              "      <td>7.56986</td>\n",
              "      <td>5.629285</td>\n",
              "      <td>6.977280</td>\n",
              "      <td>6.672430</td>\n",
              "      <td>7.807350</td>\n",
              "      <td>8.315065</td>\n",
              "      <td>8.233610</td>\n",
              "      <td>7.539160</td>\n",
              "      <td>3.000000</td>\n",
              "    </tr>\n",
              "    <tr>\n",
              "      <th>max</th>\n",
              "      <td>8.897390</td>\n",
              "      <td>9.867280</td>\n",
              "      <td>10.364100</td>\n",
              "      <td>8.372390</td>\n",
              "      <td>8.424700</td>\n",
              "      <td>8.257390</td>\n",
              "      <td>10.436300</td>\n",
              "      <td>8.597620</td>\n",
              "      <td>8.060700</td>\n",
              "      <td>8.154735</td>\n",
              "      <td>...</td>\n",
              "      <td>9.459430</td>\n",
              "      <td>7.99435</td>\n",
              "      <td>9.720245</td>\n",
              "      <td>7.554590</td>\n",
              "      <td>6.977280</td>\n",
              "      <td>8.312880</td>\n",
              "      <td>9.964890</td>\n",
              "      <td>9.732690</td>\n",
              "      <td>8.379380</td>\n",
              "      <td>4.000000</td>\n",
              "    </tr>\n",
              "  </tbody>\n",
              "</table>\n",
              "<p>8 rows × 16203 columns</p>\n",
              "</div>\n",
              "      <button class=\"colab-df-convert\" onclick=\"convertToInteractive('df-194482cb-88ff-4adc-8079-f7e39c89e01b')\"\n",
              "              title=\"Convert this dataframe to an interactive table.\"\n",
              "              style=\"display:none;\">\n",
              "        \n",
              "  <svg xmlns=\"http://www.w3.org/2000/svg\" height=\"24px\"viewBox=\"0 0 24 24\"\n",
              "       width=\"24px\">\n",
              "    <path d=\"M0 0h24v24H0V0z\" fill=\"none\"/>\n",
              "    <path d=\"M18.56 5.44l.94 2.06.94-2.06 2.06-.94-2.06-.94-.94-2.06-.94 2.06-2.06.94zm-11 1L8.5 8.5l.94-2.06 2.06-.94-2.06-.94L8.5 2.5l-.94 2.06-2.06.94zm10 10l.94 2.06.94-2.06 2.06-.94-2.06-.94-.94-2.06-.94 2.06-2.06.94z\"/><path d=\"M17.41 7.96l-1.37-1.37c-.4-.4-.92-.59-1.43-.59-.52 0-1.04.2-1.43.59L10.3 9.45l-7.72 7.72c-.78.78-.78 2.05 0 2.83L4 21.41c.39.39.9.59 1.41.59.51 0 1.02-.2 1.41-.59l7.78-7.78 2.81-2.81c.8-.78.8-2.07 0-2.86zM5.41 20L4 18.59l7.72-7.72 1.47 1.35L5.41 20z\"/>\n",
              "  </svg>\n",
              "      </button>\n",
              "      \n",
              "  <style>\n",
              "    .colab-df-container {\n",
              "      display:flex;\n",
              "      flex-wrap:wrap;\n",
              "      gap: 12px;\n",
              "    }\n",
              "\n",
              "    .colab-df-convert {\n",
              "      background-color: #E8F0FE;\n",
              "      border: none;\n",
              "      border-radius: 50%;\n",
              "      cursor: pointer;\n",
              "      display: none;\n",
              "      fill: #1967D2;\n",
              "      height: 32px;\n",
              "      padding: 0 0 0 0;\n",
              "      width: 32px;\n",
              "    }\n",
              "\n",
              "    .colab-df-convert:hover {\n",
              "      background-color: #E2EBFA;\n",
              "      box-shadow: 0px 1px 2px rgba(60, 64, 67, 0.3), 0px 1px 3px 1px rgba(60, 64, 67, 0.15);\n",
              "      fill: #174EA6;\n",
              "    }\n",
              "\n",
              "    [theme=dark] .colab-df-convert {\n",
              "      background-color: #3B4455;\n",
              "      fill: #D2E3FC;\n",
              "    }\n",
              "\n",
              "    [theme=dark] .colab-df-convert:hover {\n",
              "      background-color: #434B5C;\n",
              "      box-shadow: 0px 1px 3px 1px rgba(0, 0, 0, 0.15);\n",
              "      filter: drop-shadow(0px 1px 2px rgba(0, 0, 0, 0.3));\n",
              "      fill: #FFFFFF;\n",
              "    }\n",
              "  </style>\n",
              "\n",
              "      <script>\n",
              "        const buttonEl =\n",
              "          document.querySelector('#df-194482cb-88ff-4adc-8079-f7e39c89e01b button.colab-df-convert');\n",
              "        buttonEl.style.display =\n",
              "          google.colab.kernel.accessAllowed ? 'block' : 'none';\n",
              "\n",
              "        async function convertToInteractive(key) {\n",
              "          const element = document.querySelector('#df-194482cb-88ff-4adc-8079-f7e39c89e01b');\n",
              "          const dataTable =\n",
              "            await google.colab.kernel.invokeFunction('convertToInteractive',\n",
              "                                                     [key], {});\n",
              "          if (!dataTable) return;\n",
              "\n",
              "          const docLinkHtml = 'Like what you see? Visit the ' +\n",
              "            '<a target=\"_blank\" href=https://colab.research.google.com/notebooks/data_table.ipynb>data table notebook</a>'\n",
              "            + ' to learn more about interactive tables.';\n",
              "          element.innerHTML = '';\n",
              "          dataTable['output_type'] = 'display_data';\n",
              "          await google.colab.output.renderOutput(dataTable, element);\n",
              "          const docLink = document.createElement('div');\n",
              "          docLink.innerHTML = docLinkHtml;\n",
              "          element.appendChild(docLink);\n",
              "        }\n",
              "      </script>\n",
              "    </div>\n",
              "  </div>\n",
              "  "
            ]
          },
          "metadata": {},
          "execution_count": 6
        }
      ]
    },
    {
      "cell_type": "code",
      "source": [
        "# to check correlation beween independent features\n",
        "train_data.corr()"
      ],
      "metadata": {
        "id": "6q24ZwXEjpB0",
        "colab": {
          "base_uri": "https://localhost:8080/",
          "height": 477
        },
        "outputId": "f47827c6-9918-4100-bceb-f03ba7c06e60"
      },
      "execution_count": null,
      "outputs": [
        {
          "output_type": "execute_result",
          "data": {
            "text/plain": [
              "             GSHG0000008  GSHG0000017  GSHG0000018  GSHG0000026  GSHG0000027  \\\n",
              "GSHG0000008     1.000000    -0.122974    -0.088349    -0.374764    -0.389580   \n",
              "GSHG0000017    -0.122974     1.000000     0.189959     0.363409     0.123600   \n",
              "GSHG0000018    -0.088349     0.189959     1.000000     0.029175     0.394447   \n",
              "GSHG0000026    -0.374764     0.363409     0.029175     1.000000     0.295004   \n",
              "GSHG0000027    -0.389580     0.123600     0.394447     0.295004     1.000000   \n",
              "...                  ...          ...          ...          ...          ...   \n",
              "GSHG0051591     0.225601    -0.004518     0.005991    -0.277681    -0.342520   \n",
              "GSHG0051597    -0.266356     0.137672    -0.313153     0.115334    -0.082395   \n",
              "GSHG0051601     0.246763     0.196456     0.080879    -0.096748    -0.168029   \n",
              "GSHG0051602     0.096897     0.070474    -0.123534     0.141785    -0.186870   \n",
              "Outcome         0.034729     0.235471     0.213790     0.148011     0.042310   \n",
              "\n",
              "             GSHG0000029  GSHG0000033  GSHG0000035  GSHG0000036  GSHG0000038  \\\n",
              "GSHG0000008    -0.261281    -0.442279     0.009938    -0.268359     0.049678   \n",
              "GSHG0000017     0.024211     0.123709    -0.066141     0.193066    -0.033415   \n",
              "GSHG0000018    -0.177881     0.268190     0.123215     0.297356     0.341180   \n",
              "GSHG0000026     0.341352     0.346313     0.222309     0.445415     0.106378   \n",
              "GSHG0000027     0.252512     0.370966     0.066554     0.425165     0.233652   \n",
              "...                  ...          ...          ...          ...          ...   \n",
              "GSHG0051591    -0.300315    -0.333179     0.064610    -0.060204     0.028843   \n",
              "GSHG0051597     0.050147     0.270701    -0.305743    -0.205116    -0.388912   \n",
              "GSHG0051601    -0.132528     0.174023    -0.290520    -0.223215    -0.168326   \n",
              "GSHG0051602    -0.044017     0.105326    -0.219983    -0.270288    -0.259279   \n",
              "Outcome        -0.033286    -0.195299     0.443305     0.273042     0.237748   \n",
              "\n",
              "             ...  GSHG0051555  GSHG0051559  GSHG0051578  GSHG0051581  \\\n",
              "GSHG0000008  ...    -0.107820     0.346219     0.266779    -0.083206   \n",
              "GSHG0000017  ...    -0.044098    -0.011886    -0.090996    -0.061755   \n",
              "GSHG0000018  ...    -0.068953     0.184582     0.037796    -0.365853   \n",
              "GSHG0000026  ...    -0.004080    -0.314835    -0.017155     0.096077   \n",
              "GSHG0000027  ...    -0.251513    -0.103548    -0.133973    -0.043598   \n",
              "...          ...          ...          ...          ...          ...   \n",
              "GSHG0051591  ...    -0.064523     0.203759     0.159564    -0.050144   \n",
              "GSHG0051597  ...     0.459231    -0.072475    -0.142821     0.183134   \n",
              "GSHG0051601  ...     0.410131     0.171443     0.056445    -0.143977   \n",
              "GSHG0051602  ...     0.323464     0.082698     0.144221     0.028864   \n",
              "Outcome      ...    -0.488938    -0.019687     0.022063    -0.148070   \n",
              "\n",
              "             GSHG0051588  GSHG0051591  GSHG0051597  GSHG0051601  GSHG0051602  \\\n",
              "GSHG0000008     0.464599     0.225601    -0.266356     0.246763     0.096897   \n",
              "GSHG0000017    -0.067999    -0.004518     0.137672     0.196456     0.070474   \n",
              "GSHG0000018     0.032809     0.005991    -0.313153     0.080879    -0.123534   \n",
              "GSHG0000026    -0.275572    -0.277681     0.115334    -0.096748     0.141785   \n",
              "GSHG0000027    -0.296168    -0.342520    -0.082395    -0.168029    -0.186870   \n",
              "...                  ...          ...          ...          ...          ...   \n",
              "GSHG0051591     0.322089     1.000000    -0.145761    -0.039778    -0.050874   \n",
              "GSHG0051597    -0.279899    -0.145761     1.000000     0.268502     0.337203   \n",
              "GSHG0051601     0.102285    -0.039778     0.268502     1.000000     0.276451   \n",
              "GSHG0051602    -0.089731    -0.050874     0.337203     0.276451     1.000000   \n",
              "Outcome         0.164711     0.156236    -0.334866    -0.170796    -0.244328   \n",
              "\n",
              "              Outcome  \n",
              "GSHG0000008  0.034729  \n",
              "GSHG0000017  0.235471  \n",
              "GSHG0000018  0.213790  \n",
              "GSHG0000026  0.148011  \n",
              "GSHG0000027  0.042310  \n",
              "...               ...  \n",
              "GSHG0051591  0.156236  \n",
              "GSHG0051597 -0.334866  \n",
              "GSHG0051601 -0.170796  \n",
              "GSHG0051602 -0.244328  \n",
              "Outcome      1.000000  \n",
              "\n",
              "[16203 rows x 16203 columns]"
            ],
            "text/html": [
              "\n",
              "  <div id=\"df-5a9355e0-9af2-44aa-84da-b3a1a6536f2c\">\n",
              "    <div class=\"colab-df-container\">\n",
              "      <div>\n",
              "<style scoped>\n",
              "    .dataframe tbody tr th:only-of-type {\n",
              "        vertical-align: middle;\n",
              "    }\n",
              "\n",
              "    .dataframe tbody tr th {\n",
              "        vertical-align: top;\n",
              "    }\n",
              "\n",
              "    .dataframe thead th {\n",
              "        text-align: right;\n",
              "    }\n",
              "</style>\n",
              "<table border=\"1\" class=\"dataframe\">\n",
              "  <thead>\n",
              "    <tr style=\"text-align: right;\">\n",
              "      <th></th>\n",
              "      <th>GSHG0000008</th>\n",
              "      <th>GSHG0000017</th>\n",
              "      <th>GSHG0000018</th>\n",
              "      <th>GSHG0000026</th>\n",
              "      <th>GSHG0000027</th>\n",
              "      <th>GSHG0000029</th>\n",
              "      <th>GSHG0000033</th>\n",
              "      <th>GSHG0000035</th>\n",
              "      <th>GSHG0000036</th>\n",
              "      <th>GSHG0000038</th>\n",
              "      <th>...</th>\n",
              "      <th>GSHG0051555</th>\n",
              "      <th>GSHG0051559</th>\n",
              "      <th>GSHG0051578</th>\n",
              "      <th>GSHG0051581</th>\n",
              "      <th>GSHG0051588</th>\n",
              "      <th>GSHG0051591</th>\n",
              "      <th>GSHG0051597</th>\n",
              "      <th>GSHG0051601</th>\n",
              "      <th>GSHG0051602</th>\n",
              "      <th>Outcome</th>\n",
              "    </tr>\n",
              "  </thead>\n",
              "  <tbody>\n",
              "    <tr>\n",
              "      <th>GSHG0000008</th>\n",
              "      <td>1.000000</td>\n",
              "      <td>-0.122974</td>\n",
              "      <td>-0.088349</td>\n",
              "      <td>-0.374764</td>\n",
              "      <td>-0.389580</td>\n",
              "      <td>-0.261281</td>\n",
              "      <td>-0.442279</td>\n",
              "      <td>0.009938</td>\n",
              "      <td>-0.268359</td>\n",
              "      <td>0.049678</td>\n",
              "      <td>...</td>\n",
              "      <td>-0.107820</td>\n",
              "      <td>0.346219</td>\n",
              "      <td>0.266779</td>\n",
              "      <td>-0.083206</td>\n",
              "      <td>0.464599</td>\n",
              "      <td>0.225601</td>\n",
              "      <td>-0.266356</td>\n",
              "      <td>0.246763</td>\n",
              "      <td>0.096897</td>\n",
              "      <td>0.034729</td>\n",
              "    </tr>\n",
              "    <tr>\n",
              "      <th>GSHG0000017</th>\n",
              "      <td>-0.122974</td>\n",
              "      <td>1.000000</td>\n",
              "      <td>0.189959</td>\n",
              "      <td>0.363409</td>\n",
              "      <td>0.123600</td>\n",
              "      <td>0.024211</td>\n",
              "      <td>0.123709</td>\n",
              "      <td>-0.066141</td>\n",
              "      <td>0.193066</td>\n",
              "      <td>-0.033415</td>\n",
              "      <td>...</td>\n",
              "      <td>-0.044098</td>\n",
              "      <td>-0.011886</td>\n",
              "      <td>-0.090996</td>\n",
              "      <td>-0.061755</td>\n",
              "      <td>-0.067999</td>\n",
              "      <td>-0.004518</td>\n",
              "      <td>0.137672</td>\n",
              "      <td>0.196456</td>\n",
              "      <td>0.070474</td>\n",
              "      <td>0.235471</td>\n",
              "    </tr>\n",
              "    <tr>\n",
              "      <th>GSHG0000018</th>\n",
              "      <td>-0.088349</td>\n",
              "      <td>0.189959</td>\n",
              "      <td>1.000000</td>\n",
              "      <td>0.029175</td>\n",
              "      <td>0.394447</td>\n",
              "      <td>-0.177881</td>\n",
              "      <td>0.268190</td>\n",
              "      <td>0.123215</td>\n",
              "      <td>0.297356</td>\n",
              "      <td>0.341180</td>\n",
              "      <td>...</td>\n",
              "      <td>-0.068953</td>\n",
              "      <td>0.184582</td>\n",
              "      <td>0.037796</td>\n",
              "      <td>-0.365853</td>\n",
              "      <td>0.032809</td>\n",
              "      <td>0.005991</td>\n",
              "      <td>-0.313153</td>\n",
              "      <td>0.080879</td>\n",
              "      <td>-0.123534</td>\n",
              "      <td>0.213790</td>\n",
              "    </tr>\n",
              "    <tr>\n",
              "      <th>GSHG0000026</th>\n",
              "      <td>-0.374764</td>\n",
              "      <td>0.363409</td>\n",
              "      <td>0.029175</td>\n",
              "      <td>1.000000</td>\n",
              "      <td>0.295004</td>\n",
              "      <td>0.341352</td>\n",
              "      <td>0.346313</td>\n",
              "      <td>0.222309</td>\n",
              "      <td>0.445415</td>\n",
              "      <td>0.106378</td>\n",
              "      <td>...</td>\n",
              "      <td>-0.004080</td>\n",
              "      <td>-0.314835</td>\n",
              "      <td>-0.017155</td>\n",
              "      <td>0.096077</td>\n",
              "      <td>-0.275572</td>\n",
              "      <td>-0.277681</td>\n",
              "      <td>0.115334</td>\n",
              "      <td>-0.096748</td>\n",
              "      <td>0.141785</td>\n",
              "      <td>0.148011</td>\n",
              "    </tr>\n",
              "    <tr>\n",
              "      <th>GSHG0000027</th>\n",
              "      <td>-0.389580</td>\n",
              "      <td>0.123600</td>\n",
              "      <td>0.394447</td>\n",
              "      <td>0.295004</td>\n",
              "      <td>1.000000</td>\n",
              "      <td>0.252512</td>\n",
              "      <td>0.370966</td>\n",
              "      <td>0.066554</td>\n",
              "      <td>0.425165</td>\n",
              "      <td>0.233652</td>\n",
              "      <td>...</td>\n",
              "      <td>-0.251513</td>\n",
              "      <td>-0.103548</td>\n",
              "      <td>-0.133973</td>\n",
              "      <td>-0.043598</td>\n",
              "      <td>-0.296168</td>\n",
              "      <td>-0.342520</td>\n",
              "      <td>-0.082395</td>\n",
              "      <td>-0.168029</td>\n",
              "      <td>-0.186870</td>\n",
              "      <td>0.042310</td>\n",
              "    </tr>\n",
              "    <tr>\n",
              "      <th>...</th>\n",
              "      <td>...</td>\n",
              "      <td>...</td>\n",
              "      <td>...</td>\n",
              "      <td>...</td>\n",
              "      <td>...</td>\n",
              "      <td>...</td>\n",
              "      <td>...</td>\n",
              "      <td>...</td>\n",
              "      <td>...</td>\n",
              "      <td>...</td>\n",
              "      <td>...</td>\n",
              "      <td>...</td>\n",
              "      <td>...</td>\n",
              "      <td>...</td>\n",
              "      <td>...</td>\n",
              "      <td>...</td>\n",
              "      <td>...</td>\n",
              "      <td>...</td>\n",
              "      <td>...</td>\n",
              "      <td>...</td>\n",
              "      <td>...</td>\n",
              "    </tr>\n",
              "    <tr>\n",
              "      <th>GSHG0051591</th>\n",
              "      <td>0.225601</td>\n",
              "      <td>-0.004518</td>\n",
              "      <td>0.005991</td>\n",
              "      <td>-0.277681</td>\n",
              "      <td>-0.342520</td>\n",
              "      <td>-0.300315</td>\n",
              "      <td>-0.333179</td>\n",
              "      <td>0.064610</td>\n",
              "      <td>-0.060204</td>\n",
              "      <td>0.028843</td>\n",
              "      <td>...</td>\n",
              "      <td>-0.064523</td>\n",
              "      <td>0.203759</td>\n",
              "      <td>0.159564</td>\n",
              "      <td>-0.050144</td>\n",
              "      <td>0.322089</td>\n",
              "      <td>1.000000</td>\n",
              "      <td>-0.145761</td>\n",
              "      <td>-0.039778</td>\n",
              "      <td>-0.050874</td>\n",
              "      <td>0.156236</td>\n",
              "    </tr>\n",
              "    <tr>\n",
              "      <th>GSHG0051597</th>\n",
              "      <td>-0.266356</td>\n",
              "      <td>0.137672</td>\n",
              "      <td>-0.313153</td>\n",
              "      <td>0.115334</td>\n",
              "      <td>-0.082395</td>\n",
              "      <td>0.050147</td>\n",
              "      <td>0.270701</td>\n",
              "      <td>-0.305743</td>\n",
              "      <td>-0.205116</td>\n",
              "      <td>-0.388912</td>\n",
              "      <td>...</td>\n",
              "      <td>0.459231</td>\n",
              "      <td>-0.072475</td>\n",
              "      <td>-0.142821</td>\n",
              "      <td>0.183134</td>\n",
              "      <td>-0.279899</td>\n",
              "      <td>-0.145761</td>\n",
              "      <td>1.000000</td>\n",
              "      <td>0.268502</td>\n",
              "      <td>0.337203</td>\n",
              "      <td>-0.334866</td>\n",
              "    </tr>\n",
              "    <tr>\n",
              "      <th>GSHG0051601</th>\n",
              "      <td>0.246763</td>\n",
              "      <td>0.196456</td>\n",
              "      <td>0.080879</td>\n",
              "      <td>-0.096748</td>\n",
              "      <td>-0.168029</td>\n",
              "      <td>-0.132528</td>\n",
              "      <td>0.174023</td>\n",
              "      <td>-0.290520</td>\n",
              "      <td>-0.223215</td>\n",
              "      <td>-0.168326</td>\n",
              "      <td>...</td>\n",
              "      <td>0.410131</td>\n",
              "      <td>0.171443</td>\n",
              "      <td>0.056445</td>\n",
              "      <td>-0.143977</td>\n",
              "      <td>0.102285</td>\n",
              "      <td>-0.039778</td>\n",
              "      <td>0.268502</td>\n",
              "      <td>1.000000</td>\n",
              "      <td>0.276451</td>\n",
              "      <td>-0.170796</td>\n",
              "    </tr>\n",
              "    <tr>\n",
              "      <th>GSHG0051602</th>\n",
              "      <td>0.096897</td>\n",
              "      <td>0.070474</td>\n",
              "      <td>-0.123534</td>\n",
              "      <td>0.141785</td>\n",
              "      <td>-0.186870</td>\n",
              "      <td>-0.044017</td>\n",
              "      <td>0.105326</td>\n",
              "      <td>-0.219983</td>\n",
              "      <td>-0.270288</td>\n",
              "      <td>-0.259279</td>\n",
              "      <td>...</td>\n",
              "      <td>0.323464</td>\n",
              "      <td>0.082698</td>\n",
              "      <td>0.144221</td>\n",
              "      <td>0.028864</td>\n",
              "      <td>-0.089731</td>\n",
              "      <td>-0.050874</td>\n",
              "      <td>0.337203</td>\n",
              "      <td>0.276451</td>\n",
              "      <td>1.000000</td>\n",
              "      <td>-0.244328</td>\n",
              "    </tr>\n",
              "    <tr>\n",
              "      <th>Outcome</th>\n",
              "      <td>0.034729</td>\n",
              "      <td>0.235471</td>\n",
              "      <td>0.213790</td>\n",
              "      <td>0.148011</td>\n",
              "      <td>0.042310</td>\n",
              "      <td>-0.033286</td>\n",
              "      <td>-0.195299</td>\n",
              "      <td>0.443305</td>\n",
              "      <td>0.273042</td>\n",
              "      <td>0.237748</td>\n",
              "      <td>...</td>\n",
              "      <td>-0.488938</td>\n",
              "      <td>-0.019687</td>\n",
              "      <td>0.022063</td>\n",
              "      <td>-0.148070</td>\n",
              "      <td>0.164711</td>\n",
              "      <td>0.156236</td>\n",
              "      <td>-0.334866</td>\n",
              "      <td>-0.170796</td>\n",
              "      <td>-0.244328</td>\n",
              "      <td>1.000000</td>\n",
              "    </tr>\n",
              "  </tbody>\n",
              "</table>\n",
              "<p>16203 rows × 16203 columns</p>\n",
              "</div>\n",
              "      <button class=\"colab-df-convert\" onclick=\"convertToInteractive('df-5a9355e0-9af2-44aa-84da-b3a1a6536f2c')\"\n",
              "              title=\"Convert this dataframe to an interactive table.\"\n",
              "              style=\"display:none;\">\n",
              "        \n",
              "  <svg xmlns=\"http://www.w3.org/2000/svg\" height=\"24px\"viewBox=\"0 0 24 24\"\n",
              "       width=\"24px\">\n",
              "    <path d=\"M0 0h24v24H0V0z\" fill=\"none\"/>\n",
              "    <path d=\"M18.56 5.44l.94 2.06.94-2.06 2.06-.94-2.06-.94-.94-2.06-.94 2.06-2.06.94zm-11 1L8.5 8.5l.94-2.06 2.06-.94-2.06-.94L8.5 2.5l-.94 2.06-2.06.94zm10 10l.94 2.06.94-2.06 2.06-.94-2.06-.94-.94-2.06-.94 2.06-2.06.94z\"/><path d=\"M17.41 7.96l-1.37-1.37c-.4-.4-.92-.59-1.43-.59-.52 0-1.04.2-1.43.59L10.3 9.45l-7.72 7.72c-.78.78-.78 2.05 0 2.83L4 21.41c.39.39.9.59 1.41.59.51 0 1.02-.2 1.41-.59l7.78-7.78 2.81-2.81c.8-.78.8-2.07 0-2.86zM5.41 20L4 18.59l7.72-7.72 1.47 1.35L5.41 20z\"/>\n",
              "  </svg>\n",
              "      </button>\n",
              "      \n",
              "  <style>\n",
              "    .colab-df-container {\n",
              "      display:flex;\n",
              "      flex-wrap:wrap;\n",
              "      gap: 12px;\n",
              "    }\n",
              "\n",
              "    .colab-df-convert {\n",
              "      background-color: #E8F0FE;\n",
              "      border: none;\n",
              "      border-radius: 50%;\n",
              "      cursor: pointer;\n",
              "      display: none;\n",
              "      fill: #1967D2;\n",
              "      height: 32px;\n",
              "      padding: 0 0 0 0;\n",
              "      width: 32px;\n",
              "    }\n",
              "\n",
              "    .colab-df-convert:hover {\n",
              "      background-color: #E2EBFA;\n",
              "      box-shadow: 0px 1px 2px rgba(60, 64, 67, 0.3), 0px 1px 3px 1px rgba(60, 64, 67, 0.15);\n",
              "      fill: #174EA6;\n",
              "    }\n",
              "\n",
              "    [theme=dark] .colab-df-convert {\n",
              "      background-color: #3B4455;\n",
              "      fill: #D2E3FC;\n",
              "    }\n",
              "\n",
              "    [theme=dark] .colab-df-convert:hover {\n",
              "      background-color: #434B5C;\n",
              "      box-shadow: 0px 1px 3px 1px rgba(0, 0, 0, 0.15);\n",
              "      filter: drop-shadow(0px 1px 2px rgba(0, 0, 0, 0.3));\n",
              "      fill: #FFFFFF;\n",
              "    }\n",
              "  </style>\n",
              "\n",
              "      <script>\n",
              "        const buttonEl =\n",
              "          document.querySelector('#df-5a9355e0-9af2-44aa-84da-b3a1a6536f2c button.colab-df-convert');\n",
              "        buttonEl.style.display =\n",
              "          google.colab.kernel.accessAllowed ? 'block' : 'none';\n",
              "\n",
              "        async function convertToInteractive(key) {\n",
              "          const element = document.querySelector('#df-5a9355e0-9af2-44aa-84da-b3a1a6536f2c');\n",
              "          const dataTable =\n",
              "            await google.colab.kernel.invokeFunction('convertToInteractive',\n",
              "                                                     [key], {});\n",
              "          if (!dataTable) return;\n",
              "\n",
              "          const docLinkHtml = 'Like what you see? Visit the ' +\n",
              "            '<a target=\"_blank\" href=https://colab.research.google.com/notebooks/data_table.ipynb>data table notebook</a>'\n",
              "            + ' to learn more about interactive tables.';\n",
              "          element.innerHTML = '';\n",
              "          dataTable['output_type'] = 'display_data';\n",
              "          await google.colab.output.renderOutput(dataTable, element);\n",
              "          const docLink = document.createElement('div');\n",
              "          docLink.innerHTML = docLinkHtml;\n",
              "          element.appendChild(docLink);\n",
              "        }\n",
              "      </script>\n",
              "    </div>\n",
              "  </div>\n",
              "  "
            ]
          },
          "metadata": {},
          "execution_count": 7
        }
      ]
    },
    {
      "cell_type": "code",
      "execution_count": null,
      "metadata": {
        "id": "mDl8HYp7ue5E",
        "colab": {
          "base_uri": "https://localhost:8080/"
        },
        "outputId": "c66d0019-561a-42d1-ef3f-35464f514d77"
      },
      "outputs": [
        {
          "output_type": "execute_result",
          "data": {
            "text/plain": [
              "(137, 16203)"
            ]
          },
          "metadata": {},
          "execution_count": 8
        }
      ],
      "source": [
        "train_data.shape"
      ]
    },
    {
      "cell_type": "code",
      "execution_count": null,
      "metadata": {
        "id": "Pzp23l_Nw9Ym"
      },
      "outputs": [],
      "source": [
        "train_data['Outcome'] = train_data['Outcome'].astype('int')\n"
      ]
    },
    {
      "cell_type": "code",
      "execution_count": null,
      "metadata": {
        "id": "mCgeHMuXwqVu",
        "colab": {
          "base_uri": "https://localhost:8080/",
          "height": 645
        },
        "outputId": "99e1b639-729e-4c76-828d-a18b86d35e5b"
      },
      "outputs": [
        {
          "output_type": "execute_result",
          "data": {
            "text/plain": [
              "<seaborn.axisgrid.FacetGrid at 0x7fee933ef490>"
            ]
          },
          "metadata": {},
          "execution_count": 10
        },
        {
          "output_type": "display_data",
          "data": {
            "text/plain": [
              "<Figure size 600x600 with 1 Axes>"
            ],
            "image/png": "[encoded data removed]"
          },
          "metadata": {}
        }
      ],
      "source": [
        "# Display counts of classes\n",
        "sns.catplot(x = 'Outcome', kind = \"count\", data = train_data, height = 6)"
      ]
    },
    {
      "cell_type": "code",
      "execution_count": null,
      "metadata": {
        "id": "3K4pzGJbxj60",
        "colab": {
          "base_uri": "https://localhost:8080/"
        },
        "outputId": "116f7595-ae0e-46be-b6eb-fa224525fdc1"
      },
      "outputs": [
        {
          "output_type": "execute_result",
          "data": {
            "text/plain": [
              "2    55\n",
              "1    36\n",
              "3    24\n",
              "4    13\n",
              "0     9\n",
              "Name: Outcome, dtype: int64"
            ]
          },
          "metadata": {},
          "execution_count": 11
        }
      ],
      "source": [
        "train_data['Outcome'].value_counts()"
      ]
    },
    {
      "cell_type": "code",
      "source": [
        "from sklearn.cluster import KMeans\n",
        "wcss=[]\n",
        "for i in range (1, 50):\n",
        "  kmeans=KMeans(n_clusters=i, init='k-means++', random_state=42)\n",
        "  kmeans.fit(train_data)\n",
        "  wcss.append(kmeans.inertia_)\n",
        "  print(kmeans.inertia_)"
      ],
      "metadata": {
        "id": "IBKK3wQ5Quf8",
        "colab": {
          "base_uri": "https://localhost:8080/"
        },
        "outputId": "c2c13e41-8460-4442-817f-67bff9fcd37b"
      },
      "execution_count": null,
      "outputs": [
        {
          "output_type": "stream",
          "name": "stderr",
          "text": [
            "/usr/local/lib/python3.10/dist-packages/sklearn/cluster/_kmeans.py:870: FutureWarning: The default value of `n_init` will change from 10 to 'auto' in 1.4. Set the value of `n_init` explicitly to suppress the warning\n",
            "  warnings.warn(\n"
          ]
        },
        {
          "output_type": "stream",
          "name": "stdout",
          "text": [
            "563929.2864935516\n"
          ]
        },
        {
          "output_type": "stream",
          "name": "stderr",
          "text": [
            "/usr/local/lib/python3.10/dist-packages/sklearn/cluster/_kmeans.py:870: FutureWarning: The default value of `n_init` will change from 10 to 'auto' in 1.4. Set the value of `n_init` explicitly to suppress the warning\n",
            "  warnings.warn(\n"
          ]
        },
        {
          "output_type": "stream",
          "name": "stdout",
          "text": [
            "505492.7306445234\n"
          ]
        },
        {
          "output_type": "stream",
          "name": "stderr",
          "text": [
            "/usr/local/lib/python3.10/dist-packages/sklearn/cluster/_kmeans.py:870: FutureWarning: The default value of `n_init` will change from 10 to 'auto' in 1.4. Set the value of `n_init` explicitly to suppress the warning\n",
            "  warnings.warn(\n"
          ]
        },
        {
          "output_type": "stream",
          "name": "stdout",
          "text": [
            "470513.05881441873\n"
          ]
        },
        {
          "output_type": "stream",
          "name": "stderr",
          "text": [
            "/usr/local/lib/python3.10/dist-packages/sklearn/cluster/_kmeans.py:870: FutureWarning: The default value of `n_init` will change from 10 to 'auto' in 1.4. Set the value of `n_init` explicitly to suppress the warning\n",
            "  warnings.warn(\n"
          ]
        },
        {
          "output_type": "stream",
          "name": "stdout",
          "text": [
            "448473.7755996331\n"
          ]
        },
        {
          "output_type": "stream",
          "name": "stderr",
          "text": [
            "/usr/local/lib/python3.10/dist-packages/sklearn/cluster/_kmeans.py:870: FutureWarning: The default value of `n_init` will change from 10 to 'auto' in 1.4. Set the value of `n_init` explicitly to suppress the warning\n",
            "  warnings.warn(\n"
          ]
        },
        {
          "output_type": "stream",
          "name": "stdout",
          "text": [
            "430286.195567036\n"
          ]
        },
        {
          "output_type": "stream",
          "name": "stderr",
          "text": [
            "/usr/local/lib/python3.10/dist-packages/sklearn/cluster/_kmeans.py:870: FutureWarning: The default value of `n_init` will change from 10 to 'auto' in 1.4. Set the value of `n_init` explicitly to suppress the warning\n",
            "  warnings.warn(\n"
          ]
        },
        {
          "output_type": "stream",
          "name": "stdout",
          "text": [
            "415391.1667382924\n"
          ]
        },
        {
          "output_type": "stream",
          "name": "stderr",
          "text": [
            "/usr/local/lib/python3.10/dist-packages/sklearn/cluster/_kmeans.py:870: FutureWarning: The default value of `n_init` will change from 10 to 'auto' in 1.4. Set the value of `n_init` explicitly to suppress the warning\n",
            "  warnings.warn(\n"
          ]
        },
        {
          "output_type": "stream",
          "name": "stdout",
          "text": [
            "404100.42821879266\n"
          ]
        },
        {
          "output_type": "stream",
          "name": "stderr",
          "text": [
            "/usr/local/lib/python3.10/dist-packages/sklearn/cluster/_kmeans.py:870: FutureWarning: The default value of `n_init` will change from 10 to 'auto' in 1.4. Set the value of `n_init` explicitly to suppress the warning\n",
            "  warnings.warn(\n"
          ]
        },
        {
          "output_type": "stream",
          "name": "stdout",
          "text": [
            "391937.15805068496\n"
          ]
        },
        {
          "output_type": "stream",
          "name": "stderr",
          "text": [
            "/usr/local/lib/python3.10/dist-packages/sklearn/cluster/_kmeans.py:870: FutureWarning: The default value of `n_init` will change from 10 to 'auto' in 1.4. Set the value of `n_init` explicitly to suppress the warning\n",
            "  warnings.warn(\n"
          ]
        },
        {
          "output_type": "stream",
          "name": "stdout",
          "text": [
            "388926.03757610335\n"
          ]
        },
        {
          "output_type": "stream",
          "name": "stderr",
          "text": [
            "/usr/local/lib/python3.10/dist-packages/sklearn/cluster/_kmeans.py:870: FutureWarning: The default value of `n_init` will change from 10 to 'auto' in 1.4. Set the value of `n_init` explicitly to suppress the warning\n",
            "  warnings.warn(\n"
          ]
        },
        {
          "output_type": "stream",
          "name": "stdout",
          "text": [
            "376334.42400471587\n"
          ]
        },
        {
          "output_type": "stream",
          "name": "stderr",
          "text": [
            "/usr/local/lib/python3.10/dist-packages/sklearn/cluster/_kmeans.py:870: FutureWarning: The default value of `n_init` will change from 10 to 'auto' in 1.4. Set the value of `n_init` explicitly to suppress the warning\n",
            "  warnings.warn(\n"
          ]
        },
        {
          "output_type": "stream",
          "name": "stdout",
          "text": [
            "363273.98054088006\n"
          ]
        },
        {
          "output_type": "stream",
          "name": "stderr",
          "text": [
            "/usr/local/lib/python3.10/dist-packages/sklearn/cluster/_kmeans.py:870: FutureWarning: The default value of `n_init` will change from 10 to 'auto' in 1.4. Set the value of `n_init` explicitly to suppress the warning\n",
            "  warnings.warn(\n"
          ]
        },
        {
          "output_type": "stream",
          "name": "stdout",
          "text": [
            "365347.3317447343\n"
          ]
        },
        {
          "output_type": "stream",
          "name": "stderr",
          "text": [
            "/usr/local/lib/python3.10/dist-packages/sklearn/cluster/_kmeans.py:870: FutureWarning: The default value of `n_init` will change from 10 to 'auto' in 1.4. Set the value of `n_init` explicitly to suppress the warning\n",
            "  warnings.warn(\n"
          ]
        },
        {
          "output_type": "stream",
          "name": "stdout",
          "text": [
            "351792.6691044236\n"
          ]
        },
        {
          "output_type": "stream",
          "name": "stderr",
          "text": [
            "/usr/local/lib/python3.10/dist-packages/sklearn/cluster/_kmeans.py:870: FutureWarning: The default value of `n_init` will change from 10 to 'auto' in 1.4. Set the value of `n_init` explicitly to suppress the warning\n",
            "  warnings.warn(\n"
          ]
        },
        {
          "output_type": "stream",
          "name": "stdout",
          "text": [
            "347791.3802855804\n"
          ]
        },
        {
          "output_type": "stream",
          "name": "stderr",
          "text": [
            "/usr/local/lib/python3.10/dist-packages/sklearn/cluster/_kmeans.py:870: FutureWarning: The default value of `n_init` will change from 10 to 'auto' in 1.4. Set the value of `n_init` explicitly to suppress the warning\n",
            "  warnings.warn(\n"
          ]
        },
        {
          "output_type": "stream",
          "name": "stdout",
          "text": [
            "337352.3424703878\n"
          ]
        },
        {
          "output_type": "stream",
          "name": "stderr",
          "text": [
            "/usr/local/lib/python3.10/dist-packages/sklearn/cluster/_kmeans.py:870: FutureWarning: The default value of `n_init` will change from 10 to 'auto' in 1.4. Set the value of `n_init` explicitly to suppress the warning\n",
            "  warnings.warn(\n"
          ]
        },
        {
          "output_type": "stream",
          "name": "stdout",
          "text": [
            "333503.8643172204\n"
          ]
        },
        {
          "output_type": "stream",
          "name": "stderr",
          "text": [
            "/usr/local/lib/python3.10/dist-packages/sklearn/cluster/_kmeans.py:870: FutureWarning: The default value of `n_init` will change from 10 to 'auto' in 1.4. Set the value of `n_init` explicitly to suppress the warning\n",
            "  warnings.warn(\n"
          ]
        },
        {
          "output_type": "stream",
          "name": "stdout",
          "text": [
            "327445.097936466\n"
          ]
        },
        {
          "output_type": "stream",
          "name": "stderr",
          "text": [
            "/usr/local/lib/python3.10/dist-packages/sklearn/cluster/_kmeans.py:870: FutureWarning: The default value of `n_init` will change from 10 to 'auto' in 1.4. Set the value of `n_init` explicitly to suppress the warning\n",
            "  warnings.warn(\n"
          ]
        },
        {
          "output_type": "stream",
          "name": "stdout",
          "text": [
            "322682.613241098\n"
          ]
        },
        {
          "output_type": "stream",
          "name": "stderr",
          "text": [
            "/usr/local/lib/python3.10/dist-packages/sklearn/cluster/_kmeans.py:870: FutureWarning: The default value of `n_init` will change from 10 to 'auto' in 1.4. Set the value of `n_init` explicitly to suppress the warning\n",
            "  warnings.warn(\n"
          ]
        },
        {
          "output_type": "stream",
          "name": "stdout",
          "text": [
            "318230.6883865595\n"
          ]
        },
        {
          "output_type": "stream",
          "name": "stderr",
          "text": [
            "/usr/local/lib/python3.10/dist-packages/sklearn/cluster/_kmeans.py:870: FutureWarning: The default value of `n_init` will change from 10 to 'auto' in 1.4. Set the value of `n_init` explicitly to suppress the warning\n",
            "  warnings.warn(\n"
          ]
        },
        {
          "output_type": "stream",
          "name": "stdout",
          "text": [
            "311101.86232318287\n"
          ]
        },
        {
          "output_type": "stream",
          "name": "stderr",
          "text": [
            "/usr/local/lib/python3.10/dist-packages/sklearn/cluster/_kmeans.py:870: FutureWarning: The default value of `n_init` will change from 10 to 'auto' in 1.4. Set the value of `n_init` explicitly to suppress the warning\n",
            "  warnings.warn(\n"
          ]
        },
        {
          "output_type": "stream",
          "name": "stdout",
          "text": [
            "303602.32718505163\n"
          ]
        },
        {
          "output_type": "stream",
          "name": "stderr",
          "text": [
            "/usr/local/lib/python3.10/dist-packages/sklearn/cluster/_kmeans.py:870: FutureWarning: The default value of `n_init` will change from 10 to 'auto' in 1.4. Set the value of `n_init` explicitly to suppress the warning\n",
            "  warnings.warn(\n"
          ]
        },
        {
          "output_type": "stream",
          "name": "stdout",
          "text": [
            "301858.67177621165\n"
          ]
        },
        {
          "output_type": "stream",
          "name": "stderr",
          "text": [
            "/usr/local/lib/python3.10/dist-packages/sklearn/cluster/_kmeans.py:870: FutureWarning: The default value of `n_init` will change from 10 to 'auto' in 1.4. Set the value of `n_init` explicitly to suppress the warning\n",
            "  warnings.warn(\n"
          ]
        },
        {
          "output_type": "stream",
          "name": "stdout",
          "text": [
            "296162.95765342494\n"
          ]
        },
        {
          "output_type": "stream",
          "name": "stderr",
          "text": [
            "/usr/local/lib/python3.10/dist-packages/sklearn/cluster/_kmeans.py:870: FutureWarning: The default value of `n_init` will change from 10 to 'auto' in 1.4. Set the value of `n_init` explicitly to suppress the warning\n",
            "  warnings.warn(\n"
          ]
        },
        {
          "output_type": "stream",
          "name": "stdout",
          "text": [
            "289605.2100693793\n"
          ]
        },
        {
          "output_type": "stream",
          "name": "stderr",
          "text": [
            "/usr/local/lib/python3.10/dist-packages/sklearn/cluster/_kmeans.py:870: FutureWarning: The default value of `n_init` will change from 10 to 'auto' in 1.4. Set the value of `n_init` explicitly to suppress the warning\n",
            "  warnings.warn(\n"
          ]
        },
        {
          "output_type": "stream",
          "name": "stdout",
          "text": [
            "281949.8936441222\n"
          ]
        },
        {
          "output_type": "stream",
          "name": "stderr",
          "text": [
            "/usr/local/lib/python3.10/dist-packages/sklearn/cluster/_kmeans.py:870: FutureWarning: The default value of `n_init` will change from 10 to 'auto' in 1.4. Set the value of `n_init` explicitly to suppress the warning\n",
            "  warnings.warn(\n"
          ]
        },
        {
          "output_type": "stream",
          "name": "stdout",
          "text": [
            "274541.91718046134\n"
          ]
        },
        {
          "output_type": "stream",
          "name": "stderr",
          "text": [
            "/usr/local/lib/python3.10/dist-packages/sklearn/cluster/_kmeans.py:870: FutureWarning: The default value of `n_init` will change from 10 to 'auto' in 1.4. Set the value of `n_init` explicitly to suppress the warning\n",
            "  warnings.warn(\n"
          ]
        },
        {
          "output_type": "stream",
          "name": "stdout",
          "text": [
            "276386.12790215627\n"
          ]
        },
        {
          "output_type": "stream",
          "name": "stderr",
          "text": [
            "/usr/local/lib/python3.10/dist-packages/sklearn/cluster/_kmeans.py:870: FutureWarning: The default value of `n_init` will change from 10 to 'auto' in 1.4. Set the value of `n_init` explicitly to suppress the warning\n",
            "  warnings.warn(\n"
          ]
        },
        {
          "output_type": "stream",
          "name": "stdout",
          "text": [
            "271171.0592675556\n"
          ]
        },
        {
          "output_type": "stream",
          "name": "stderr",
          "text": [
            "/usr/local/lib/python3.10/dist-packages/sklearn/cluster/_kmeans.py:870: FutureWarning: The default value of `n_init` will change from 10 to 'auto' in 1.4. Set the value of `n_init` explicitly to suppress the warning\n",
            "  warnings.warn(\n"
          ]
        },
        {
          "output_type": "stream",
          "name": "stdout",
          "text": [
            "265006.76071231917\n"
          ]
        },
        {
          "output_type": "stream",
          "name": "stderr",
          "text": [
            "/usr/local/lib/python3.10/dist-packages/sklearn/cluster/_kmeans.py:870: FutureWarning: The default value of `n_init` will change from 10 to 'auto' in 1.4. Set the value of `n_init` explicitly to suppress the warning\n",
            "  warnings.warn(\n"
          ]
        },
        {
          "output_type": "stream",
          "name": "stdout",
          "text": [
            "262987.7141801582\n"
          ]
        },
        {
          "output_type": "stream",
          "name": "stderr",
          "text": [
            "/usr/local/lib/python3.10/dist-packages/sklearn/cluster/_kmeans.py:870: FutureWarning: The default value of `n_init` will change from 10 to 'auto' in 1.4. Set the value of `n_init` explicitly to suppress the warning\n",
            "  warnings.warn(\n"
          ]
        },
        {
          "output_type": "stream",
          "name": "stdout",
          "text": [
            "256712.7038393115\n"
          ]
        },
        {
          "output_type": "stream",
          "name": "stderr",
          "text": [
            "/usr/local/lib/python3.10/dist-packages/sklearn/cluster/_kmeans.py:870: FutureWarning: The default value of `n_init` will change from 10 to 'auto' in 1.4. Set the value of `n_init` explicitly to suppress the warning\n",
            "  warnings.warn(\n"
          ]
        },
        {
          "output_type": "stream",
          "name": "stdout",
          "text": [
            "252592.5558094395\n"
          ]
        },
        {
          "output_type": "stream",
          "name": "stderr",
          "text": [
            "/usr/local/lib/python3.10/dist-packages/sklearn/cluster/_kmeans.py:870: FutureWarning: The default value of `n_init` will change from 10 to 'auto' in 1.4. Set the value of `n_init` explicitly to suppress the warning\n",
            "  warnings.warn(\n"
          ]
        },
        {
          "output_type": "stream",
          "name": "stdout",
          "text": [
            "246109.71151470262\n"
          ]
        },
        {
          "output_type": "stream",
          "name": "stderr",
          "text": [
            "/usr/local/lib/python3.10/dist-packages/sklearn/cluster/_kmeans.py:870: FutureWarning: The default value of `n_init` will change from 10 to 'auto' in 1.4. Set the value of `n_init` explicitly to suppress the warning\n",
            "  warnings.warn(\n"
          ]
        },
        {
          "output_type": "stream",
          "name": "stdout",
          "text": [
            "244216.04805731506\n"
          ]
        },
        {
          "output_type": "stream",
          "name": "stderr",
          "text": [
            "/usr/local/lib/python3.10/dist-packages/sklearn/cluster/_kmeans.py:870: FutureWarning: The default value of `n_init` will change from 10 to 'auto' in 1.4. Set the value of `n_init` explicitly to suppress the warning\n",
            "  warnings.warn(\n"
          ]
        },
        {
          "output_type": "stream",
          "name": "stdout",
          "text": [
            "237491.81066764623\n"
          ]
        },
        {
          "output_type": "stream",
          "name": "stderr",
          "text": [
            "/usr/local/lib/python3.10/dist-packages/sklearn/cluster/_kmeans.py:870: FutureWarning: The default value of `n_init` will change from 10 to 'auto' in 1.4. Set the value of `n_init` explicitly to suppress the warning\n",
            "  warnings.warn(\n"
          ]
        },
        {
          "output_type": "stream",
          "name": "stdout",
          "text": [
            "232791.55743514298\n"
          ]
        },
        {
          "output_type": "stream",
          "name": "stderr",
          "text": [
            "/usr/local/lib/python3.10/dist-packages/sklearn/cluster/_kmeans.py:870: FutureWarning: The default value of `n_init` will change from 10 to 'auto' in 1.4. Set the value of `n_init` explicitly to suppress the warning\n",
            "  warnings.warn(\n"
          ]
        },
        {
          "output_type": "stream",
          "name": "stdout",
          "text": [
            "231989.90111935546\n"
          ]
        },
        {
          "output_type": "stream",
          "name": "stderr",
          "text": [
            "/usr/local/lib/python3.10/dist-packages/sklearn/cluster/_kmeans.py:870: FutureWarning: The default value of `n_init` will change from 10 to 'auto' in 1.4. Set the value of `n_init` explicitly to suppress the warning\n",
            "  warnings.warn(\n"
          ]
        },
        {
          "output_type": "stream",
          "name": "stdout",
          "text": [
            "226520.37734858418\n"
          ]
        },
        {
          "output_type": "stream",
          "name": "stderr",
          "text": [
            "/usr/local/lib/python3.10/dist-packages/sklearn/cluster/_kmeans.py:870: FutureWarning: The default value of `n_init` will change from 10 to 'auto' in 1.4. Set the value of `n_init` explicitly to suppress the warning\n",
            "  warnings.warn(\n"
          ]
        },
        {
          "output_type": "stream",
          "name": "stdout",
          "text": [
            "222717.02484199923\n"
          ]
        },
        {
          "output_type": "stream",
          "name": "stderr",
          "text": [
            "/usr/local/lib/python3.10/dist-packages/sklearn/cluster/_kmeans.py:870: FutureWarning: The default value of `n_init` will change from 10 to 'auto' in 1.4. Set the value of `n_init` explicitly to suppress the warning\n",
            "  warnings.warn(\n"
          ]
        },
        {
          "output_type": "stream",
          "name": "stdout",
          "text": [
            "216278.2888078874\n"
          ]
        },
        {
          "output_type": "stream",
          "name": "stderr",
          "text": [
            "/usr/local/lib/python3.10/dist-packages/sklearn/cluster/_kmeans.py:870: FutureWarning: The default value of `n_init` will change from 10 to 'auto' in 1.4. Set the value of `n_init` explicitly to suppress the warning\n",
            "  warnings.warn(\n"
          ]
        },
        {
          "output_type": "stream",
          "name": "stdout",
          "text": [
            "214143.4951854003\n"
          ]
        },
        {
          "output_type": "stream",
          "name": "stderr",
          "text": [
            "/usr/local/lib/python3.10/dist-packages/sklearn/cluster/_kmeans.py:870: FutureWarning: The default value of `n_init` will change from 10 to 'auto' in 1.4. Set the value of `n_init` explicitly to suppress the warning\n",
            "  warnings.warn(\n"
          ]
        },
        {
          "output_type": "stream",
          "name": "stdout",
          "text": [
            "211209.560331062\n"
          ]
        },
        {
          "output_type": "stream",
          "name": "stderr",
          "text": [
            "/usr/local/lib/python3.10/dist-packages/sklearn/cluster/_kmeans.py:870: FutureWarning: The default value of `n_init` will change from 10 to 'auto' in 1.4. Set the value of `n_init` explicitly to suppress the warning\n",
            "  warnings.warn(\n"
          ]
        },
        {
          "output_type": "stream",
          "name": "stdout",
          "text": [
            "207568.71780533425\n"
          ]
        },
        {
          "output_type": "stream",
          "name": "stderr",
          "text": [
            "/usr/local/lib/python3.10/dist-packages/sklearn/cluster/_kmeans.py:870: FutureWarning: The default value of `n_init` will change from 10 to 'auto' in 1.4. Set the value of `n_init` explicitly to suppress the warning\n",
            "  warnings.warn(\n"
          ]
        },
        {
          "output_type": "stream",
          "name": "stdout",
          "text": [
            "203932.63294245471\n"
          ]
        },
        {
          "output_type": "stream",
          "name": "stderr",
          "text": [
            "/usr/local/lib/python3.10/dist-packages/sklearn/cluster/_kmeans.py:870: FutureWarning: The default value of `n_init` will change from 10 to 'auto' in 1.4. Set the value of `n_init` explicitly to suppress the warning\n",
            "  warnings.warn(\n"
          ]
        },
        {
          "output_type": "stream",
          "name": "stdout",
          "text": [
            "200269.9448999606\n"
          ]
        },
        {
          "output_type": "stream",
          "name": "stderr",
          "text": [
            "/usr/local/lib/python3.10/dist-packages/sklearn/cluster/_kmeans.py:870: FutureWarning: The default value of `n_init` will change from 10 to 'auto' in 1.4. Set the value of `n_init` explicitly to suppress the warning\n",
            "  warnings.warn(\n"
          ]
        },
        {
          "output_type": "stream",
          "name": "stdout",
          "text": [
            "196864.46820686045\n"
          ]
        },
        {
          "output_type": "stream",
          "name": "stderr",
          "text": [
            "/usr/local/lib/python3.10/dist-packages/sklearn/cluster/_kmeans.py:870: FutureWarning: The default value of `n_init` will change from 10 to 'auto' in 1.4. Set the value of `n_init` explicitly to suppress the warning\n",
            "  warnings.warn(\n"
          ]
        },
        {
          "output_type": "stream",
          "name": "stdout",
          "text": [
            "193979.53402856956\n"
          ]
        },
        {
          "output_type": "stream",
          "name": "stderr",
          "text": [
            "/usr/local/lib/python3.10/dist-packages/sklearn/cluster/_kmeans.py:870: FutureWarning: The default value of `n_init` will change from 10 to 'auto' in 1.4. Set the value of `n_init` explicitly to suppress the warning\n",
            "  warnings.warn(\n"
          ]
        },
        {
          "output_type": "stream",
          "name": "stdout",
          "text": [
            "190852.14312930766\n"
          ]
        },
        {
          "output_type": "stream",
          "name": "stderr",
          "text": [
            "/usr/local/lib/python3.10/dist-packages/sklearn/cluster/_kmeans.py:870: FutureWarning: The default value of `n_init` will change from 10 to 'auto' in 1.4. Set the value of `n_init` explicitly to suppress the warning\n",
            "  warnings.warn(\n"
          ]
        },
        {
          "output_type": "stream",
          "name": "stdout",
          "text": [
            "187940.62136050378\n"
          ]
        }
      ]
    },
    {
      "cell_type": "code",
      "source": [
        "plt.plot(range(1,50),wcss)\n",
        "plt.title('Elbow Method')\n",
        "plt.xlabel('Number of clusters')\n",
        "plt.ylabel('WCSS')\n",
        "plt.show()"
      ],
      "metadata": {
        "id": "li5WUxUrRr0y",
        "colab": {
          "base_uri": "https://localhost:8080/",
          "height": 493
        },
        "outputId": "9be82f49-55ef-4d5f-a8fd-dc2c00e5098f"
      },
      "execution_count": null,
      "outputs": [
        {
          "output_type": "display_data",
          "data": {
            "text/plain": [
              "<Figure size 640x480 with 1 Axes>"
            ],
            "image/png": "[encoded data removed]"
          },
          "metadata": {}
        }
      ]
    },
    {
      "cell_type": "code",
      "source": [
        "X = train_data.drop('Outcome', axis = 1)\n",
        "Y = train_data['Outcome']"
      ],
      "metadata": {
        "id": "q10ODfj7KGhb"
      },
      "execution_count": null,
      "outputs": []
    },
    {
      "cell_type": "code",
      "source": [
        "from sklearn import svm\n",
        "import sklearn.model_selection as model_selection\n",
        "from sklearn.metrics import accuracy_score\n",
        "from sklearn.metrics import f1_score"
      ],
      "metadata": {
        "id": "exfDYTsh5QjX"
      },
      "execution_count": null,
      "outputs": []
    },
    {
      "cell_type": "code",
      "source": [
        "from sklearn.model_selection import train_test_split\n",
        "# spliting of training & test is 80% to 20% ratio\n",
        "x_train, x_test, y_train, y_test = train_test_split(X, Y, test_size = 0.2, random_state = 2)"
      ],
      "metadata": {
        "id": "dd81A_MZ56X0"
      },
      "execution_count": null,
      "outputs": []
    },
    {
      "cell_type": "code",
      "source": [
        "x_train.shape"
      ],
      "metadata": {
        "id": "VLFznE1I_qtX",
        "colab": {
          "base_uri": "https://localhost:8080/"
        },
        "outputId": "95c4c4f0-6b93-44e4-b379-b84acec32ac1"
      },
      "execution_count": null,
      "outputs": [
        {
          "output_type": "execute_result",
          "data": {
            "text/plain": [
              "(109, 16202)"
            ]
          },
          "metadata": {},
          "execution_count": 17
        }
      ]
    },
    {
      "cell_type": "code",
      "source": [
        "x_test.shape"
      ],
      "metadata": {
        "id": "py0Rp_zq_uVP",
        "colab": {
          "base_uri": "https://localhost:8080/"
        },
        "outputId": "2759a111-4964-4e41-81bd-cb41dfb82d9e"
      },
      "execution_count": null,
      "outputs": [
        {
          "output_type": "execute_result",
          "data": {
            "text/plain": [
              "(28, 16202)"
            ]
          },
          "metadata": {},
          "execution_count": 18
        }
      ]
    },
    {
      "cell_type": "code",
      "source": [
        "y_train.shape"
      ],
      "metadata": {
        "id": "WQpIGQMU_x0v",
        "colab": {
          "base_uri": "https://localhost:8080/"
        },
        "outputId": "0a9a380c-1aa6-423a-9d7d-60832fadc424"
      },
      "execution_count": null,
      "outputs": [
        {
          "output_type": "execute_result",
          "data": {
            "text/plain": [
              "(109,)"
            ]
          },
          "metadata": {},
          "execution_count": 19
        }
      ]
    },
    {
      "cell_type": "code",
      "source": [
        "y_test.shape"
      ],
      "metadata": {
        "id": "fTkp9FWS_zaH",
        "colab": {
          "base_uri": "https://localhost:8080/"
        },
        "outputId": "545d5c5a-c04f-4a8a-c44e-0740394be154"
      },
      "execution_count": null,
      "outputs": [
        {
          "output_type": "execute_result",
          "data": {
            "text/plain": [
              "(28,)"
            ]
          },
          "metadata": {},
          "execution_count": 20
        }
      ]
    },
    {
      "cell_type": "code",
      "source": [
        "rbf = svm.SVC(kernel='rbf', gamma=0.5, C=0.1).fit(x_train, y_train)\n",
        "poly = svm.SVC(kernel='poly', degree=3, C=1).fit(x_train, y_train)"
      ],
      "metadata": {
        "id": "LCwyWN9D6BQs"
      },
      "execution_count": null,
      "outputs": []
    },
    {
      "cell_type": "code",
      "source": [
        "poly_pred = poly.predict(x_test)\n",
        "rbf_pred = rbf.predict(x_test)"
      ],
      "metadata": {
        "id": "OEKYZiho6LN8"
      },
      "execution_count": null,
      "outputs": []
    },
    {
      "cell_type": "code",
      "source": [
        "poly_pred"
      ],
      "metadata": {
        "id": "vYZG5Yyu8hIm",
        "colab": {
          "base_uri": "https://localhost:8080/"
        },
        "outputId": "bccef24e-777a-4174-ce52-a6f923a17f3d"
      },
      "execution_count": null,
      "outputs": [
        {
          "output_type": "execute_result",
          "data": {
            "text/plain": [
              "array([1, 4, 2, 0, 2, 0, 3, 4, 1, 3, 1, 2, 2, 2, 4, 2, 2, 4, 2, 3, 4, 2,\n",
              "       2, 1, 1, 3, 1, 3])"
            ]
          },
          "metadata": {},
          "execution_count": 23
        }
      ]
    },
    {
      "cell_type": "code",
      "source": [
        "plt.plot(x_test[0:5,1:16202],'o', label='Class label = A', color='yellow')\n",
        "plt.plot(x_test[5:10,1:16202],'o', label='Class label = B', color='red')\n",
        "plt.plot(x_test[10:15,1:16202],'o', label='Class label = C', color='blue')\n",
        "plt.plot(x_test[15:20,1:16202],'o', label='Class label = C', color='black')\n",
        "plt.plot(x_test[20:28,1:16202],'o', label='Class label = C', color='green')\n",
        "plt.xlabel(\"Test data\")\n",
        "plt.legend(numpoints=1)"
      ],
      "metadata": {
        "id": "NIeX80fZKfMX",
        "colab": {
          "base_uri": "https://localhost:8080/",
          "height": 437
        },
        "outputId": "2e0ea73b-d188-43a0-abf6-d1de51de281f"
      },
      "execution_count": null,
      "outputs": [
        {
          "output_type": "error",
          "ename": "InvalidIndexError",
          "evalue": "ignored",
          "traceback": [
            "\u001b[0;31m---------------------------------------------------------------------------\u001b[0m",
            "\u001b[0;31mTypeError\u001b[0m                                 Traceback (most recent call last)",
            "\u001b[0;32m/usr/local/lib/python3.10/dist-packages/pandas/core/indexes/base.py\u001b[0m in \u001b[0;36mget_loc\u001b[0;34m(self, key, method, tolerance)\u001b[0m\n\u001b[1;32m   3801\u001b[0m             \u001b[0;32mtry\u001b[0m\u001b[0;34m:\u001b[0m\u001b[0;34m\u001b[0m\u001b[0;34m\u001b[0m\u001b[0m\n\u001b[0;32m-> 3802\u001b[0;31m                 \u001b[0;32mreturn\u001b[0m \u001b[0mself\u001b[0m\u001b[0;34m.\u001b[0m\u001b[0m_engine\u001b[0m\u001b[0;34m.\u001b[0m\u001b[0mget_loc\u001b[0m\u001b[0;34m(\u001b[0m\u001b[0mcasted_key\u001b[0m\u001b[0;34m)\u001b[0m\u001b[0;34m\u001b[0m\u001b[0;34m\u001b[0m\u001b[0m\n\u001b[0m\u001b[1;32m   3803\u001b[0m             \u001b[0;32mexcept\u001b[0m \u001b[0mKeyError\u001b[0m \u001b[0;32mas\u001b[0m \u001b[0merr\u001b[0m\u001b[0;34m:\u001b[0m\u001b[0;34m\u001b[0m\u001b[0;34m\u001b[0m\u001b[0m\n",
            "\u001b[0;32m/usr/local/lib/python3.10/dist-packages/pandas/_libs/index.pyx\u001b[0m in \u001b[0;36mpandas._libs.index.IndexEngine.get_loc\u001b[0;34m()\u001b[0m\n",
            "\u001b[0;32m/usr/local/lib/python3.10/dist-packages/pandas/_libs/index.pyx\u001b[0m in \u001b[0;36mpandas._libs.index.IndexEngine.get_loc\u001b[0;34m()\u001b[0m\n",
            "\u001b[0;31mTypeError\u001b[0m: '(slice(0, 5, None), slice(1, 16202, None))' is an invalid key",
            "\nDuring handling of the above exception, another exception occurred:\n",
            "\u001b[0;31mInvalidIndexError\u001b[0m                         Traceback (most recent call last)",
            "\u001b[0;32m<ipython-input-27-63e479b4c331>\u001b[0m in \u001b[0;36m<cell line: 1>\u001b[0;34m()\u001b[0m\n\u001b[0;32m----> 1\u001b[0;31m \u001b[0mplt\u001b[0m\u001b[0;34m.\u001b[0m\u001b[0mplot\u001b[0m\u001b[0;34m(\u001b[0m\u001b[0mx_test\u001b[0m\u001b[0;34m[\u001b[0m\u001b[0;36m0\u001b[0m\u001b[0;34m:\u001b[0m\u001b[0;36m5\u001b[0m\u001b[0;34m,\u001b[0m\u001b[0;36m1\u001b[0m\u001b[0;34m:\u001b[0m\u001b[0;36m16202\u001b[0m\u001b[0;34m]\u001b[0m\u001b[0;34m,\u001b[0m\u001b[0;34m'o'\u001b[0m\u001b[0;34m,\u001b[0m \u001b[0mlabel\u001b[0m\u001b[0;34m=\u001b[0m\u001b[0;34m'Class label = A'\u001b[0m\u001b[0;34m,\u001b[0m \u001b[0mcolor\u001b[0m\u001b[0;34m=\u001b[0m\u001b[0;34m'yellow'\u001b[0m\u001b[0;34m)\u001b[0m\u001b[0;34m\u001b[0m\u001b[0;34m\u001b[0m\u001b[0m\n\u001b[0m\u001b[1;32m      2\u001b[0m \u001b[0mplt\u001b[0m\u001b[0;34m.\u001b[0m\u001b[0mplot\u001b[0m\u001b[0;34m(\u001b[0m\u001b[0mx_test\u001b[0m\u001b[0;34m[\u001b[0m\u001b[0;36m5\u001b[0m\u001b[0;34m:\u001b[0m\u001b[0;36m10\u001b[0m\u001b[0;34m,\u001b[0m\u001b[0;36m1\u001b[0m\u001b[0;34m:\u001b[0m\u001b[0;36m16202\u001b[0m\u001b[0;34m]\u001b[0m\u001b[0;34m,\u001b[0m\u001b[0;34m'o'\u001b[0m\u001b[0;34m,\u001b[0m \u001b[0mlabel\u001b[0m\u001b[0;34m=\u001b[0m\u001b[0;34m'Class label = B'\u001b[0m\u001b[0;34m,\u001b[0m \u001b[0mcolor\u001b[0m\u001b[0;34m=\u001b[0m\u001b[0;34m'red'\u001b[0m\u001b[0;34m)\u001b[0m\u001b[0;34m\u001b[0m\u001b[0;34m\u001b[0m\u001b[0m\n\u001b[1;32m      3\u001b[0m \u001b[0mplt\u001b[0m\u001b[0;34m.\u001b[0m\u001b[0mplot\u001b[0m\u001b[0;34m(\u001b[0m\u001b[0mx_test\u001b[0m\u001b[0;34m[\u001b[0m\u001b[0;36m10\u001b[0m\u001b[0;34m:\u001b[0m\u001b[0;36m15\u001b[0m\u001b[0;34m,\u001b[0m\u001b[0;36m1\u001b[0m\u001b[0;34m:\u001b[0m\u001b[0;36m16202\u001b[0m\u001b[0;34m]\u001b[0m\u001b[0;34m,\u001b[0m\u001b[0;34m'o'\u001b[0m\u001b[0;34m,\u001b[0m \u001b[0mlabel\u001b[0m\u001b[0;34m=\u001b[0m\u001b[0;34m'Class label = C'\u001b[0m\u001b[0;34m,\u001b[0m \u001b[0mcolor\u001b[0m\u001b[0;34m=\u001b[0m\u001b[0;34m'blue'\u001b[0m\u001b[0;34m)\u001b[0m\u001b[0;34m\u001b[0m\u001b[0;34m\u001b[0m\u001b[0m\n\u001b[1;32m      4\u001b[0m \u001b[0mplt\u001b[0m\u001b[0;34m.\u001b[0m\u001b[0mplot\u001b[0m\u001b[0;34m(\u001b[0m\u001b[0mx_test\u001b[0m\u001b[0;34m[\u001b[0m\u001b[0;36m15\u001b[0m\u001b[0;34m:\u001b[0m\u001b[0;36m20\u001b[0m\u001b[0;34m,\u001b[0m\u001b[0;36m1\u001b[0m\u001b[0;34m:\u001b[0m\u001b[0;36m16202\u001b[0m\u001b[0;34m]\u001b[0m\u001b[0;34m,\u001b[0m\u001b[0;34m'o'\u001b[0m\u001b[0;34m,\u001b[0m \u001b[0mlabel\u001b[0m\u001b[0;34m=\u001b[0m\u001b[0;34m'Class label = C'\u001b[0m\u001b[0;34m,\u001b[0m \u001b[0mcolor\u001b[0m\u001b[0;34m=\u001b[0m\u001b[0;34m'black'\u001b[0m\u001b[0;34m)\u001b[0m\u001b[0;34m\u001b[0m\u001b[0;34m\u001b[0m\u001b[0m\n\u001b[1;32m      5\u001b[0m \u001b[0mplt\u001b[0m\u001b[0;34m.\u001b[0m\u001b[0mplot\u001b[0m\u001b[0;34m(\u001b[0m\u001b[0mx_test\u001b[0m\u001b[0;34m[\u001b[0m\u001b[0;36m20\u001b[0m\u001b[0;34m:\u001b[0m\u001b[0;36m28\u001b[0m\u001b[0;34m,\u001b[0m\u001b[0;36m1\u001b[0m\u001b[0;34m:\u001b[0m\u001b[0;36m16202\u001b[0m\u001b[0;34m]\u001b[0m\u001b[0;34m,\u001b[0m\u001b[0;34m'o'\u001b[0m\u001b[0;34m,\u001b[0m \u001b[0mlabel\u001b[0m\u001b[0;34m=\u001b[0m\u001b[0;34m'Class label = C'\u001b[0m\u001b[0;34m,\u001b[0m \u001b[0mcolor\u001b[0m\u001b[0;34m=\u001b[0m\u001b[0;34m'green'\u001b[0m\u001b[0;34m)\u001b[0m\u001b[0;34m\u001b[0m\u001b[0;34m\u001b[0m\u001b[0m\n",
            "\u001b[0;32m/usr/local/lib/python3.10/dist-packages/pandas/core/frame.py\u001b[0m in \u001b[0;36m__getitem__\u001b[0;34m(self, key)\u001b[0m\n\u001b[1;32m   3805\u001b[0m             \u001b[0;32mif\u001b[0m \u001b[0mself\u001b[0m\u001b[0;34m.\u001b[0m\u001b[0mcolumns\u001b[0m\u001b[0;34m.\u001b[0m\u001b[0mnlevels\u001b[0m \u001b[0;34m>\u001b[0m \u001b[0;36m1\u001b[0m\u001b[0;34m:\u001b[0m\u001b[0;34m\u001b[0m\u001b[0;34m\u001b[0m\u001b[0m\n\u001b[1;32m   3806\u001b[0m                 \u001b[0;32mreturn\u001b[0m \u001b[0mself\u001b[0m\u001b[0;34m.\u001b[0m\u001b[0m_getitem_multilevel\u001b[0m\u001b[0;34m(\u001b[0m\u001b[0mkey\u001b[0m\u001b[0;34m)\u001b[0m\u001b[0;34m\u001b[0m\u001b[0;34m\u001b[0m\u001b[0m\n\u001b[0;32m-> 3807\u001b[0;31m             \u001b[0mindexer\u001b[0m \u001b[0;34m=\u001b[0m \u001b[0mself\u001b[0m\u001b[0;34m.\u001b[0m\u001b[0mcolumns\u001b[0m\u001b[0;34m.\u001b[0m\u001b[0mget_loc\u001b[0m\u001b[0;34m(\u001b[0m\u001b[0mkey\u001b[0m\u001b[0;34m)\u001b[0m\u001b[0;34m\u001b[0m\u001b[0;34m\u001b[0m\u001b[0m\n\u001b[0m\u001b[1;32m   3808\u001b[0m             \u001b[0;32mif\u001b[0m \u001b[0mis_integer\u001b[0m\u001b[0;34m(\u001b[0m\u001b[0mindexer\u001b[0m\u001b[0;34m)\u001b[0m\u001b[0;34m:\u001b[0m\u001b[0;34m\u001b[0m\u001b[0;34m\u001b[0m\u001b[0m\n\u001b[1;32m   3809\u001b[0m                 \u001b[0mindexer\u001b[0m \u001b[0;34m=\u001b[0m \u001b[0;34m[\u001b[0m\u001b[0mindexer\u001b[0m\u001b[0;34m]\u001b[0m\u001b[0;34m\u001b[0m\u001b[0;34m\u001b[0m\u001b[0m\n",
            "\u001b[0;32m/usr/local/lib/python3.10/dist-packages/pandas/core/indexes/base.py\u001b[0m in \u001b[0;36mget_loc\u001b[0;34m(self, key, method, tolerance)\u001b[0m\n\u001b[1;32m   3807\u001b[0m                 \u001b[0;31m#  InvalidIndexError. Otherwise we fall through and re-raise\u001b[0m\u001b[0;34m\u001b[0m\u001b[0;34m\u001b[0m\u001b[0m\n\u001b[1;32m   3808\u001b[0m                 \u001b[0;31m#  the TypeError.\u001b[0m\u001b[0;34m\u001b[0m\u001b[0;34m\u001b[0m\u001b[0m\n\u001b[0;32m-> 3809\u001b[0;31m                 \u001b[0mself\u001b[0m\u001b[0;34m.\u001b[0m\u001b[0m_check_indexing_error\u001b[0m\u001b[0;34m(\u001b[0m\u001b[0mkey\u001b[0m\u001b[0;34m)\u001b[0m\u001b[0;34m\u001b[0m\u001b[0;34m\u001b[0m\u001b[0m\n\u001b[0m\u001b[1;32m   3810\u001b[0m                 \u001b[0;32mraise\u001b[0m\u001b[0;34m\u001b[0m\u001b[0;34m\u001b[0m\u001b[0m\n\u001b[1;32m   3811\u001b[0m \u001b[0;34m\u001b[0m\u001b[0m\n",
            "\u001b[0;32m/usr/local/lib/python3.10/dist-packages/pandas/core/indexes/base.py\u001b[0m in \u001b[0;36m_check_indexing_error\u001b[0;34m(self, key)\u001b[0m\n\u001b[1;32m   5923\u001b[0m             \u001b[0;31m# if key is not a scalar, directly raise an error (the code below\u001b[0m\u001b[0;34m\u001b[0m\u001b[0;34m\u001b[0m\u001b[0m\n\u001b[1;32m   5924\u001b[0m             \u001b[0;31m# would convert to numpy arrays and raise later any way) - GH29926\u001b[0m\u001b[0;34m\u001b[0m\u001b[0;34m\u001b[0m\u001b[0m\n\u001b[0;32m-> 5925\u001b[0;31m             \u001b[0;32mraise\u001b[0m \u001b[0mInvalidIndexError\u001b[0m\u001b[0;34m(\u001b[0m\u001b[0mkey\u001b[0m\u001b[0;34m)\u001b[0m\u001b[0;34m\u001b[0m\u001b[0;34m\u001b[0m\u001b[0m\n\u001b[0m\u001b[1;32m   5926\u001b[0m \u001b[0;34m\u001b[0m\u001b[0m\n\u001b[1;32m   5927\u001b[0m     \u001b[0;34m@\u001b[0m\u001b[0mcache_readonly\u001b[0m\u001b[0;34m\u001b[0m\u001b[0;34m\u001b[0m\u001b[0m\n",
            "\u001b[0;31mInvalidIndexError\u001b[0m: (slice(0, 5, None), slice(1, 16202, None))"
          ]
        }
      ]
    },
    {
      "cell_type": "code",
      "source": [
        "plt.plot(poly.pred,'o', label='Class label = [0],[1],[2],[3]', color='yellow','red','blue','black','green')\n",
        "plt.xlabel(\"Test data\")\n",
        "plt.legend(numpoints=1)"
      ],
      "metadata": {
        "id": "j084ZDQ_Il2m"
      },
      "execution_count": null,
      "outputs": []
    },
    {
      "cell_type": "code",
      "source": [
        "plt.plot(x_test[0:5,1:16202],'o', label='Class label = 0', color='yellow')\n",
        "plt.plot(x_test[5:10,1:16202],'o', label='Class label = 1', color='red')\n",
        "plt.plot(x_test[10:15,1:16202],'o', label='Class label = 2', color='blue')\n",
        "plt.plot(x_test[15:20,1:16202],'o', label='Class label = 3', color='black')\n",
        "plt.plot(x_test[28:29,1:16202],'o', label='Class label = 4', color='green')\n",
        "plt.xlabel(\"Test data\")\n",
        "plt.legend(numpoints=1)"
      ],
      "metadata": {
        "id": "f_Yk7UxGEwFx"
      },
      "execution_count": null,
      "outputs": []
    },
    {
      "cell_type": "code",
      "source": [
        "plt.plot(poly_pred)"
      ],
      "metadata": {
        "id": "ujfA6EaWECTW"
      },
      "execution_count": null,
      "outputs": []
    },
    {
      "cell_type": "code",
      "source": [
        "poly_accuracy = accuracy_score(y_test, poly_pred)\n",
        "poly_f1 = f1_score(y_test, poly_pred, average='weighted')\n",
        "print('Accuracy (Polynomial Kernel): ', \"%.2f\" % (poly_accuracy*100))\n",
        "print('F1 (Polynomial Kernel): ', \"%.2f\" % (poly_f1*100))\n"
      ],
      "metadata": {
        "id": "dIsDvIsc6vQY"
      },
      "execution_count": null,
      "outputs": []
    },
    {
      "cell_type": "code",
      "source": [
        "rbf_accuracy = accuracy_score(y_test, rbf_pred)\n",
        "rbf_f1 = f1_score(y_test, rbf_pred, average='weighted')\n",
        "print('Accuracy (RBF Kernel): ', \"%.2f\" % (rbf_accuracy*100))\n",
        "print('F1 (RBF Kernel): ', \"%.2f\" % (rbf_f1*100))"
      ],
      "metadata": {
        "id": "p9uYNb-06WKd"
      },
      "execution_count": null,
      "outputs": []
    },
    {
      "cell_type": "code",
      "source": [
        "from sklearn.svm import SVC\n",
        "model = SVC(kernel='poly', probability=True)\n",
        "model.fit(X, Y)"
      ],
      "metadata": {
        "id": "3JoaduqztUOY"
      },
      "execution_count": null,
      "outputs": []
    },
    {
      "cell_type": "code",
      "source": [
        "from tensorflow.keras.regularizers import l2\n",
        "from tensorflow.keras.models import Sequential\n",
        "from tensorflow.keras.layers import Dense\n",
        "\n"
      ],
      "metadata": {
        "id": "APtI948foSFV"
      },
      "execution_count": null,
      "outputs": []
    },
    {
      "cell_type": "code",
      "source": [
        "\n",
        "def build_model():\n",
        "  model = Sequential()\n",
        "  model.add(Dense(units = 64, activation='relu'))\n",
        "  model.add(Dense(units = 5), kernel_regularizer=l2(0.01))\n",
        "  model.add(activation('softmax'))\n",
        "  model.compile(loss='squared_hinge',\n",
        "              optimizer='adadelta',\n",
        "              metrics=['accuracy'])\n",
        "  model.fit(X, Y)\n",
        "  return model\n"
      ],
      "metadata": {
        "id": "sUHW8mmZoYt5"
      },
      "execution_count": null,
      "outputs": []
    },
    {
      "cell_type": "code",
      "source": [
        "# Building a Support Vector Machine on train data\n",
        "svc_model = SVC(C=.1, kernel='poly', degree=3, gamma=1)\n",
        "svc_model.fit(x_train, y_train)\n",
        "prediction = svc_model .predict(x_test)\n",
        "# check the accuracy on the training set\n",
        "print(svc_model.score(x_train, y_train))\n",
        "print(svc_model.score(x_test, y_test))"
      ],
      "metadata": {
        "id": "tk54OLiq3ez0"
      },
      "execution_count": null,
      "outputs": []
    }
  ],
  "metadata": {
    "colab": {
      "provenance": [],
      "gpuType": "T4",
      "mount_file_id": "1TTd5KbBrrHbc9yFY4lY-TbjD2uYuQ5rv",
      "authorship_tag": "ABX9TyOP44IAZ6pEEEToZsydKqjt",
      "include_colab_link": true
    },
    "kernelspec": {
      "display_name": "Python 3",
      "name": "python3"
    },
    "language_info": {
      "name": "python"
    },
    "accelerator": "GPU",
    "gpuClass": "standard"
  },
  "nbformat": 4,
  "nbformat_minor": 0
}